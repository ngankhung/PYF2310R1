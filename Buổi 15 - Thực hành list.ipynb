{
 "cells": [
  {
   "cell_type": "markdown",
   "id": "011431b9",
   "metadata": {},
   "source": [
    "# Thực hành List\n",
    "\n",
    "##### Chú ý: list một dãy số người ta còn gọi là một mảng\n",
    "\n",
    "### Bài 1"
   ]
  },
  {
   "cell_type": "markdown",
   "id": "61a90628",
   "metadata": {},
   "source": [
    "Viết hàm với đầu vào là một mảng, hãy tính và trả về giá trị trung bình của mảng"
   ]
  },
  {
   "cell_type": "code",
   "execution_count": 2,
   "id": "bcc197d5",
   "metadata": {},
   "outputs": [
    {
     "name": "stdout",
     "output_type": "stream",
     "text": [
      "4.333333333333333\n"
     ]
    }
   ],
   "source": [
    "def tinh_tb(L):\n",
    "    tong = 0\n",
    "    for i in L:\n",
    "        tong += i\n",
    "    return tong/len(L)\n",
    "    \n",
    "ketqua = tinh_tb([5,7,5,2,3,4])\n",
    "print(ketqua)\n"
   ]
  },
  {
   "cell_type": "markdown",
   "id": "30d26c1b",
   "metadata": {},
   "source": [
    "### Bài 2"
   ]
  },
  {
   "cell_type": "markdown",
   "id": "674ef26c",
   "metadata": {},
   "source": [
    "Viết hàm với đầu vào là một mảng, hãy tìm và trả về giá trị âm lớn nhất trong mảng"
   ]
  },
  {
   "cell_type": "code",
   "execution_count": 10,
   "id": "1a9cb505",
   "metadata": {},
   "outputs": [
    {
     "name": "stdout",
     "output_type": "stream",
     "text": [
      "-1\n",
      "0\n"
     ]
    }
   ],
   "source": [
    "### nếu không có giá trị âm thì trả về 0\n",
    "def tim_am_lon_nhat(L):\n",
    "    max_am = 0\n",
    "    for i in L:\n",
    "        if i < 0 and (max_am == 0 or i > max_am):\n",
    "            max_am = i\n",
    "    return max_am\n",
    "\n",
    "\n",
    "ketqua = tim_am_lon_nhat([7,4,-2,-6,-1])\n",
    "print(ketqua)\n",
    "\n",
    "ketqua = tim_am_lon_nhat([7,4,10,15,2])\n",
    "print(ketqua)\n",
    "            "
   ]
  },
  {
   "cell_type": "markdown",
   "id": "95cfaa74",
   "metadata": {},
   "source": [
    "### Bài 3"
   ]
  },
  {
   "cell_type": "markdown",
   "id": "5361a4b8",
   "metadata": {},
   "source": [
    "Viết hàm với giá trị đầu vào là một mảng, hãy sắp xếp và trả về mảng có độ lớn tăng dần"
   ]
  },
  {
   "cell_type": "code",
   "execution_count": 12,
   "id": "91ad4d5d",
   "metadata": {},
   "outputs": [
    {
     "name": "stdout",
     "output_type": "stream",
     "text": [
      "[1, 2, 3, 4, 4, 5]\n"
     ]
    }
   ],
   "source": [
    "def sap_xep(L):\n",
    "    do_dai_L = len(L)\n",
    "    for i in range(do_dai_L):\n",
    "        for j in range(do_dai_L-i-1):\n",
    "            if L[j] > L[j+1]:\n",
    "                L[j], L[j+1] = L[j+1], L[j]\n",
    "    return L\n",
    "\n",
    "ketqua = sap_xep([4,5,2,3,4,1])\n",
    "print(ketqua)\n",
    "    "
   ]
  },
  {
   "cell_type": "markdown",
   "id": "025cc0cb",
   "metadata": {},
   "source": [
    "### Bài 4"
   ]
  },
  {
   "cell_type": "markdown",
   "id": "dbf885a9",
   "metadata": {},
   "source": [
    "Viết hàm với giá trị đầu vào là một mảng, tìm x sao cho đoạn [-x,x] chứa tất cả các giá trị có trong mảng"
   ]
  },
  {
   "cell_type": "code",
   "execution_count": 15,
   "id": "84606ea2",
   "metadata": {},
   "outputs": [
    {
     "name": "stdout",
     "output_type": "stream",
     "text": [
      "10\n"
     ]
    }
   ],
   "source": [
    "def tim_x(L):\n",
    "    m = abs(L[0])\n",
    "    for i in L:\n",
    "        if abs(i) > m:\n",
    "            m = abs(i)\n",
    "    return m\n",
    "        \n",
    "\n",
    "\n",
    "ketqua = tim_x([5,7,-2,4,5,-1,7,-10])\n",
    "print(ketqua)"
   ]
  },
  {
   "cell_type": "markdown",
   "id": "98aa10b5",
   "metadata": {},
   "source": [
    "### Bài 5"
   ]
  },
  {
   "cell_type": "markdown",
   "id": "a7fe3092",
   "metadata": {},
   "source": [
    "Viết hàm với giá trị đầu vào là một mảng, Hãy tìm một vị trí trong mảng thỏa hai điền kiện: có hai giá trị lân cận và giá trị tại vị trí đó bằng tích hai giá trị lân cận. Nếu mảng không tồn tại giá trị như vậy thì hàm trả về giá trị - 1"
   ]
  },
  {
   "cell_type": "code",
   "execution_count": 3,
   "id": "9d55cb01",
   "metadata": {},
   "outputs": [
    {
     "name": "stdout",
     "output_type": "stream",
     "text": [
      "8\n",
      "vi tri 4\n"
     ]
    }
   ],
   "source": [
    "def tim_vi_tri(L):\n",
    "    n = len(L)\n",
    "    for i in range(1,n-1):\n",
    "        if L[i] == L[i-1] * L[i+1]:\n",
    "            print(n)\n",
    "            return i\n",
    "    return -1\n",
    "\n",
    "\n",
    "L = [4,6,7,2,8,4,1,6]\n",
    "ketqua = tim_vi_tri(L)\n",
    "print(\"vi tri\",ketqua)\n",
    "\n",
    "\n",
    "# L = [4,6,7,2,5,4,24,6]\n",
    "# ketqua = tim_vi_tri(L)\n",
    "# print(ketqua)"
   ]
  },
  {
   "cell_type": "code",
   "execution_count": 4,
   "id": "e18628d7-5462-4368-a8e3-5b2a96f0cfd1",
   "metadata": {},
   "outputs": [
    {
     "name": "stdout",
     "output_type": "stream",
     "text": [
      "vi tri 4\n"
     ]
    }
   ],
   "source": [
    "def tim_vi_tri(L):\n",
    "    for i in range(1,len(L)-1):\n",
    "        if L[i] == L[i-1] * L[i+1]:\n",
    "            return i\n",
    "    return -1\n",
    "\n",
    "L = [4,6,7,2,8,4,1,6]\n",
    "ketqua = tim_vi_tri(L)\n",
    "print(\"vi tri\",ketqua)"
   ]
  },
  {
   "cell_type": "markdown",
   "id": "035325d7",
   "metadata": {},
   "source": [
    "### Bài 6"
   ]
  },
  {
   "cell_type": "markdown",
   "id": "e2d35127",
   "metadata": {},
   "source": [
    "Viết hàm có giá trị đầu vào là một mảng. Hãy tìm giá trị đầu tiên trong mảng một chiều các số nguyên có chữ sốđầu tiên là chữ số lẻ. Nếu trong mảng không tồn tại giá trị như vậy thì hàm sẽ trả về giá trị 0."
   ]
  },
  {
   "cell_type": "code",
   "execution_count": 5,
   "id": "b8a8b8a2",
   "metadata": {},
   "outputs": [
    {
     "name": "stdout",
     "output_type": "stream",
     "text": [
      "237\n"
     ]
    }
   ],
   "source": [
    "def kiem_tra_chu_so_le(a):\n",
    "    for i in L:\n",
    "        if abs(i) % 2 == 1:\n",
    "            return i\n",
    "    return 0\n",
    "# ham kiểm tra xem a có chữ số đầu tiên là chữ số lẻ\n",
    "L = [246,237,156,379]\n",
    "ketqua = tim_so_le(L)\n",
    "print(ketqua)"
   ]
  },
  {
   "cell_type": "code",
   "execution_count": 24,
   "id": "49392143-61ae-4b05-a33d-0c390a9eee95",
   "metadata": {},
   "outputs": [
    {
     "name": "stdout",
     "output_type": "stream",
     "text": [
      "156\n"
     ]
    }
   ],
   "source": [
    "def kiem_tra_chu_so_le(a):\n",
    "    str_a = str(a)\n",
    "    chu_so_dau_tien = int(str_a[0])\n",
    "    if chu_so_dau_tien % 2 == 0:\n",
    "        return False\n",
    "    return True\n",
    "\n",
    "def ham(L):\n",
    "    for i in L:\n",
    "        if kiem_tra_chu_so_le(i):\n",
    "            return i\n",
    "    return 0\n",
    "    \n",
    "print(ham(L))\n"
   ]
  },
  {
   "cell_type": "markdown",
   "id": "da270d1a",
   "metadata": {},
   "source": [
    "### Bài 7"
   ]
  },
  {
   "cell_type": "markdown",
   "id": "079fdafe",
   "metadata": {},
   "source": [
    "Viết hàm có giá trị đầu vào là một mảng. Hãy tìm giá trị đầu tiên trong mảng có dạng 2^k. Nếu mảng không tồn tại giá trị dạng 2^k thì hàm sẽ trả về giá trị 0."
   ]
  },
  {
   "cell_type": "code",
   "execution_count": 23,
   "id": "f9311f33",
   "metadata": {},
   "outputs": [
    {
     "name": "stdout",
     "output_type": "stream",
     "text": [
      "Giá trị đầu tiên có dạng 2^k là: 0\n"
     ]
    }
   ],
   "source": [
    "#sai\n",
    "\n",
    "def tim_gia_tri_2muk(L):\n",
    "    for i in L:\n",
    "        while i % 2 == 0:\n",
    "            i /= 2\n",
    "        if i != 1:\n",
    "            return 0\n",
    "    return i\n",
    "\n",
    "\n",
    "mang = [3,8,4,16]\n",
    "ket_qua = tim_gia_tri_2muk(mang)\n",
    "print(\"Giá trị đầu tiên có dạng 2^k là:\", ket_qua)"
   ]
  },
  {
   "cell_type": "code",
   "execution_count": 31,
   "id": "5c593c12-f3dc-4d42-91f5-d4c445564067",
   "metadata": {},
   "outputs": [
    {
     "name": "stdout",
     "output_type": "stream",
     "text": [
      "False\n"
     ]
    }
   ],
   "source": [
    "L = [12,14,16,7\n",
    "     \n",
    "def kiem_tra_2_k(a):\n",
    "# kt a có phải là 1 hay không\n",
    "# b1: a là 1 return true\n",
    "# b2: a không phải là 1 kt a xem a có chia hết cho 2 hay không\n",
    "# b3: nếu a chía hết cho 2 => a = a // 2 => quay về b1\n",
    "# b4: a không chia hết cho 2 => return false\n",
    "    while a != 1:\n",
    "        elif a % 2 == 0:\n",
    "            a = a // 2\n",
    "        else:\n",
    "            return False\n",
    "    return True\n",
    "\n",
    "\n",
    "L = [12,14,16,7]\n",
    "\n",
    "# def ham(L):\n",
    "#     for i in L:\n",
    "#         if kiem_tra_chu_so_le(i):\n",
    "#             return i\n",
    "#     return 0\n",
    "    \n",
    "# print(ham(L))"
   ]
  },
  {
   "cell_type": "markdown",
   "id": "80c8ab17",
   "metadata": {},
   "source": [
    "### Bài 8"
   ]
  },
  {
   "cell_type": "markdown",
   "id": "47c3a2e2",
   "metadata": {},
   "source": [
    "Viết hàm có giá trị đầu vào là một mảng. Hãy tìm giá trị thỏa điều kiện toàn chữ số lẻ và là giá trị lớn nhất thỏa điều kiện ấy trong mảng (nếu mảng không có giá trị thỏa điều kiện trên thì hàm trả về giá trị 0)"
   ]
  },
  {
   "cell_type": "code",
   "execution_count": 42,
   "id": "f8740d98",
   "metadata": {},
   "outputs": [
    {
     "name": "stdout",
     "output_type": "stream",
     "text": [
      "9737\n"
     ]
    }
   ],
   "source": [
    "def tim_gia_tri_le(L):\n",
    "    max_le = 0\n",
    "    for i in L:\n",
    "        if i % 2 != 0:\n",
    "            if i > max_le:\n",
    "                max_le = i\n",
    "    return max_le\n",
    "        \n",
    "\n",
    "L = [1424,534,536,7539,135,9737,10000]\n",
    "ketqua = tim_gia_tri_le(L)\n",
    "print(ketqua)\n",
    "\n",
    "            "
   ]
  },
  {
   "cell_type": "code",
   "execution_count": 41,
   "id": "c29e3af0-cd37-4810-9116-447e7de8051d",
   "metadata": {},
   "outputs": [
    {
     "name": "stdout",
     "output_type": "stream",
     "text": [
      "7539\n"
     ]
    }
   ],
   "source": [
    "L = [1424,534,536,7539,135,5737,10000]\n",
    "# chuyển a sang chuỗi\n",
    "# lặp từng ký tự trong a\n",
    "# nếu có 1 ký tụ trong a là số chẵn ~~> trả về false\n",
    "# nếu không có ký tự nào trong a là số chẵn ~~> trả về true\n",
    "def kiem_tra_toan_le(a):\n",
    "    str_a = str(a)\n",
    "    for i in str_a:\n",
    "        if int(i) % 2 == 0:\n",
    "            return False\n",
    "    return True\n",
    "\n",
    "def ham(L):\n",
    "    max_le = 0\n",
    "    for i in L:\n",
    "        if kiem_tra_toan_le(i) and i > max_le:\n",
    "            max_le = i\n",
    "    return max_le\n",
    "print(ham(L))"
   ]
  },
  {
   "cell_type": "markdown",
   "id": "8a09bf26",
   "metadata": {},
   "source": [
    "### Bài 9"
   ]
  },
  {
   "cell_type": "markdown",
   "id": "09f9a4c6",
   "metadata": {},
   "source": [
    "Trong kỳ thi học sinh giỏi môn Tin học, một học sinh là người đạt giải đặc biệt. Ban tổ chức cho phép học sinh đó chọn các phần thưởng cho mình.\n",
    "\n",
    "Các phần thưởng xếp thành một dãy được đánh số từ 1 đến N (0 ≤ N ≤ 10000), phần thưởng thứ i có giá trị là Ai (1 ≤ Ai ≤ 100).\n",
    "\n",
    "Học sinh được phép chọn các phần thưởng cho mình theo nguyên tắc không chọn 3 phần thưởng liên tiếp nhau trong dãy.\n",
    "\n",
    "Viết chương trình để máy tính hướng dẫn học sinh đó chọn các phần thưởng sao cho tổng giá trị của các phần thưởng nhận được là lớn nhất.\n",
    "\n",
    "Nhập vào N, sau đó nhập n lần các giá trị Ai\n",
    "\n",
    "In ra giá trị lớn nhất học sinh được chọn, và các vị trí mà học sinh cần chọn để đạt được giá trị lớn nhất"
   ]
  },
  {
   "cell_type": "code",
   "execution_count": null,
   "id": "c350a1e9",
   "metadata": {},
   "outputs": [],
   "source": []
  }
 ],
 "metadata": {
  "kernelspec": {
   "display_name": "Python 3 (ipykernel)",
   "language": "python",
   "name": "python3"
  },
  "language_info": {
   "codemirror_mode": {
    "name": "ipython",
    "version": 3
   },
   "file_extension": ".py",
   "mimetype": "text/x-python",
   "name": "python",
   "nbconvert_exporter": "python",
   "pygments_lexer": "ipython3",
   "version": "3.11.3"
  }
 },
 "nbformat": 4,
 "nbformat_minor": 5
}
