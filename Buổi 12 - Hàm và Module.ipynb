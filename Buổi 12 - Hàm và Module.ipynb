{
 "cells": [
  {
   "cell_type": "markdown",
   "id": "73456e5e",
   "metadata": {},
   "source": [
    "# Hàm\n",
    "\n",
    "### Hàm\n",
    "\n",
    "Cú pháp:\n",
    "\n",
    "<code>def \\<tên hàm\\>(\\<tham số\\>):\n",
    "    //Nội dung hàm</code>\n",
    "\n",
    "Gọi hàm:\n",
    "<code>\\<tên hàm\\>(\\<giá trị đầu vào\\>)</code>\n",
    "\n",
    "Ví dụ:\n",
    "\n",
    "Hãy viết 1 hàm số để tính tổng 2 số đầu vào và in nó ra màn hình"
   ]
  },
  {
   "cell_type": "code",
   "execution_count": 1,
   "id": "af5b9f6d",
   "metadata": {},
   "outputs": [
    {
     "name": "stdout",
     "output_type": "stream",
     "text": [
      "3\n"
     ]
    }
   ],
   "source": [
    "def tong():\n",
    "    print(1+2)\n",
    "\n",
    "tong() #co the chay nhieu lan\n",
    "tong()\n",
    "tong()"
   ]
  },
  {
   "cell_type": "code",
   "execution_count": 2,
   "id": "85a60b2d-0a64-4942-9fad-c5256d60c2b0",
   "metadata": {},
   "outputs": [
    {
     "name": "stdout",
     "output_type": "stream",
     "text": [
      "hello\n",
      "hi\n"
     ]
    }
   ],
   "source": [
    "def inxinchao():\n",
    "    print(\"hello\")\n",
    "    print(\"hi\")\n",
    "\n",
    "inxinchao()"
   ]
  },
  {
   "cell_type": "code",
   "execution_count": 3,
   "id": "2cbe40d8-df5c-420f-968a-4cfdc6b51505",
   "metadata": {},
   "outputs": [
    {
     "name": "stdout",
     "output_type": "stream",
     "text": [
      "9\n",
      "25\n",
      "45\n"
     ]
    }
   ],
   "source": [
    "def tong(a,b):\n",
    "    print(a+b)\n",
    "\n",
    "tong(4,5)\n",
    "tong(10,15)\n",
    "tong(20,25)"
   ]
  },
  {
   "cell_type": "code",
   "execution_count": 4,
   "id": "aed0c894-75f7-4c52-a368-6cd4aad5149b",
   "metadata": {},
   "outputs": [
    {
     "name": "stdout",
     "output_type": "stream",
     "text": [
      "16\n",
      "400\n"
     ]
    }
   ],
   "source": [
    "# viet ham tính mũ, hàm có 1 tham số là a, hàm có công dụng tính và in ra a mũ 2\n",
    "# vi dụ gọi hàm mũ 2(4) in ra 16\n",
    "# goi hàm mũ 2(20) in ra 400\n",
    "\n",
    "def mu2(a):\n",
    "    print(a**2)\n",
    "\n",
    "mu2(4)\n",
    "mu2(20)"
   ]
  },
  {
   "cell_type": "code",
   "execution_count": 5,
   "id": "404f1b4f-63a9-4e9c-8543-a1df2bab20cf",
   "metadata": {},
   "outputs": [
    {
     "name": "stdout",
     "output_type": "stream",
     "text": [
      "60\n",
      "300\n"
     ]
    }
   ],
   "source": [
    "def tong(a,b):\n",
    "    print(a+b)\n",
    "\n",
    "a = 20\n",
    "b = 40\n",
    "tong(a,b)\n",
    "a= 100\n",
    "b = 200\n",
    "tong(a,b)"
   ]
  },
  {
   "cell_type": "code",
   "execution_count": 7,
   "id": "385727fc-af0d-4061-9eeb-6ccc2068991d",
   "metadata": {},
   "outputs": [
    {
     "name": "stdout",
     "output_type": "stream",
     "text": [
      "60\n",
      "a,b sau khi goi ham tong lan thu nhat: 20 40\n",
      "60\n"
     ]
    }
   ],
   "source": [
    "def tong(a,b):\n",
    "    a = a + b\n",
    "    print(a)\n",
    "\n",
    "a = 20\n",
    "b = 40\n",
    "tong(a,b)\n",
    "print(\"a,b sau khi goi ham tong lan thu nhat:\", a,b)\n",
    "tong(a,b)"
   ]
  },
  {
   "cell_type": "code",
   "execution_count": null,
   "id": "b64fe965-96e1-4ea0-b019-a4c49981eebd",
   "metadata": {},
   "outputs": [],
   "source": [
    "def tong(a,b):\n",
    "    ### a,b la tham so cua ham thi laf local\n",
    "    a = a + b\n",
    "    print(a)\n",
    "\n",
    "a = 20\n",
    "b = 40\n",
    "### a, b ben ngoai ham bien global\n",
    "tong(a,b)\n",
    "print(\"a,b sau khi goi ham tong lan thu nhat:\", a,b)\n",
    "tong(a,b)"
   ]
  },
  {
   "cell_type": "code",
   "execution_count": 9,
   "id": "1765a2d3-4cf3-49ab-889f-8bec77cd8943",
   "metadata": {},
   "outputs": [
    {
     "name": "stdout",
     "output_type": "stream",
     "text": [
      "60\n",
      "a,b sau khi goi ham tong lan thu nhat: 20 40\n"
     ]
    },
    {
     "ename": "NameError",
     "evalue": "name 'c' is not defined",
     "output_type": "error",
     "traceback": [
      "\u001b[1;31m---------------------------------------------------------------------------\u001b[0m",
      "\u001b[1;31mNameError\u001b[0m                                 Traceback (most recent call last)",
      "Cell \u001b[1;32mIn[9], line 11\u001b[0m\n\u001b[0;32m      9\u001b[0m tong(a,b)\n\u001b[0;32m     10\u001b[0m \u001b[38;5;28mprint\u001b[39m(\u001b[38;5;124m\"\u001b[39m\u001b[38;5;124ma,b sau khi goi ham tong lan thu nhat:\u001b[39m\u001b[38;5;124m\"\u001b[39m, a,b)\n\u001b[1;32m---> 11\u001b[0m \u001b[38;5;28mprint\u001b[39m(\u001b[38;5;124m\"\u001b[39m\u001b[38;5;124mc,d sau khi goi ham tong lan thu nhat:\u001b[39m\u001b[38;5;124m\"\u001b[39m, \u001b[43mc\u001b[49m,d)\n\u001b[0;32m     12\u001b[0m tong(a,b)\n",
      "\u001b[1;31mNameError\u001b[0m: name 'c' is not defined"
     ]
    }
   ],
   "source": [
    "def tong(c,d):\n",
    "    ### a,b la tham so cua ham thi laf local\n",
    "    c = c + d\n",
    "    print(c)\n",
    "\n",
    "a = 20\n",
    "b = 40\n",
    "### a, b ben ngoai ham bien global\n",
    "tong(a,b)\n",
    "print(\"a,b sau khi goi ham tong lan thu nhat:\", a,b)\n",
    "print(\"c,d sau khi goi ham tong lan thu nhat:\", c,d)\n",
    "tong(a,b)"
   ]
  },
  {
   "cell_type": "code",
   "execution_count": 11,
   "id": "b4e1b54a-4da3-4ef8-9001-e528abfd1444",
   "metadata": {},
   "outputs": [
    {
     "name": "stdout",
     "output_type": "stream",
     "text": [
      "60\n"
     ]
    }
   ],
   "source": [
    "def tong():\n",
    "    #neu a, b khong phai la tham so\n",
    "    #a,b khong phai la bien local\n",
    "    #co gang tim xem a,b co bien global hay ko\n",
    "    #neu phai thi su dung gia tri cua bien global do\n",
    "    print(a+b)\n",
    "\n",
    "a = 20\n",
    "b = 40\n",
    "tong()\n"
   ]
  },
  {
   "cell_type": "code",
   "execution_count": 13,
   "id": "f259ce63-6a20-4a29-86cd-43eb610f3ad4",
   "metadata": {},
   "outputs": [
    {
     "name": "stdout",
     "output_type": "stream",
     "text": [
      "70\n",
      "20\n"
     ]
    }
   ],
   "source": [
    "def tong():\n",
    "    a = 30\n",
    "    # vi khi ta khai bao 1 biên , gan gia trị cho 1 biến trong hàm thì biến đó sẽ là biến local\n",
    "    print(a+b)\n",
    "\n",
    "a = 20\n",
    "b = 40\n",
    "tong()\n",
    "print(a, \"sau khi goi ham tong)\n"
   ]
  },
  {
   "cell_type": "code",
   "execution_count": 16,
   "id": "56c97cf2-b327-42fb-b316-2f73d705f1c0",
   "metadata": {},
   "outputs": [
    {
     "ename": "UnboundLocalError",
     "evalue": "cannot access local variable 'a' where it is not associated with a value",
     "output_type": "error",
     "traceback": [
      "\u001b[1;31m---------------------------------------------------------------------------\u001b[0m",
      "\u001b[1;31mUnboundLocalError\u001b[0m                         Traceback (most recent call last)",
      "Cell \u001b[1;32mIn[16], line 7\u001b[0m\n\u001b[0;32m      5\u001b[0m a \u001b[38;5;241m=\u001b[39m \u001b[38;5;241m20\u001b[39m\n\u001b[0;32m      6\u001b[0m b \u001b[38;5;241m=\u001b[39m \u001b[38;5;241m40\u001b[39m\n\u001b[1;32m----> 7\u001b[0m \u001b[43mtong\u001b[49m\u001b[43m(\u001b[49m\u001b[43m)\u001b[49m\n",
      "Cell \u001b[1;32mIn[16], line 2\u001b[0m, in \u001b[0;36mtong\u001b[1;34m()\u001b[0m\n\u001b[0;32m      1\u001b[0m \u001b[38;5;28;01mdef\u001b[39;00m \u001b[38;5;21mtong\u001b[39m():\n\u001b[1;32m----> 2\u001b[0m     \u001b[38;5;28mprint\u001b[39m(\u001b[43ma\u001b[49m\u001b[38;5;241m+\u001b[39mb)\n\u001b[0;32m      3\u001b[0m     a \u001b[38;5;241m=\u001b[39m \u001b[38;5;241m30\u001b[39m\n",
      "\u001b[1;31mUnboundLocalError\u001b[0m: cannot access local variable 'a' where it is not associated with a value"
     ]
    }
   ],
   "source": [
    "def tong():\n",
    "    # dù cho việc khai báo biến (gán biến) được đặt ở vị trí nào trong hàm thì biến đó cũng là biến local\n",
    "    # nên khi sử dụng biến local trước khi khai báo -- sinh ra lỗi\n",
    "    print(a+b)\n",
    "    a = 30\n",
    "\n",
    "a = 20\n",
    "b = 40\n",
    "tong()\n",
    "\n"
   ]
  },
  {
   "cell_type": "code",
   "execution_count": 18,
   "id": "3c601db8-b51e-43f1-b8b9-7b3fb35be317",
   "metadata": {},
   "outputs": [
    {
     "name": "stdout",
     "output_type": "stream",
     "text": [
      "60\n",
      "a = 60\n"
     ]
    }
   ],
   "source": [
    "# mình muốn thay đổi giá trị biến global trong hàm thì làm như nào ?\n",
    "\n",
    "def tong():\n",
    "    global a\n",
    "    a = a + b\n",
    "    print(a)\n",
    "    \n",
    "a = 20\n",
    "b = 40\n",
    "tong()\n",
    "print(\"a =\", a)"
   ]
  },
  {
   "cell_type": "markdown",
   "id": "a7c39f47",
   "metadata": {},
   "source": [
    "### Giá trị trả về của hàm\n",
    "\n",
    "# return\n",
    "\n",
    "Cú pháp:\n",
    "\n",
    "`retrun <giá trị trả về>`\n",
    "\n",
    "##### Lưu ý: Sau khi thực hiện lệnh return, chương trình sẽ thoát khỏi hàm ngay lập tức (những lệnh sau đó không được thực hiện)\n",
    "\n",
    "Ví dụ:\n",
    "\n",
    "Hãy viết 1 hàm trả về giá trị trung bình của 2 số bất kỳ"
   ]
  },
  {
   "cell_type": "code",
   "execution_count": 19,
   "id": "0b527b95",
   "metadata": {},
   "outputs": [
    {
     "name": "stdout",
     "output_type": "stream",
     "text": [
      "60\n",
      "None\n"
     ]
    }
   ],
   "source": [
    "# mình muốn thay đổi giá trị biến global trong hàm thì làm như nào ?\n",
    "\n",
    "def tong():\n",
    "    global a\n",
    "    a = a + b\n",
    "    print(a)\n",
    "    \n",
    "a = 20\n",
    "b = 40\n",
    "ketqua = tong()\n",
    "print(ketqua)\n"
   ]
  },
  {
   "cell_type": "code",
   "execution_count": 20,
   "id": "fc0dd2f5-113c-4947-8dd9-b3fb1820f7d7",
   "metadata": {},
   "outputs": [
    {
     "name": "stdout",
     "output_type": "stream",
     "text": [
      "5\n"
     ]
    }
   ],
   "source": [
    "def tong(a,b):\n",
    "    return a + b\n",
    "    \n",
    "ketqua = tong(2,3)\n",
    "print(ketqua)"
   ]
  },
  {
   "cell_type": "code",
   "execution_count": 29,
   "id": "bd72c073-5480-46e8-a007-cc2febaa70c5",
   "metadata": {},
   "outputs": [
    {
     "ename": "IndentationError",
     "evalue": "unexpected indent (3326283170.py, line 5)",
     "output_type": "error",
     "traceback": [
      "\u001b[1;36m  Cell \u001b[1;32mIn[29], line 5\u001b[1;36m\u001b[0m\n\u001b[1;33m    return\u001b[0m\n\u001b[1;37m    ^\u001b[0m\n\u001b[1;31mIndentationError\u001b[0m\u001b[1;31m:\u001b[0m unexpected indent\n"
     ]
    }
   ],
   "source": [
    "def ham1(a):\n",
    "    if a > 10:\n",
    "        return True\n",
    "    print(\"a khong lon hon 10\")\n",
    "\n",
    "          \n",
    "ketqua = ham1(20)\n",
    "print(ketqua)\n",
    "    "
   ]
  },
  {
   "cell_type": "code",
   "execution_count": 30,
   "id": "e506d10c-9be2-46db-8eae-9439768fa900",
   "metadata": {},
   "outputs": [
    {
     "name": "stdout",
     "output_type": "stream",
     "text": [
      "a khong lon hon 10\n",
      "None\n"
     ]
    }
   ],
   "source": [
    "ketqua = ham1(5)\n",
    "print(ketqua)"
   ]
  },
  {
   "cell_type": "code",
   "execution_count": 31,
   "id": "6d957f02-bab2-4f0e-8ab1-162f50a27ad8",
   "metadata": {},
   "outputs": [],
   "source": [
    "def ham1(a):\n",
    "    tong = 0\n",
    "    for i in range(a):\n",
    "        tong += i\n",
    "        if i > 3:\n",
    "            return True\n",
    "    return tong\n"
   ]
  },
  {
   "cell_type": "code",
   "execution_count": 32,
   "id": "c4059013-99b5-4693-8005-b12797364b73",
   "metadata": {},
   "outputs": [
    {
     "name": "stdout",
     "output_type": "stream",
     "text": [
      "True\n"
     ]
    }
   ],
   "source": [
    "ketqua = ham1(10)\n",
    "print(ketqua)"
   ]
  },
  {
   "cell_type": "code",
   "execution_count": 33,
   "id": "da8bf7b5-9cc4-4281-9524-9809f6c008f0",
   "metadata": {},
   "outputs": [
    {
     "name": "stdout",
     "output_type": "stream",
     "text": [
      "6\n"
     ]
    }
   ],
   "source": [
    "ketqua = ham1(4)\n",
    "print(ketqua)"
   ]
  },
  {
   "cell_type": "code",
   "execution_count": 34,
   "id": "873ae80d-c094-4386-9d54-7fc1ba4ee6f3",
   "metadata": {},
   "outputs": [],
   "source": [
    "def tinhtrungbinh(a,b):\n",
    "    trung_binh = (a + b) / 2\n",
    "    return trung_binh"
   ]
  },
  {
   "cell_type": "code",
   "execution_count": null,
   "id": "6b5f8e47-bffb-4583-b6f7-4f0278e8a603",
   "metadata": {},
   "outputs": [],
   "source": [
    "def tinhtrungbinh(a,b):\n",
    "    return (a+b)/2"
   ]
  },
  {
   "cell_type": "code",
   "execution_count": 35,
   "id": "04fc0a90-e4c6-43e9-9067-2712170eb858",
   "metadata": {},
   "outputs": [
    {
     "name": "stdout",
     "output_type": "stream",
     "text": [
      "15.0\n"
     ]
    }
   ],
   "source": [
    "so1 = 10\n",
    "so2 = 20\n",
    "ketqua = tinhtrungbinh(so1,so2)\n",
    "print(ketqua)"
   ]
  },
  {
   "cell_type": "markdown",
   "id": "1d7f8db0",
   "metadata": {},
   "source": [
    "### Bài tập"
   ]
  },
  {
   "cell_type": "markdown",
   "id": "75fb488b",
   "metadata": {},
   "source": [
    "Viết hàm kiểm tra số nguyên tố"
   ]
  },
  {
   "cell_type": "code",
   "execution_count": 10,
   "id": "63701bd7",
   "metadata": {},
   "outputs": [],
   "source": [
    "#viet ham snta tra ve true neu a la snt, nguoc lai tra ve false\n",
    "\n",
    "def snt(a):\n",
    "    if a <= 1:\n",
    "        return False\n",
    "    for i in range(2, a):\n",
    "        if a % i == 0: \n",
    "            return False\n",
    "    return True\n"
   ]
  },
  {
   "cell_type": "code",
   "execution_count": null,
   "id": "3ac98169-7be2-4a55-a638-b4276214eda2",
   "metadata": {},
   "outputs": [],
   "source": [
    "def snt(a):\n",
    "    if a < 2:\n",
    "        return False\n",
    "    for i in range(2, a):\n",
    "        if a % i == 0: \n",
    "            return False\n",
    "    return True"
   ]
  },
  {
   "cell_type": "code",
   "execution_count": 12,
   "id": "d4f13b27-0389-470c-8a0a-aeb1cf317a36",
   "metadata": {},
   "outputs": [
    {
     "name": "stdout",
     "output_type": "stream",
     "text": [
      "False\n"
     ]
    }
   ],
   "source": [
    "ketqua = snt(15)\n",
    "print(ketqua)"
   ]
  },
  {
   "cell_type": "markdown",
   "id": "221103cf",
   "metadata": {},
   "source": [
    "Nhập vào 3 điểm toán, lý, hóa\n",
    "\n",
    "Hãy viết hàm in điểm trung bung bình rồi tính điểm trung bình của toán lý, toán hóa, lý hóa và toán lý hóa"
   ]
  },
  {
   "cell_type": "code",
   "execution_count": 33,
   "id": "1ba1d8ae",
   "metadata": {},
   "outputs": [],
   "source": [
    "def dtb2(a,b):\n",
    "    tb2 = (a + b) / 2\n",
    "    return tb2\n",
    "\n",
    "\n",
    "def dtb3(a,b,c):\n",
    "    tb3 = (a + b + c) / 3\n",
    "    return tb3\n"
   ]
  },
  {
   "cell_type": "code",
   "execution_count": null,
   "id": "72f9df72-f29f-4e70-9de0-5ec5ffded108",
   "metadata": {},
   "outputs": [],
   "source": [
    "def dtb3(a,b,c):\n",
    "    tb3 = (a + b + c) / 3\n",
    "    return tb3"
   ]
  },
  {
   "cell_type": "code",
   "execution_count": 35,
   "id": "601a3bf7-96df-4e2e-afc3-9cf3e2f19d05",
   "metadata": {},
   "outputs": [
    {
     "name": "stdin",
     "output_type": "stream",
     "text": [
      "nhap diem toan: 5\n",
      "nhap diem ly: 6\n",
      "nhap diem hoa: 3\n"
     ]
    },
    {
     "name": "stdout",
     "output_type": "stream",
     "text": [
      "diem trung binh toan ly  hoa=  4.666666666666667\n",
      "diem trung binh toan ly =  5.5\n",
      "diem trung binh toan hoa =  4.0\n",
      "diem trung binh ly hoa =  4.5\n"
     ]
    }
   ],
   "source": [
    "toan = float(input(\"nhap diem toan:\"))\n",
    "ly = float(input(\"nhap diem ly:\"))\n",
    "hoa = float(input(\"nhap diem hoa:\"))\n",
    "\n",
    "toan_ly_hoa = dtb3(toan,ly,hoa)\n",
    "print(\"diem trung binh toan ly  hoa= \",toan_ly_hoa)\n",
    "\n",
    "toan_ly = dtb2(toan,ly)\n",
    "print(\"diem trung binh toan ly = \",toan_ly)\n",
    "\n",
    "toan_hoa = dtb2(toan,hoa)\n",
    "print(\"diem trung binh toan hoa = \",toan_hoa)\n",
    "\n",
    "ly_hoa = dtb2(ly,hoa)\n",
    "print(\"diem trung binh ly hoa = \",ly_hoa)"
   ]
  },
  {
   "cell_type": "markdown",
   "id": "50f43307",
   "metadata": {},
   "source": [
    "Viết hàm đếm số lượng từ của một chuỗi đưa vào"
   ]
  },
  {
   "cell_type": "code",
   "execution_count": 45,
   "id": "be785b29",
   "metadata": {},
   "outputs": [
    {
     "name": "stdout",
     "output_type": "stream",
     "text": [
      "4\n"
     ]
    }
   ],
   "source": [
    "# viet ham demtu(chuoi) trả về số lượng từ\n",
    "\n",
    "def demtu(chuoi):\n",
    "    return chuoi.count(\" \") + 1\n",
    "print(demtu(\"xin chao cac ban\"))"
   ]
  },
  {
   "cell_type": "markdown",
   "id": "b4adef40",
   "metadata": {},
   "source": [
    "Viết một hàm vẽ hình tròn, một hàm vẽ hình vuông và một hàm vẽ hình tam giác đều (giá trị đầu vào là a)\n",
    "\n",
    "Tất cả hàm này, bắt đầu từ 1 vị trí, sau khi vẽ ra, con trỏ sẽ tiến tới vị trí tiếp theo, cách vì đầu một khoảng a + 10 theo chiều x từ trái sang"
   ]
  },
  {
   "cell_type": "code",
   "execution_count": null,
   "id": "e405d1d4",
   "metadata": {},
   "outputs": [],
   "source": []
  }
 ],
 "metadata": {
  "kernelspec": {
   "display_name": "Python 3 (ipykernel)",
   "language": "python",
   "name": "python3"
  },
  "language_info": {
   "codemirror_mode": {
    "name": "ipython",
    "version": 3
   },
   "file_extension": ".py",
   "mimetype": "text/x-python",
   "name": "python",
   "nbconvert_exporter": "python",
   "pygments_lexer": "ipython3",
   "version": "3.11.3"
  }
 },
 "nbformat": 4,
 "nbformat_minor": 5
}
