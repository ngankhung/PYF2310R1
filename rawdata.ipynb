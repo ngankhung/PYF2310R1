{
 "cells": [
  {
   "cell_type": "code",
   "execution_count": 2,
   "id": "6baf513d-d0c2-439b-98f3-ae0d6c521f36",
   "metadata": {},
   "outputs": [
    {
     "name": "stdout",
     "output_type": "stream",
     "text": [
      "Requirement already satisfied: requests in c:\\users\\admin\\appdata\\local\\programs\\python\\python311\\lib\\site-packages (2.31.0)\n",
      "Requirement already satisfied: charset-normalizer<4,>=2 in c:\\users\\admin\\appdata\\local\\programs\\python\\python311\\lib\\site-packages (from requests) (3.3.1)\n",
      "Requirement already satisfied: idna<4,>=2.5 in c:\\users\\admin\\appdata\\local\\programs\\python\\python311\\lib\\site-packages (from requests) (3.4)\n",
      "Requirement already satisfied: urllib3<3,>=1.21.1 in c:\\users\\admin\\appdata\\local\\programs\\python\\python311\\lib\\site-packages (from requests) (2.0.7)\n",
      "Requirement already satisfied: certifi>=2017.4.17 in c:\\users\\admin\\appdata\\local\\programs\\python\\python311\\lib\\site-packages (from requests) (2023.7.22)\n"
     ]
    },
    {
     "name": "stderr",
     "output_type": "stream",
     "text": [
      "\n",
      "[notice] A new release of pip available: 22.3.1 -> 23.3.1\n",
      "[notice] To update, run: python.exe -m pip install --upgrade pip\n"
     ]
    }
   ],
   "source": [
    "!pip install requests"
   ]
  },
  {
   "cell_type": "code",
   "execution_count": null,
   "id": "26c138fc-5f15-4164-8f5b-69b0cd7eb8b7",
   "metadata": {},
   "outputs": [],
   "source": [
    "import requests\n",
    "\n",
    "D_thong_tin_nha = {}\n",
    "\n",
    "count = 0\n",
    "\n",
    "while True:\n",
    "    count += 1\n",
    "    response =  requests.get(\"https://batdongsan.vn/ban-nha-ho-chi-minh/p\" + str(count))\n",
    "\n",
    "    noidung = response.text\n",
    "    \n",
    "    if \"Chưa có dữ liệu.\" in noidung or count == 50:\n",
    "        break\n",
    "\n",
    "    vt = noidung.find('<div class=\"project-global-object-block-002 realestate-post-list-custom block-custom\">')\n",
    "\n",
    "    noidung = noidung[vt:]\n",
    "\n",
    "    ### thu thập những thẻ html ~~> đưa vào trong 1 list\n",
    "\n",
    "    L_the_html = []\n",
    "\n",
    "    ### L_the_html = [\"<!DOCTYPE html\",\"<html id=\"reslestate-search\" lang=\"vi\">\",...]\n",
    "\n",
    "    ### code javascript nó sẽ nằm giữa thẻ <script> và thẻ <script>\n",
    "\n",
    "    for i in range(len(noidung)):\n",
    "        if noidung[i] == \"<\":\n",
    "            start = i\n",
    "        elif noidung[i] == \">\":\n",
    "            the = noidung[start:i+1]\n",
    "            if the not in L_the_html:\n",
    "                L_the_html.append(the)\n",
    "\n",
    "    for the in L_the_html:\n",
    "        noidung = noidung.replace(the,\"\")\n",
    "\n",
    "    # print(L_the_html)\n",
    "\n",
    "    def laythongtin(noidung):\n",
    "        noidung = noidung.strip()\n",
    "        vt = noidung.find(\"\\n\")\n",
    "        tieude = noidung[:vt]\n",
    "        noidung = noidung[vt:]\n",
    "        noidung = noidung.strip()\n",
    "        vt = noidung.find(\"        \")\n",
    "        gia = noidung[:vt]\n",
    "        D_thong_tin_nha[tieude] = gia\n",
    "\n",
    "    noidung = noidung.strip()\n",
    "    vt = noidung.find(\"\\n\")\n",
    "    noidung = noidung[vt:]\n",
    "    noidung = noidung.strip()\n",
    "    vt = noidung.find(\"\\n\")\n",
    "    noidung = noidung[vt:]\n",
    "    noidung = noidung.strip()\n",
    "\n",
    "    for i in range(20):\n",
    "        laythongtin(noidung)\n",
    "        vt = noidung.find(\"Lưu tin\")\n",
    "        noidung = noidung[vt+7:]\n",
    "\n",
    "for key in D_thong_tin_nha:\n",
    "    print(key,\":\",D_thong_tin_nha[key])"
   ]
  },
  {
   "cell_type": "code",
   "execution_count": null,
   "id": "f33c21be-1418-4e56-9193-c1e0f75c9f84",
   "metadata": {},
   "outputs": [],
   "source": []
  }
 ],
 "metadata": {
  "kernelspec": {
   "display_name": "Python 3 (ipykernel)",
   "language": "python",
   "name": "python3"
  },
  "language_info": {
   "codemirror_mode": {
    "name": "ipython",
    "version": 3
   },
   "file_extension": ".py",
   "mimetype": "text/x-python",
   "name": "python",
   "nbconvert_exporter": "python",
   "pygments_lexer": "ipython3",
   "version": "3.11.3"
  }
 },
 "nbformat": 4,
 "nbformat_minor": 5
}
