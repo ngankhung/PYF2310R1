{
 "cells": [
  {
   "cell_type": "markdown",
   "id": "5761f2a7",
   "metadata": {},
   "source": [
    "Hãy kiểm tra mảng số nguyên có tồn tại hai giá trị không liên tiếp hay không ?"
   ]
  },
  {
   "cell_type": "code",
   "execution_count": 16,
   "id": "a0acf4b7",
   "metadata": {},
   "outputs": [
    {
     "name": "stdout",
     "output_type": "stream",
     "text": [
      "False\n",
      "True\n"
     ]
    }
   ],
   "source": [
    "def kiem_tra_khong(L):\n",
    "    ## trả về true nếu list L có 2 giá trị 0 liên tiếp\n",
    "    ## trả vể false nếu list L không có 2 giá trị 0 liên tiếp\n",
    "    for i in range(len(L)-1):\n",
    "        if L[i] == 0 and L[i+1] == 0:\n",
    "            return True\n",
    "    return False\n",
    "    \n",
    "print(kiem_tra_khong([5,7,2,4,5,0]))\n",
    "print(kiem_tra_khong([5,7,2,0,0,6,7]))"
   ]
  },
  {
   "cell_type": "code",
   "execution_count": 17,
   "id": "7b6a6ac6-c549-4a5b-aea6-9621038f3d41",
   "metadata": {},
   "outputs": [
    {
     "name": "stdout",
     "output_type": "stream",
     "text": [
      "False\n",
      "True\n"
     ]
    }
   ],
   "source": [
    "def kiem_tra_khong(L):\n",
    "    for i in range(len(L)-1):\n",
    "        if L[i] == L[i+1] == 0:\n",
    "            return True\n",
    "    return False\n",
    "\n",
    "print(kiem_tra_khong([5,7,2,4,5,0]))\n",
    "print(kiem_tra_khong([5,7,2,0,0,6,7]))"
   ]
  },
  {
   "cell_type": "markdown",
   "id": "ae867e74",
   "metadata": {},
   "source": [
    "Hãy kiểm tra mảng số nguyên có tồn tại giá trị chẵn hay không? Nếu không tồn tại giá trị chẵn trả về giá trị 0, hay ngược lại trả về 1."
   ]
  },
  {
   "cell_type": "code",
   "execution_count": 19,
   "id": "1abdd057",
   "metadata": {},
   "outputs": [
    {
     "name": "stdout",
     "output_type": "stream",
     "text": [
      "0\n",
      "1\n"
     ]
    }
   ],
   "source": [
    "def kiem_tra_chan(L):\n",
    "    ## trong list L có số chẵn ~~> trả về True\n",
    "    ## ngược lại trả về false\n",
    "    for i in L:\n",
    "        if i % 2 == 0:\n",
    "            return 1\n",
    "    return 0\n",
    "print(kiem_tra_chan([1,3,13,15,17]))\n",
    "print(kiem_tra_chan([1,3,8,15,17]))"
   ]
  },
  {
   "cell_type": "markdown",
   "id": "5a49eda8",
   "metadata": {},
   "source": [
    "Hãy cho biết mảng các số nguyên có toàn số chẵn hay không? Nếu có tồn tại giá trị lẻ trả về giá trị 0, ngược lại trả về 1."
   ]
  },
  {
   "cell_type": "code",
   "execution_count": 27,
   "id": "9b4d2f7d",
   "metadata": {},
   "outputs": [
    {
     "name": "stdout",
     "output_type": "stream",
     "text": [
      "0\n",
      "1\n"
     ]
    }
   ],
   "source": [
    "def kiem_tra_toan_chan(L):\n",
    "    ## trong list L toàn số chẵn ~~> trả về True\n",
    "    ## ngược lại trả về false\n",
    "    for i in L:\n",
    "        if i % 2 != 0:\n",
    "            return 0\n",
    "    return 1\n",
    "\n",
    "print(kiem_tra_toan_chan([2,4,6,8,17]))\n",
    "print(kiem_tra_toan_chan([2,4,8,12,20]))"
   ]
  },
  {
   "cell_type": "code",
   "execution_count": null,
   "id": "6d8165d4-4370-46dc-8641-ebf09aa97aed",
   "metadata": {},
   "outputs": [],
   "source": [
    "def kiem_tra_toan_chan(L):\n",
    "    ## trong list L toàn số chẵn ~~> trả về True\n",
    "    ## ngược lại trả về false\n",
    "    for i in L:\n",
    "        if i % 2 == 1:\n",
    "            return False\n",
    "    return True\n",
    "\n",
    "print(kiem_tra_toan_chan([2,4,6,8,17]))\n",
    "print(kiem_tra_toan_chan([2,4,8,12,20]))"
   ]
  },
  {
   "cell_type": "markdown",
   "id": "a736df1e",
   "metadata": {},
   "source": [
    "Hãy kiểm tra mảng một chiều các số thực có đối xứng hay không?"
   ]
  },
  {
   "cell_type": "code",
   "execution_count": 29,
   "id": "c360bf6e",
   "metadata": {},
   "outputs": [
    {
     "name": "stdout",
     "output_type": "stream",
     "text": [
      "True\n",
      "False\n"
     ]
    }
   ],
   "source": [
    "def kiem_tra_bang_nhau(L):\n",
    "    for i in range(1,len(L)-1):\n",
    "        if L[i] != L[i+1]:\n",
    "            return False\n",
    "    return True\n",
    "\n",
    "print(kiem_tra_bang_nhau([2,2,2,2,2]))\n",
    "print(kiem_tra_bang_nhau([2,2,5,2,2]))"
   ]
  },
  {
   "cell_type": "code",
   "execution_count": null,
   "id": "b3affa68-b269-499b-9633-5303f10a90c1",
   "metadata": {},
   "outputs": [],
   "source": [
    "def kiem_tra_doi_xung(L):\n",
    "    for i in range(len(L)//2):\n",
    "        if L[i] != L[-i-1]:\n",
    "            return False\n",
    "    return True\n",
    "\n",
    "print(kiem_tra_doi_xung([1,2,3,3,2,1]))\n",
    "print(kiem_tra_doi_xung([1,3,2,3,2,1]))"
   ]
  },
  {
   "cell_type": "markdown",
   "id": "975b9821",
   "metadata": {},
   "source": [
    "Ta định nghĩa một mảng có tính chẵn lẻ, khi tổng của hai phần tử liên tiếp trong mảng luôn luôn là số lẻ. Hãy viết hàm kiểm tra mảng a có tính chẵn lẻ hay không?"
   ]
  },
  {
   "cell_type": "code",
   "execution_count": 40,
   "id": "7ec6108e",
   "metadata": {},
   "outputs": [
    {
     "name": "stdout",
     "output_type": "stream",
     "text": [
      "True\n",
      "False\n"
     ]
    }
   ],
   "source": [
    "def kiem_tra_chan_le(L):\n",
    "    ## kt nếu 2 số bất kỳ cạnh nhau cộng lại ra lẻ ~~? false\n",
    "    ## nếu không có 2 số bất kỳ nào như vậy ~~> true\n",
    "    for i in range(len(L)-1):\n",
    "        if (L[i] + L[i+1]) % 2 != 1:\n",
    "            return False\n",
    "    return True\n",
    "\n",
    "print(kiem_tra_chan_le([1,2,7,4,9,8]))\n",
    "print(kiem_tra_chan_le([1,2,8,4,9,8]))\n",
    "        "
   ]
  },
  {
   "cell_type": "code",
   "execution_count": 43,
   "id": "ab6a9914-8004-4f80-bf7c-6ac00f30cdc8",
   "metadata": {},
   "outputs": [
    {
     "name": "stdout",
     "output_type": "stream",
     "text": [
      "True\n",
      "False\n"
     ]
    }
   ],
   "source": [
    "def kiem_tra(L):\n",
    "    for i in range(len(L)-1):\n",
    "        if (L[i] + L[i+1]) % 2 == 0:\n",
    "            return False\n",
    "    return True\n",
    "\n",
    "print(kiem_tra_chan_le([1,2,7,4,9,8]))\n",
    "print(kiem_tra_chan_le([1,2,8,4,9,8]))"
   ]
  },
  {
   "cell_type": "markdown",
   "id": "434a04e0",
   "metadata": {},
   "source": [
    "Hãy kiểm tra mảng có tăng dần hay không?"
   ]
  },
  {
   "cell_type": "code",
   "execution_count": 45,
   "id": "ba375910",
   "metadata": {},
   "outputs": [
    {
     "name": "stdout",
     "output_type": "stream",
     "text": [
      "True\n",
      "False\n"
     ]
    }
   ],
   "source": [
    "def kiem_tra_tang_dan(L):\n",
    "    for i in range(len(L)-1):\n",
    "        if L[i] > L[i+1]:\n",
    "            return False\n",
    "    return True\n",
    "\n",
    "print(kiem_tra_tang_dan([5,9,12,15,20]))\n",
    "print(kiem_tra_tang_dan([5,9,8,15,20]))"
   ]
  },
  {
   "cell_type": "markdown",
   "id": "2dca9538",
   "metadata": {},
   "source": [
    "Hãy kiểm tra mảng có giảm dần hay không?"
   ]
  },
  {
   "cell_type": "code",
   "execution_count": null,
   "id": "eb5154cc",
   "metadata": {},
   "outputs": [],
   "source": [
    "def kiem_tra_giam_dan(L):\n",
    "    for i in range(len(L)-1):\n",
    "        if L[i] < L[i+1]:\n",
    "            return False\n",
    "    return True\n",
    "\n",
    "print(kiem_tra_giam_dan([5,9,12,15,20]))\n",
    "print(kiem_tra_giam_dan([5,9,8,15,20]))\n",
    "print(kiem_tra_giam_dan([54,24,23,20,15]))"
   ]
  },
  {
   "cell_type": "markdown",
   "id": "24dd211d",
   "metadata": {},
   "source": [
    "Hãy cho biết các phần tử trong mảng có lập thành cấp số cộng không? Nếu có hãy chỉ ra công sai đó"
   ]
  },
  {
   "cell_type": "code",
   "execution_count": 57,
   "id": "e9dda389",
   "metadata": {},
   "outputs": [
    {
     "name": "stdout",
     "output_type": "stream",
     "text": [
      "6\n",
      "False\n"
     ]
    }
   ],
   "source": [
    "def kiem_tra_cap_so_cong(L):\n",
    "    ## nếu là cấp số cộng thì trả về công sai (khoảng cách giũa 2 số)\n",
    "    ## nếu không là cấp số cộng thì trả về false  \n",
    "    cong_sai = L[1] - L[0]\n",
    "    for i in range(1,len(L)-1):\n",
    "        if L[i] - L[i-1] != cong_sai:\n",
    "            return False\n",
    "    return cong_sai\n",
    "\n",
    "print(kiem_tra_cap_so_cong([1,7,13,19]))\n",
    "print(kiem_tra_cap_so_cong([4,9,2,3,4]))\n"
   ]
  },
  {
   "cell_type": "code",
   "execution_count": null,
   "id": "371a0aa4-455e-47b1-bb04-f0d11425a523",
   "metadata": {},
   "outputs": [],
   "source": [
    "def kiem_tra_cap_so_cong(L):\n",
    "    ## nếu là cấp số cộng thì trả về công sai (khoảng cách giũa 2 số)\n",
    "    ## nếu không là cấp số cộng thì trả về false  \n",
    "    cong_sai = L[1] - L[0]\n",
    "    for i in range(1,len(L)-1):\n",
    "        if L[i+1] - L[i] != cong_sai:\n",
    "            return False\n",
    "    return cong_sai"
   ]
  },
  {
   "cell_type": "code",
   "execution_count": null,
   "id": "a3085ea2-1972-44ff-8027-8d30ee9aa00c",
   "metadata": {},
   "outputs": [],
   "source": [
    "def cap_so_cong(L):\n",
    "    for i in range(len(L)-2):\n",
    "        if L[i+1] - L[i] != L[i+2] - L[i+1]:\n",
    "            return False\n",
    "    return L[i+1] - L[i]"
   ]
  },
  {
   "cell_type": "markdown",
   "id": "19be5057",
   "metadata": {},
   "source": [
    "Hãy cho biết các phần tử trong mảng có bằng nhau không?"
   ]
  },
  {
   "cell_type": "code",
   "execution_count": 4,
   "id": "1ff05a5d",
   "metadata": {},
   "outputs": [
    {
     "name": "stdout",
     "output_type": "stream",
     "text": [
      "True\n",
      "False\n"
     ]
    }
   ],
   "source": [
    "def kiem_tra_bang_nhau(L):\n",
    "    for i in range(1,len(L)-1):\n",
    "        if L[i] != L[i-1]:\n",
    "            return False\n",
    "    return True\n",
    "\n",
    "print(kiem_tra_bang_nhau([2,2,2,2,2]))\n",
    "print(kiem_tra_bang_nhau([2,2,5,2,2]))"
   ]
  },
  {
   "cell_type": "code",
   "execution_count": 6,
   "id": "bc16bf79-34e6-4215-8b53-32e63a6864aa",
   "metadata": {},
   "outputs": [
    {
     "name": "stdout",
     "output_type": "stream",
     "text": [
      "True\n",
      "False\n"
     ]
    }
   ],
   "source": [
    "def kiem_tra_bang_nhau(L):\n",
    "    for i in range(1,len(L)-1):\n",
    "        if L[i] != L[i+1]:\n",
    "            return False\n",
    "    return True\n",
    "\n",
    "print(kiem_tra_bang_nhau([2,2,2,2,2]))\n",
    "print(kiem_tra_bang_nhau([2,2,5,2,2]))"
   ]
  },
  {
   "cell_type": "markdown",
   "id": "58268599",
   "metadata": {},
   "source": [
    "Người ta định nghĩa một mảng được gọi là “dạng sóng” khi phần tử có giá trị số I lớn hơn hoặc nhỏ hơn hai phần tử xung quanh nó. Hãy viết hàm kiểm tra trong a sóng hay không?"
   ]
  },
  {
   "cell_type": "code",
   "execution_count": 16,
   "id": "1572fb15",
   "metadata": {},
   "outputs": [
    {
     "name": "stdout",
     "output_type": "stream",
     "text": [
      "True\n",
      "False\n"
     ]
    }
   ],
   "source": [
    "def kiem_tra_dang_song(L):\n",
    "    ### độ dài của list = 1 ~~> return True\n",
    "    ### độ dai của list = 2 ~~> 2 phần tử bằng nhau ~~> return false / 2 phần tử khác nhau ~~> return True\n",
    "    if len(L) == 1:\n",
    "        return True\n",
    "    if len(L) == 2:\n",
    "        if L[0] == L[1]:\n",
    "            return False\n",
    "        return True\n",
    "    for i in range(1,len(L)-1):\n",
    "        if not (L[i] > L[i-1] and L[i] > L[i+1]) and not (L[i] < L[i-1] and L[i] < L[i+1]):\n",
    "            return False\n",
    "    return True\n",
    "\n",
    "print(kiem_tra_dang_song([1,7,3,9,5,10,5,7]))\n",
    "print(kiem_tra_dang_song([1,3,7,4,5,3]))\n"
   ]
  },
  {
   "cell_type": "code",
   "execution_count": 21,
   "id": "89856569-f4ae-4dea-a0e0-b4faa96b1766",
   "metadata": {},
   "outputs": [
    {
     "name": "stdout",
     "output_type": "stream",
     "text": [
      "False\n",
      "False\n"
     ]
    }
   ],
   "source": [
    "def kiem_tra_dang_song(L):\n",
    "    ### độ dài của list = 1 ~~> return True\n",
    "    ### độ dai của list = 2 ~~> 2 phần tử bằng nhau ~~> return false / 2 phần tử khác nhau ~~> return True\n",
    "    if len(L) == 1:\n",
    "        return True\n",
    "    if len(L) == 2:\n",
    "        if L[0] == L[1]:\n",
    "            return False\n",
    "        return True\n",
    "    for i in range(1,len(L)-1):\n",
    "        if not (L[i-1] > L[i] < L[i] > L[i+1]) or (L[i-1] < L[i] > L[i+1]):\n",
    "            return False\n",
    "    return True\n",
    "\n",
    "print(kiem_tra_dang_song([1,7,3,9,5,10,5,7]))\n",
    "print(kiem_tra_dang_song([1,3,7,4,5,3]))"
   ]
  },
  {
   "cell_type": "markdown",
   "id": "3a06a75d",
   "metadata": {},
   "source": [
    "Hãy đếm số lượng giá trị trong mảng thỏa tính chất: “lớn hơn tất cả các giá trị đứng đằng trước nó”"
   ]
  },
  {
   "cell_type": "code",
   "execution_count": 41,
   "id": "33f9e4a3",
   "metadata": {},
   "outputs": [
    {
     "name": "stdout",
     "output_type": "stream",
     "text": [
      "3\n"
     ]
    }
   ],
   "source": [
    "def kiem_tra_gia_tri(L,i):\n",
    "    ## kt xem giá trị tại i có lớn hơn tất cả các giá trị đằng trước nó hay ko\n",
    "    ## nếu có trả về true, nếu không trả false\n",
    "    for j in range(i):\n",
    "        if L[j] >= L[i]:\n",
    "            return False\n",
    "    return True\n",
    "def dem_gia_tri_lon(L):\n",
    "    dem = 0\n",
    "    for i in range(len(L)):\n",
    "        if kiem_tra_gia_tri(L,i):\n",
    "            dem += 1\n",
    "    return dem\n",
    "\n",
    "print(dem_gia_tri_lon([5,7,2,15,5,7,15])) "
   ]
  },
  {
   "cell_type": "markdown",
   "id": "09720f79",
   "metadata": {},
   "source": [
    "Hãy trộn hai mảng tăng dần lại thành 1 mảng được sắp thứ tự tăng dần"
   ]
  },
  {
   "cell_type": "code",
   "execution_count": 5,
   "id": "d91a0d7c",
   "metadata": {},
   "outputs": [
    {
     "name": "stdout",
     "output_type": "stream",
     "text": [
      "3\n",
      "5\n",
      "7\n",
      "9\n",
      "4\n",
      "4\n",
      "6\n",
      "8\n",
      "10\n",
      "4\n"
     ]
    }
   ],
   "source": [
    "#chua sua\n",
    "\n",
    "def tron_mang(L1,L2):\n",
    "    ket_hop = []\n",
    "    i = j = 0\n",
    "    while i < len(L1) and j < len(L2):\n",
    "        if L[i] < L[j]:\n",
    "            ket_hop.append(L1[i])\n",
    "            i += 1\n",
    "        else:\n",
    "            ket_hop.append(L2[j])\n",
    "            j += 1\n",
    "    return ket_hop\n",
    "\n",
    "print(dem_so_gia_tri_lon([1,3,5,7,9]))\n",
    "print(dem_so_gia_tri_lon([2,4,6,8,10]))"
   ]
  },
  {
   "cell_type": "markdown",
   "id": "c2a03df7",
   "metadata": {},
   "source": [
    "Hãy đưa các số chẵn trong mảng về đầu mảng, số lẻ về cuối mảng và các phần tử 0 nằm ở giữa"
   ]
  },
  {
   "cell_type": "code",
   "execution_count": 3,
   "id": "0349b1ad-c559-4bae-9e27-772e1e34158e",
   "metadata": {},
   "outputs": [
    {
     "name": "stdout",
     "output_type": "stream",
     "text": [
      "[2, 4, 0, 0, 0, 5, 7, 3, 5, 7]\n"
     ]
    }
   ],
   "source": [
    "def sap_xep_mang(L):\n",
    "    so_chan = []\n",
    "    so_le = []\n",
    "    so_0 = []\n",
    "\n",
    "    for i in L:\n",
    "        if i == 0:\n",
    "            so_0.append(i)\n",
    "        elif i % 2 == 0:\n",
    "            so_chan.append(i)\n",
    "        else:\n",
    "            so_le.append(i)\n",
    "\n",
    "    return so_chan + so_0 + so_le\n",
    "    \n",
    "print(sap_xep_mang([5,7,0,2,3,4,5,0,0,7]))"
   ]
  },
  {
   "cell_type": "markdown",
   "id": "88a5356c",
   "metadata": {},
   "source": [
    "Hãy đưa các số chia hết cho 3 về đầu mảng"
   ]
  },
  {
   "cell_type": "code",
   "execution_count": 43,
   "id": "2015e143",
   "metadata": {},
   "outputs": [
    {
     "name": "stdout",
     "output_type": "stream",
     "text": [
      "[3, 6, 9, 12, 2, 5, 8]\n"
     ]
    }
   ],
   "source": [
    "def kiem_tra_chia_het_cho_3(L):\n",
    "    dem = 0\n",
    "    for i in range(len(L)):\n",
    "        if L[i] % 3 == 0:\n",
    "            L[i], L[dem] = L[dem], L[i]\n",
    "            dem += 1\n",
    "    return L\n",
    "\n",
    "print(kiem_tra_chia_het_cho_3([3,6,9,2,12,5,8]))"
   ]
  },
  {
   "cell_type": "code",
   "execution_count": null,
   "id": "74e109d9-b7e9-44c5-9137-29cbc98ec6e9",
   "metadata": {},
   "outputs": [],
   "source": []
  },
  {
   "cell_type": "markdown",
   "id": "873d2a46",
   "metadata": {},
   "source": [
    "Hãy xuất mảng theo yêu cầu: các phần tử chẵn nằm trên một hàng, các phần tử lẻ nằm ở hàng tiếp theo"
   ]
  },
  {
   "cell_type": "code",
   "execution_count": null,
   "id": "99109b77",
   "metadata": {},
   "outputs": [],
   "source": []
  },
  {
   "cell_type": "markdown",
   "id": "5e2c226d",
   "metadata": {},
   "source": [
    "Hãy biến đổi mảng bằng cách thay các giá trị lớn nhất bằng giá trị nhỏ nhất và ngược lại"
   ]
  },
  {
   "cell_type": "code",
   "execution_count": null,
   "id": "62eefa1a",
   "metadata": {},
   "outputs": [],
   "source": []
  },
  {
   "cell_type": "markdown",
   "id": "4c5e92fa",
   "metadata": {},
   "source": [
    "Hãy đảo ngược thứ tự các số chẵn và các số lẻ trong mảng mà vẫn giữ nguyên vị trí tương đối của chúng"
   ]
  },
  {
   "cell_type": "code",
   "execution_count": null,
   "id": "0d6ba5f3",
   "metadata": {},
   "outputs": [],
   "source": [
    "[2,5,7,14] ~~> [5,2,14,7]\n",
    "## List phải có số lượng số lẻ bằng với số lượng số chẳn"
   ]
  }
 ],
 "metadata": {
  "kernelspec": {
   "display_name": "Python 3 (ipykernel)",
   "language": "python",
   "name": "python3"
  },
  "language_info": {
   "codemirror_mode": {
    "name": "ipython",
    "version": 3
   },
   "file_extension": ".py",
   "mimetype": "text/x-python",
   "name": "python",
   "nbconvert_exporter": "python",
   "pygments_lexer": "ipython3",
   "version": "3.11.3"
  }
 },
 "nbformat": 4,
 "nbformat_minor": 5
}
