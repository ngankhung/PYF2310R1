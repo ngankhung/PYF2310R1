{
 "cells": [
  {
   "cell_type": "markdown",
   "id": "a20f121d",
   "metadata": {},
   "source": [
    "# Dictionnary\n",
    "\n",
    "Dictionnary là một dạng list đặc biệt, nó khác list ở chỗ không lưu trữ các giá trị theo chỉ số vị trí, thay vào đó Dictionary sẽ lưu trữ các giá trị theo key\n",
    "\n",
    "##### Tài liệu tham khảo: https://www.w3schools.com/python/python_dictionaries.asp\n",
    "\n",
    "### Khai báo một dictionary\n",
    "\n",
    "Cú pháp:\n",
    "\n",
    "`<tên dictionary> = {}`\n",
    "\n",
    "### Dictionary được khai báo bằng hai dấu hoặc nhọn\n",
    "\n",
    "Đây là một dictionary rỗng\n",
    "\n",
    "<b>Ví dụ 1:</b>\n",
    "\n",
    "`a = {}`\n",
    "\n",
    "a là một dictionary rỗng\n",
    "\n",
    "<b>Ví dụ 2:</b>\n",
    "\n",
    "`a = {\"tên\": \"Nguyễn Tâm Điền\", \"tuổi\": 13, \"giới tính\": \"Nam\"}`\n",
    "\n",
    "b là một dictionary có 3 key, mõi key đều có một giá trị riêng biệt\n",
    "\n",
    "Key có thể mang kiểu dữ liệu là chuỗi hoặc số\n",
    "\n",
    "##### Mỗi một key đều phải có giá trị của riêng nó, không thể khai báo key không có giá trị\n",
    "\n",
    "<b>Hãy khai báo một dictionary có 3 phần tử</b>"
   ]
  },
  {
   "cell_type": "code",
   "execution_count": 1,
   "id": "d835f461",
   "metadata": {},
   "outputs": [
    {
     "name": "stdout",
     "output_type": "stream",
     "text": [
      "{'tên': 'Nguyễn Tâm Điền', 'tuổi': 13, 'giới tính': 'Nam'}\n"
     ]
    }
   ],
   "source": [
    "D = {\"tên\": \"Nguyễn Tâm Điền\", \"tuổi\": 13, \"giới tính\": \"Nam\"}\n",
    "print(D)"
   ]
  },
  {
   "cell_type": "code",
   "execution_count": 2,
   "id": "a06893b3-2b0f-4525-b17b-fe815bc57446",
   "metadata": {},
   "outputs": [
    {
     "name": "stdout",
     "output_type": "stream",
     "text": [
      "{'tên': 'Nguyễn Tâm Điền', 'tuổi': 13, 'giới tính': 'Nam', 'name': 'Nguyễn Tâm Điền'}\n"
     ]
    }
   ],
   "source": [
    "D = {\"tên\": \"Nguyễn Tâm Điền\", \"tuổi\": 13, \"giới tính\": \"Nam\",\"name\":\"Nguyễn Tâm Điền\"}\n",
    "print(D)"
   ]
  },
  {
   "cell_type": "code",
   "execution_count": null,
   "id": "84d5d6b2-206f-47fc-8864-b189f8043432",
   "metadata": {},
   "outputs": [],
   "source": [
    "# chỉ có 1 giá trị key duy nhất"
   ]
  },
  {
   "cell_type": "markdown",
   "id": "be1e321c",
   "metadata": {},
   "source": [
    "### Thêm key vào dictionary\n",
    "\n",
    "Cú pháp:\n",
    "\n",
    "`<tên dictionary>[<key>] = <giá trị>`\n",
    "\n",
    "<b>Ví dụ 1:</b>\n",
    "\n",
    "`a = {}\n",
    "a[\"tên\"] = \"NTD\"`\n",
    "\n",
    "a là một dictionary có một phần tử, phần tử đó có key là \"tên\" và giá trị của key đó là \"NTD\"\n",
    "\n",
    "##### Lưu ý, nếu trong trường hợp đã tồn tại key trong dictionary, dùng lệnh trên sẽ thay đổi giá trị key đó (không phải thêm key khác vào)\n",
    "\n",
    "<b>Ví dụ 2:</b>\n",
    "\n",
    "`a = {}\n",
    "a[\"tên\"] = \"NTD\"\n",
    "a[\"tên\"] = \"Nguyễn Tâm Điền\"`\n",
    "\n",
    "a vẫn là một dictionary có một phần tử, phần tử đó có key là \"tên\" và giá trị của key đó là \"Nguyễn Tâm Điền\"\n",
    "\n",
    "<b>Hãy khai báo một dictionary không có phần tử nào, sau đó thêm một phần tử vào dictionary đó</b>"
   ]
  },
  {
   "cell_type": "code",
   "execution_count": 7,
   "id": "7573ebef",
   "metadata": {},
   "outputs": [
    {
     "name": "stdout",
     "output_type": "stream",
     "text": [
      "{'key mới': 'giá trị mới'}\n"
     ]
    }
   ],
   "source": [
    "D = {}\n",
    "D [\"key mới\"] = \"giá trị mới\"\n",
    "print(D)"
   ]
  },
  {
   "cell_type": "code",
   "execution_count": 8,
   "id": "f8d462b3-7069-4610-b329-53b3745b24b5",
   "metadata": {},
   "outputs": [
    {
     "name": "stdout",
     "output_type": "stream",
     "text": [
      "{'english': 'hello', 'tiếng việt': 'chào', 'tiếng đức': 'hallo'}\n"
     ]
    }
   ],
   "source": [
    "D = {\"english\":\"hello\",\"tiếng việt\":\"xin chào\",\"tiếng đức\":\"hallo\"}\n",
    "D[\"tiếng việt\"] = \"chào\"\n",
    "print(D)"
   ]
  },
  {
   "cell_type": "markdown",
   "id": "65c98825",
   "metadata": {},
   "source": [
    "### Truy xuất phần tử trong dictionary\n",
    "\n",
    "Cú pháp:\n",
    "\n",
    "`<tên dictionary>[<key>]`\n",
    "\n",
    "<b>Ví dụ:</b>\n",
    "\n",
    "`a = {\"tên\": \"Nguyễn Tâm Điền\", \"tuổi\": 13, \"giới tính\": \"Nam\"}\n",
    "print(a[\"tên\"])`\n",
    "\n",
    "Màn hình sẽ in: Nguyễn Tâm Điền\n",
    "\n",
    "<b>Hãy khai báo một dictionary rồi in ra màn hình một phần tử bất kỳ trong dictionary đó</b>"
   ]
  },
  {
   "cell_type": "code",
   "execution_count": 3,
   "id": "f6159385",
   "metadata": {},
   "outputs": [
    {
     "name": "stdout",
     "output_type": "stream",
     "text": [
      "Nguyễn Tâm Điền\n"
     ]
    }
   ],
   "source": [
    "a = {\"tên\": \"Nguyễn Tâm Điền\", \"tuổi\": 13, \"giới tính\": \"Nam\"}\n",
    "print(a[\"tên\"])"
   ]
  },
  {
   "cell_type": "code",
   "execution_count": 4,
   "id": "ff1443e0-5b1c-4b19-b0b6-e8a758c5e925",
   "metadata": {},
   "outputs": [
    {
     "name": "stdout",
     "output_type": "stream",
     "text": [
      "13\n"
     ]
    }
   ],
   "source": [
    "a = {\"tên\": \"Nguyễn Tâm Điền\", \"tuổi\": 13, \"giới tính\": \"Nam\"}\n",
    "print(a[\"tuổi\"])"
   ]
  },
  {
   "cell_type": "code",
   "execution_count": 5,
   "id": "6f2134e4-e4b7-4c4d-a6de-27779e45c6c2",
   "metadata": {},
   "outputs": [
    {
     "name": "stdout",
     "output_type": "stream",
     "text": [
      "Nam\n"
     ]
    }
   ],
   "source": [
    "a = {\"tên\": \"Nguyễn Tâm Điền\", \"tuổi\": 13, \"giới tính\": \"Nam\"}\n",
    "print(a[\"giới tính\"])"
   ]
  },
  {
   "cell_type": "code",
   "execution_count": 6,
   "id": "dab689e4-5b0b-4355-87a1-74306dd16788",
   "metadata": {},
   "outputs": [
    {
     "ename": "KeyError",
     "evalue": "'Nguyễn Tâm Điền'",
     "output_type": "error",
     "traceback": [
      "\u001b[1;31m---------------------------------------------------------------------------\u001b[0m",
      "\u001b[1;31mKeyError\u001b[0m                                  Traceback (most recent call last)",
      "Cell \u001b[1;32mIn[6], line 2\u001b[0m\n\u001b[0;32m      1\u001b[0m a \u001b[38;5;241m=\u001b[39m {\u001b[38;5;124m\"\u001b[39m\u001b[38;5;124mtên\u001b[39m\u001b[38;5;124m\"\u001b[39m: \u001b[38;5;124m\"\u001b[39m\u001b[38;5;124mNguyễn Tâm Điền\u001b[39m\u001b[38;5;124m\"\u001b[39m, \u001b[38;5;124m\"\u001b[39m\u001b[38;5;124mtuổi\u001b[39m\u001b[38;5;124m\"\u001b[39m: \u001b[38;5;241m13\u001b[39m, \u001b[38;5;124m\"\u001b[39m\u001b[38;5;124mgiới tính\u001b[39m\u001b[38;5;124m\"\u001b[39m: \u001b[38;5;124m\"\u001b[39m\u001b[38;5;124mNam\u001b[39m\u001b[38;5;124m\"\u001b[39m}\n\u001b[1;32m----> 2\u001b[0m \u001b[38;5;28mprint\u001b[39m(\u001b[43ma\u001b[49m\u001b[43m[\u001b[49m\u001b[38;5;124;43m\"\u001b[39;49m\u001b[38;5;124;43mNguyễn Tâm Điền\u001b[39;49m\u001b[38;5;124;43m\"\u001b[39;49m\u001b[43m]\u001b[49m)\n",
      "\u001b[1;31mKeyError\u001b[0m: 'Nguyễn Tâm Điền'"
     ]
    }
   ],
   "source": [
    "a = {\"tên\": \"Nguyễn Tâm Điền\", \"tuổi\": 13, \"giới tính\": \"Nam\"}\n",
    "print(a[\"Nguyễn Tâm Điền\"])"
   ]
  },
  {
   "cell_type": "code",
   "execution_count": 9,
   "id": "2a2f4210-e24b-4a3a-bc3a-376c40083e72",
   "metadata": {},
   "outputs": [
    {
     "name": "stdin",
     "output_type": "stream",
     "text": [
      "nhập vào key: fd\n",
      "nhập vào giá trị của key: adf\n",
      "nhập vào key: key thu\n",
      "nhập vào giá trị của key: abc\n",
      "nhập vào key: fj\n",
      "nhập vào giá trị của key: gia tri 1\n",
      "nhập vào key: abc2\n",
      "nhập vào giá trị của key: gia tri 2\n",
      "nhập vào key: abc2\n"
     ]
    },
    {
     "name": "stdout",
     "output_type": "stream",
     "text": [
      "{'fd': 'adf', 'key thu': 'abc', 'fj': 'gia tri 1', 'abc2': 'gia tri 2'}\n"
     ]
    }
   ],
   "source": [
    "# b1: nhập vào key\n",
    "# b2 : kt xem key có trong dictionary hay chưa\n",
    "# b3 : nếu key đã có trong dictionary ~~> yêu cầu nhập vào giá trị của key ~~> quay về b1\n",
    "# b4: nếu key đã có trong dictionary ~~> in dictionary và kết thúc chương trình\n",
    "\n",
    "D = {}\n",
    "while True:\n",
    "    key = input(\"nhập vào key:\")\n",
    "    if key not in D:\n",
    "        D[key] = input(\"nhập vào giá trị của key:\")\n",
    "    else:\n",
    "        break\n",
    "\n",
    "print(D)\n",
    "        \n",
    "    "
   ]
  },
  {
   "cell_type": "markdown",
   "id": "afa92f87",
   "metadata": {},
   "source": [
    "### Sao chép dictionary\n",
    "\n",
    "##### Việc sao chép dictionary được thực hiện hệt như sao chép list, chúng ta cần phải sử dụng lệnh copy()"
   ]
  },
  {
   "cell_type": "markdown",
   "id": "ef7e800d",
   "metadata": {},
   "source": [
    "### Duyệt dictionary bằng lệnh for\n",
    "\n",
    "Cú pháp:\n",
    "\n",
    "`for <tên biến> in <tên dictionary>:`\n",
    "\n",
    "Biến sẽ có giá trị là từng key trong dictionary\n",
    "\n",
    "<b>Ví dụ:</b>\n",
    "\n",
    "`a = {\"tên\": \"Nguyễn Tâm Điền\", \"tuổi\": 13, \"giới tính\": \"Nam\"}\n",
    "for i in a:\n",
    "    print(i)`\n",
    "    \n",
    "Màn hình sẽ in ra:\n",
    "\n",
    "tên\n",
    "\n",
    "tuổi\n",
    "\n",
    "giới tính\n",
    "\n",
    "<b>Hãy khai báo một dictionary rồi in ra màn hình toàn bộ giá trị trong dictionary đó</b>"
   ]
  },
  {
   "cell_type": "code",
   "execution_count": 14,
   "id": "3bdd1508",
   "metadata": {},
   "outputs": [
    {
     "name": "stdout",
     "output_type": "stream",
     "text": [
      "tên : Nguyễn Tâm Điền\n",
      "tuổi : 13\n",
      "giới tính : Nam\n"
     ]
    }
   ],
   "source": [
    "D = {\"tên\": \"Nguyễn Tâm Điền\", \"tuổi\": 13, \"giới tính\": \"Nam\"}\n",
    "for i in D:\n",
    "    print(i,\":\",D[i])"
   ]
  },
  {
   "cell_type": "code",
   "execution_count": 11,
   "id": "5cb327a5-ad4f-4cff-b593-b0bde1b01350",
   "metadata": {},
   "outputs": [
    {
     "name": "stdout",
     "output_type": "stream",
     "text": [
      "2\n",
      "3\n",
      "5\n"
     ]
    }
   ],
   "source": [
    "L = [2,3,5]\n",
    "for i in L:\n",
    "    print(i)"
   ]
  },
  {
   "cell_type": "markdown",
   "id": "1982f4b1",
   "metadata": {},
   "source": [
    "### Bài tập"
   ]
  },
  {
   "cell_type": "markdown",
   "id": "3060a950",
   "metadata": {},
   "source": [
    "Viết chương trình đếm số lần xuất hiện của một từ trong một văn bản nhất định"
   ]
  },
  {
   "cell_type": "code",
   "execution_count": 3,
   "id": "af64832c",
   "metadata": {},
   "outputs": [
    {
     "name": "stdout",
     "output_type": "stream",
     "text": [
      "[',', '.', ':', '-', '!', '?', '“', '”', '…']\n",
      "{'trước': 11, 'kia': 8, 'mỗi': 4, 'chiều': 6, 'cứ': 9, 'vào': 34, 'lúc': 16, 'chạng': 1, 'vạng': 1, 'mặt': 27, 'người': 70, 'thì': 32, 'tràng': 59, 'đi': 32, 'làm': 19, 'về': 23, 'hắn': 96, 'bước': 15, 'ngật': 1, 'ngưỡng': 2, 'trên': 14, 'con': 52, 'đường': 5, 'khẳng': 1, 'khiu': 1, 'luồn': 2, 'qua': 7, 'cái': 63, 'xóm': 9, 'chợ': 9, 'của': 19, 'những': 23, 'ngụ': 2, 'cư': 2, 'trong': 39, 'bến': 2, 'vừa': 20, 'tủm': 4, 'tỉm': 4, 'cười': 26, 'hai': 26, 'mất': 2, 'nhỏ': 3, 'tí': 3, 'gà': 5, 'đắm': 1, 'bóng': 9, 'bên': 14, 'quai': 1, 'hàm': 1, 'bạch': 1, 'ra': 53, 'rung': 3, 'cho': 22, 'bộ': 1, 'thô': 1, 'kệch': 1, 'nào': 22, 'cũng': 23, 'nhấp': 2, 'nhính': 1, 'ý': 6, 'nghĩ': 14, 'gì': 25, 'lí': 2, 'thú': 1, 'dữ': 1, 'tợn': 1, 'có': 55, 'tật': 1, 'nói': 21, 'lảm': 1, 'nhảm': 1, 'than': 1, 'thở': 9, 'điều': 1, 'trẻ': 5, 'thấy': 23, 'thân': 5, 'hình': 5, 'to': 6, 'lớn': 2, 'vập': 1, 'vạp': 1, 'từ': 9, 'dốc': 2, 'xuống': 22, 'là': 16, 'ùa': 1, 'cả': 15, 'vây': 1, 'lấy': 9, 'reo': 3, 'váng': 2, 'lên': 39, 'a': 3, 'anh': 14, 'đã': 27, 'chúng': 13, 'mày': 11, 'ơi': 6, 'bế': 2, 'em': 2, 'mấy': 18, 'uống': 2, 'rượu': 1, 'chưa': 10, 'đứa': 11, 'túm': 2, 'đằng': 8, 'sau': 10, 'cù': 1, 'kéo': 5, 'lôi': 1, 'chân': 6, 'không': 40, 'chỉ': 7, 'ngửa': 3, 'hềnh': 1, 'hệch': 1, 'tồi': 1, 'tàn': 1, 'ấy': 19, 'lại': 47, 'xôn': 1, 'xao': 1, 'được': 14, 'một': 52, 'nhưng': 7, 'độ': 1, 'này': 27, 'buồn': 5, 'đón': 4, 'nữa': 8, 'nó': 19, 'ngồi': 17, 'ủ': 1, 'rũ': 1, 'dưới': 7, 'xó': 1, 'nhúc': 2, 'nhích': 2, 'nhá': 4, 'nhem': 1, 'từng': 7, 'mệt': 1, 'mỏi': 2, 'chiếc': 2, 'áo': 7, 'nâu': 1, 'tàng': 2, 'vắt': 2, 'sang': 5, 'cánh': 5, 'tay': 10, 'đầu': 12, 'trọc': 3, 'nhẵn': 2, 'chúi': 1, 'như': 25, 'lo': 4, 'lắng': 4, 'chật': 1, 'vật': 1, 'ngày': 6, 'đè': 1, 'lưng': 8, 'rộng': 1, 'gấu': 1, 'đói': 13, 'tràn': 2, 'đến': 17, 'tự': 7, 'gia': 3, 'đình': 4, 'vùng': 2, 'nam': 1, 'định': 2, 'thái': 3, 'bình': 2, 'đội': 1, 'chiếu': 1, 'lũ': 1, 'lượt': 1, 'bồng': 1, 'dắt': 1, 'díu': 2, 'nhau': 10, 'xanh': 1, 'xám': 2, 'ma': 3, 'và': 16, 'nằm': 4, 'ngổn': 1, 'ngang': 3, 'khắp': 2, 'lều': 1, 'chết': 3, 'ngả': 1, 'rạ': 1, 'buổi': 3, 'sáng': 10, 'làng': 1, 'đồng': 3, 'gặp': 3, 'ba': 5, 'bốn': 3, 'thây': 1, 'còng': 1, 'queo': 1, 'khí': 1, 'vẩn': 2, 'mùi': 3, 'ẩm': 1, 'thối': 1, 'rác': 2, 'rưởi': 1, 'gây': 1, 'xác': 2, 'giữa': 9, 'cảnh': 5, 'tối': 11, 'sầm': 2, 'vì': 3, 'khát': 4, 'bỗng': 10, 'với': 20, 'đàn': 27, 'bà': 74, 'vẻ': 7, 'phởn': 1, 'phơ': 2, 'khác': 9, 'thường': 3, 'nụ': 1, 'mình': 19, 'mắt': 19, 'lấp': 1, 'lánh': 1, 'chừng': 2, 'thị': 49, 'cắp': 1, 'thúng': 3, 'hơi': 2, 'cúi': 4, 'nón': 1, 'rách': 6, 'nghiêng': 2, 'che': 3, 'khuất': 1, 'nửa': 1, 'rón': 1, 'rén': 1, 'e': 1, 'thẹn': 2, 'lạ': 7, 'vội': 9, 'chạy': 11, 'xem': 4, 'sợ': 6, 'đùa': 3, 'vàng': 3, 'nghiêm': 1, 'nét': 1, 'lắc': 1, 'hiệu': 1, 'bằng': 3, 'lòng': 6, 'đứng': 18, 'dừng': 3, 'nhìn': 24, 'đột': 2, 'nhiên': 7, 'gào': 3, 'quay': 8, 'cong': 4, 'cổ': 5, 'lần': 6, 'chồng': 6, 'vợ': 19, 'hài': 1, 'bật': 2, 'bố': 5, 'ranh': 1, 'khó': 5, 'chịu': 3, 'lắm': 10, 'nhíu': 1, 'đôi': 6, 'lông': 1, 'đưa': 5, 'xóc': 2, 'tà': 2, 'ngã': 1, 'tư': 2, 'càng': 4, 'xơ': 1, 'heo': 1, 'hút': 1, 'trận': 1, 'gió': 5, 'thổi': 4, 'ngăn': 2, 'ngắt': 1, 'dãy': 1, 'phố': 1, 'úp': 1, 'súp': 1, 'om': 1, 'nhà': 35, 'ánh': 3, 'đèn': 5, 'lửa': 1, 'gốc': 3, 'đa': 1, 'gạo': 4, 'xù': 1, 'xì': 1, 'dật': 1, 'dờ': 1, 'lặng': 9, 'lẽ': 2, 'tiếng': 14, 'quạ': 2, 'cây': 2, 'ngoài': 15, 'bãi': 3, 'hồi': 3, 'thê': 1, 'thiết': 1, 'theo': 6, 'lủi': 1, 'thủi': 1, 'họ': 15, 'cửa': 7, 'bàn': 3, 'tán': 1, 'hiểu': 9, 'phần': 2, 'khuôn': 3, 'hốc': 1, 'hác': 1, 'u': 17, 'dưng': 3, 'rạng': 2, 'rỡ': 2, 'hẳn': 5, 'lùng': 2, 'tươi': 4, 'mát': 1, 'cuộc': 4, 'sống': 6, 'tăm': 2, 'dài': 9, 'khẽ': 7, 'thầm': 2, 'hỏi': 6, 'ai': 13, 'đấy': 26, 'nhỉ': 11, 'hay': 7, 'quê': 1, 'cụ': 8, 'tứ': 8, 'mới': 13, 'chả': 10, 'phải': 16, 'còn': 15, 'mồ': 2, 'ông': 7, 'mạc': 1, 'thăm': 2, 'đâu': 7, 'quái': 3, 'im': 3, 'rúc': 2, 'cu': 3, 'ù': 1, 'khéo': 1, 'mà': 21, 'thật': 12, 'ạ': 9, 'trông': 2, 'chị': 3, 'ta': 13, 'thèn': 1, 'đáo': 3, 'để': 8, 'ôi': 2, 'chao': 3, 'giời': 4, 'đất': 4, 'rước': 1, 'nợ': 1, 'đời': 5, 'biết': 15, 'nuôi': 3, 'nổi': 4, 'cùng': 6, 'nín': 2, 'xung': 3, 'quanh': 4, 'đang': 6, 'dồn': 3, 'phía': 3, 'ngượng': 2, 'nghịu': 2, 'nọ': 2, 'thế': 27, 'vậy': 4, 'thích': 3, 'vênh': 1, 'đắc': 1, 'càu': 2, 'nhàu': 2, 'câu': 6, 'miệng': 9, 'hả': 1, 'khỏe': 1, 'bác': 2, 'thò': 2, 'gọi': 5, 'giật': 2, 'giọng': 2, 'lật': 4, 'đật': 4, 'muộn': 4, 'hẵng': 4, 'chơi': 2, 'thoái': 1, 'thác': 1, 'thôi': 7, 'hôm': 15, 'nháy': 3, 'hất': 2, 'hóm': 1, 'hỉnh': 1, 'à': 9, 'hà': 3, 'quen': 1, 'ngoắt': 1, 'trở': 2, 'xấu': 1, 'hổ': 1, 'trốn': 1, 'miếu': 1, 'cũ': 2, 'rẽ': 2, 'lối': 3, 'cơ': 7, 'ừ': 5, 'sâu': 1, 'thẳm': 1, 'bờ': 2, 'tre': 3, 'cao': 2, 'vút': 1, 'ở': 16, 'đây': 13, 'vắng': 2, 'thoải': 1, 'mái': 1, 'vài': 2, 'rõ': 3, 'tình': 3, 'chẳng': 8, 'lúng': 2, 'túng': 1, 'xoa': 2, 'vai': 2, 'lự': 1, 'rì': 2, 'rào': 2, 'lá': 3, 'khô': 2, 'kêu': 2, 'xào': 1, 'xạc': 1, 'quên': 3, 'hết': 4, 'ê': 1, 'chề': 1, 'hằng': 1, 'ghê': 1, 'gớm': 3, 'đe': 1, 'dọa': 1, 'tháng': 1, 'bây': 5, 'giờ': 7, 'nghĩa': 1, 'mẻ': 2, 'nghèo': 5, 'khổ': 4, 'ôm': 2, 'ấp': 1, 'mơn': 1, 'man': 1, 'da': 1, 'thịt': 1, 'tựa': 1, 'hồ': 1, 'vuốt': 2, 'nhẹ': 6, 'sắp': 2, 'chợt': 6, 'tôi': 7, 'bé': 1, 'chuyện': 8, 'sát': 1, 'gần': 2, 'hơn': 4, 'ngẫm': 1, 'giơ': 2, 'chai': 1, 'vẫn': 16, 'cầm': 5, 'lăm': 2, 'khoe': 1, 'dầu': 2, 'thắp': 2, 'khá': 3, 'hào': 1, 'đắt': 2, 'quá': 7, 'cần': 1, 'hoang': 1, 'chứ': 5, 'chặc': 3, 'lưỡi': 3, 'miếc': 1, 'sủa': 3, 'nhẽ': 1, 'ngay': 6, 'hì': 3, 'khỉ': 1, 'phát': 1, 'đánh': 4, 'đét': 1, 'khoặm': 1, 'chí': 2, 'khanh': 1, 'khách': 1, 'chó': 1, 'thọt': 1, 'lũy': 1, 'mõm': 1, 'nhặt': 3, 'hòn': 1, 'gạch': 1, 'vung': 1, 'ném': 1, 'mạnh': 1, 'mẹ': 15, 'cắn': 1, 'chán': 2, 'khiếp': 1, 'cau': 1, 'giãy': 1, 'phì': 1, 'nhấc': 2, 'cành': 1, 'dong': 1, 'dấp': 1, 'cổng': 2, 'rồi': 12, 'lẳng': 3, 'teo': 1, 'rúm': 1, 'ró': 1, 'mảnh': 1, 'vườn': 3, 'mọc': 2, 'lổn': 1, 'nhổn': 1, 'búi': 2, 'cỏ': 2, 'dại': 1, 'đảo': 1, 'ngực': 2, 'gầy': 2, 'lép': 1, 'nhô': 1, 'nén': 1, 'xăm': 5, 'tấm': 1, 'phên': 2, 'thu': 4, 'dọn': 4, 'niêu': 2, 'bát': 7, 'xống': 1, 'vứt': 1, 'bừa': 1, 'bộn': 1, 'giường': 9, 'nhếch': 1, 'mép': 3, 'nhạt': 1, 'nhẽo': 1, 'vỗ': 4, 'đon': 3, 'đả': 3, 'lời': 6, 'mớm': 2, 'tây': 1, 'ngây': 1, 'sờ': 1, 'chính': 1, 'sao': 10, 'lấm': 1, 'lét': 1, 'sân': 9, 'gắt': 1, 'nay': 9, 'lão': 35, 'loanh': 1, 'ngõ': 3, 'ngóng': 1, 'trộm': 1, 'khư': 2, 'bần': 2, 'thần': 3, 'bụng': 1, 'ồ': 1, 'nhổ': 1, 'vu': 1, 'vơ': 2, 'nước': 7, 'bọt': 1, 'ngờ': 3, 'ngợ': 1, 'ư': 1, 'việc': 5, 'xảy': 1, 'tầm': 2, 'phào': 2, 'bận': 2, 'thành': 3, 'ít': 2, 'lâu': 1, 'xe': 8, 'thóc': 8, 'liên': 3, 'đoàn': 2, 'tỉnh': 6, 'kho': 4, 'gái': 4, 'vêu': 1, 'đoán': 1, 'hạt': 1, 'rơi': 1, 'vãi': 1, 'công': 1, 'gò': 1, 'bò': 4, 'hò': 2, 'đỡ': 3, 'nhọc': 1, 'rằng': 4, 'muốn': 4, 'ăn': 28, 'cơm': 8, 'trắng': 4, 'giò': 3, 'đẩy': 7, 'nì': 1, 'chủ': 1, 'tâm': 2, 'chòng': 1, 'ghẹo': 1, 'cô': 3, 'ả': 1, 'nắc': 1, 'nẻ': 1, 'kìa': 2, 'cớn': 2, 'khối': 2, 'khoác': 1, 'ngoái': 1, 'hôi': 1, 'mau': 1, 'dậy': 6, 'ton': 2, 'liếc': 1, 'tít': 1, 'cha': 1, 'sinh': 3, 'đẻ': 3, 'thứ': 3, 'trả': 3, 'hàng': 3, 'xong': 3, 'sập': 1, 'sưng': 1, 'sỉa': 1, 'điêu': 2, 'giương': 1, 'nhận': 3, 'quần': 2, 'tả': 1, 'tơi': 1, 'tổ': 3, 'đỉa': 2, 'sọp': 1, 'cày': 1, 'xịt': 1, 'leo': 1, 'lẻo': 1, 'mồm': 1, 'hẹn': 1, 'nhớ': 1, 'toét': 1, 'miếng': 5, 'giầu': 2, 'túi': 1, 'rích': 1, 'hở': 2, 'trũng': 1, 'hoáy': 1, 'tức': 1, 'sà': 1, 'cắm': 2, 'chặp': 1, 'bánh': 1, 'đúc': 1, 'liền': 1, 'trò': 1, 'dọc': 1, 'đũa': 4, 'quệt': 1, 'ngon': 4, 'hụt': 1, 'tiền': 3, 'bỏ': 3, 'đếch': 1, 'tớ': 1, 'khuân': 1, 'tưởng': 2, 'chàng': 1, 'chợn': 1, 'đèo': 1, 'bòng': 1, 'kệ': 1, 'mua': 2, 'đựng': 1, 'lặt': 1, 'vặt': 1, 'bữa': 4, 'no': 1, 'nê': 1, 'tai': 1, 'nghe': 3, 'húng': 1, 'hắng': 2, 'ho': 2, 'rặng': 1, 'lọng': 1, 'khọng': 1, 'lẩm': 1, 'bẩm': 1, 'tính': 1, 'toán': 1, 'đợi': 3, 'nóng': 1, 'ruột': 2, 'chậm': 1, 'chạp': 1, 'phấp': 2, 'phỏng': 1, 'sững': 1, 'ngạc': 1, 'thằng': 2, 'chào': 3, 'đục': 2, 'hấp': 1, 'háy': 1, 'cặp': 1, 'nhoèn': 2, 'kỹ': 1, 'lẫn': 1, 'tỏ': 1, 'diếc': 1, 'chĩnh': 1, 'chện': 1, 'lập': 1, 'cập': 1, 'già': 1, 'điếc': 1, 'lác': 1, 'cất': 1, 'ô': 1, 'băn': 1, 'khoăn': 1, 'nhắc': 1, 'tiếp': 3, 'bạn': 1, 'duyên': 2, 'kiếp': 3, 'số': 2, 'bao': 2, 'nhiêu': 1, 'sự': 2, 'oán': 1, 'xót': 2, 'thương': 4, 'dựng': 1, 'gả': 1, 'nên': 2, 'mong': 1, 'mở': 1, 'kẽ': 1, 'kèm': 1, 'nhèm': 1, 'rủ': 1, 'dòng': 2, 'cơn': 1, 'đăm': 6, 'vân': 1, 'vê': 1, 'bợt': 1, 'khăn': 1, 'bổn': 2, 'phận': 2, 'may': 3, 'khỏi': 1, 'tao': 3, 'đoạn': 1, 'yên': 1, 'bề': 1, 'bắt': 3, 'dặng': 1, 'nhàng': 2, 'nàng': 2, 'dâu': 9, 'các': 2, 'mừng': 2, 'tốn': 1, 'liệu': 2, 'bảo': 3, 'giàu': 1, 'trùm': 1, 'xa': 1, 'sông': 2, 'uốn': 1, 'khúc': 1, 'đốt': 2, 'đống': 2, 'rấm': 1, 'thoảng': 1, 'khét': 1, 'lẹt': 1, 'út': 1, 'cực': 1, 'dằng': 1, 'dặc': 1, 'đầy': 2, 'khép': 1, 'nép': 1, 'nguyên': 2, 'chỗ': 2, 'hạ': 1, 'thấp': 1, 'mật': 1, 'kể': 2, 'dăm': 1, 'mâm': 1, 'chấp': 1, 'cốt': 1, 'hòa': 2, 'thuận': 1, 'năm': 1, 'nghẹn': 2, 'chảy': 1, 'ròng': 2, 'bực': 1, 'hầm': 2, 'diêm': 1, 'lau': 1, 'ngửng': 1, 'uể': 1, 'oải': 1, 'làu': 1, 'bàu': 1, 'khóc': 4, 'nghỉ': 1, 'kiếm': 1, 'nứa': 1, 'đan': 1, 'vâng': 4, 'ngoan': 2, 'ngoãn': 2, 'đáp': 1, 'toan': 1, 'cởi': 1, 'dám': 2, 'ghế': 1, 'cạnh': 2, 'sượng': 1, 'sùng': 1, 'góc': 2, 'tỏa': 1, 'ấm': 3, 'áp': 1, 'vách': 1, 'hờ': 2, 'lọt': 1, 'tỉ': 2, 'tê': 2, 'dai': 1, 'sốt': 1, 'lườm': 1, 'xích': 1, 'khuya': 2, 'ngủ': 1, 'củng': 1, 'trán': 1, 'nhanh': 1, 'dơ': 1, 'khì': 2, 'vươn': 1, 'tắt': 2, 'phụt': 1, 'ngọn': 1, 'đêm': 1, 'trời': 2, 'sào': 1, 'êm': 1, 'ái': 1, 'lửng': 1, 'lơ': 1, 'giấc': 1, 'mơ': 1, 'ngỡ': 1, 'ngàng': 1, 'chắp': 1, 'lững': 1, 'thững': 1, 'nắng': 2, 'mùa': 1, 'hè': 1, 'lóa': 1, 'xói': 1, 'cay': 1, 'xè': 1, 'chớp': 2, 'thay': 1, 'đổi': 1, 'đều': 3, 'quét': 3, 'tước': 2, 'sạch': 2, 'sẽ': 2, 'gọn': 1, 'gàng': 1, 'khươm': 1, 'mươi': 1, 'niên': 1, 'đem': 1, 'hong': 1, 'ang': 1, 'ổi': 1, 'kín': 1, 'ăm': 1, 'ắp': 1, 'mùn': 1, 'tung': 1, 'hoành': 1, 'hót': 1, 'lúi': 1, 'húi': 1, 'giẫy': 1, 'nham': 1, 'nhở': 1, 'chổi': 1, 'nhát': 1, 'sàn': 1, 'sạt': 1, 'tượng': 1, 'đơn': 1, 'giản': 1, 'đối': 1, 'rất': 3, 'thấm': 1, 'thía': 1, 'cảm': 1, 'động': 2, 'yêu': 1, 'gắn': 1, 'bó': 1, 'mưa': 1, 'nguồn': 1, 'vui': 4, 'sướng': 2, 'phấn': 1, 'chấn': 1, 'ngột': 1, 'ngập': 1, 'dự': 1, 'tu': 2, 'sửa': 1, 'căn': 1, 'giai': 1, 'bếp': 3, 'nom': 1, 'ràng': 1, 'hiền': 1, 'hậu': 1, 'đúng': 1, 'mực': 1, 'chát': 3, 'chỏng': 1, 'lỏn': 1, 'nhõm': 1, 'bủng': 1, 'beo': 1, 'ám': 1, 'xắn': 1, 'nấy': 1, 'xếp': 1, 'quang': 1, 'quẻ': 1, 'nề': 1, 'nếp': 1, 'thể': 1, 'khấm': 1, 'thảm': 1, 'hại': 1, 'mẹt': 2, 'độc': 1, 'lùm': 1, 'rau': 1, 'chuối': 1, 'rối': 1, 'đĩa': 1, 'muối': 1, 'cháo': 2, 'lành': 1, 'toàn': 2, 'sung': 1, 'khi': 1, 'tin': 1, 'chuồng': 1, 'tiện': 1, 'ngoảnh': 3, 'đầm': 1, 'hợp': 1, 'đà': 1, 'ngừng': 1, 'lõng': 1, 'bõng': 1, 'đặt': 2, 'lễ': 1, 'mễ': 1, 'bưng': 1, 'nồi': 2, 'khói': 1, 'bốc': 1, 'nghi': 1, 'ngút': 1, 'môi': 1, 'khuấy': 2, 'chè': 2, 'múc': 1, 'khoán': 1, 'điềm': 1, 'cám': 4, 'thử': 1, 'gợt': 1, 'chum': 1, 'đắng': 1, 'bứ': 1, 'tránh': 1, 'nỗi': 1, 'tủi': 1, 'hờn': 1, 'len': 1, 'trí': 1, 'mọi': 1, 'dội': 1, 'trống': 4, 'dập': 2, 'vã': 1, 'chót': 1, 'vót': 1, 'hốt': 1, 'hoảng': 1, 'bay': 3, 'vù': 1, 'lượn': 1, 'đám': 3, 'vần': 1, 'nền': 1, 'mây': 1, 'đen': 1, 'nhí': 1, 'thúc': 2, 'thuế': 5, 'gồng': 1, 'đay': 1, 'đóng': 3, 'chắc': 1, 'lầm': 1, 'bầm': 1, 'mạn': 1, 'bắc': 1, 'giang': 1, 'phá': 3, 'nhật': 2, 'chia': 2, 'ngợi': 1, 'bặm': 1, 'ngậm': 1, 'bã': 1, 'xít': 1, 'việt': 2, 'minh': 2, 'vụt': 1, 'hiện': 1, 'ầm': 2, 'đê': 1, 'sộp': 1, 'cờ': 2, 'đỏ': 2, 'láng': 1, 'máng': 1, 'cướp': 1, 'ân': 1, 'hận': 1, 'tiếc': 1, 'rẻ': 1, 'buông': 1, 'óc': 1, 'phới': 1}\n"
     ]
    }
   ],
   "source": [
    "chuoi = '''\n",
    "Trước kia mỗi chiều, cứ vào lúc chạng vạng mặt người thì Tràng đi làm về. Hắn bước ngật ngưỡng trên con đường khẳng khiu luồn qua cái xóm chợ của những người ngụ cư vào trong bến.\n",
    "\n",
    "Hắn vừa đi vừa tủm tỉm cười, hai con mất nhỏ tí, gà gà đắm vào bóng chiều, hai bên quai hàm bạch ra, rung rung làm cho cái bộ mặt thô kệch của hắn lúc nào cũng nhấp nhính những ý nghĩ gì vừa lí thú vừa dữ tợn. Hắn có tật vừa đi vừa nói. Hắn lảm nhảm than thở những điều hắn nghĩ.\n",
    "\n",
    "Trẻ con trong xóm, cứ thấy cái thân hình to lớn, vập vạp của hắn từ dốc chợ đi xuống là ùa cả ra vây lấy hắn, reo cười váng lên:\n",
    "\n",
    "- A a a... Anh Tràng! Anh Tràng đã về chúng mày ơi!\n",
    "\n",
    "\n",
    "- Anh Tràng ơi bế em mấy...\n",
    "\n",
    "- Anh Tràng ơi đã uống rượu chưa?\n",
    "\n",
    "- Anh Tràng ơi!...\n",
    "\n",
    "Đứa túm đằng trước, đứa túm đằng sau, đứa cù, đứa kéo, đứa lôi chân không cho đi. Tràng chỉ ngửa mặt lên cười hềnh hệch.\n",
    "\n",
    "Cái xóm ngụ cư tồi tàn ấy mỗi chiều lại xôn xao lên được một lúc.\n",
    "\n",
    "Nhưng độ này thì trẻ con không đứa nào buồn ra đón Tràng nữa, chúng nó ngồi ủ rũ dưới những xó đường không buồn nhúc nhích. Trong bóng chiều nhá nhem, Tràng đi từng bước mệt mỏi, chiếc áo nâu tàng vắt sang một bên cánh tay, cái đầu trọc nhẵn chúi về đằng trước. Hình như những lo lắng, chật vật trong một ngày đè xuống cái lưng to rộng như lưng gấu của hắn.\n",
    "\n",
    "Cái đói đã tràn đến xóm này tự lúc nào. Những gia đình từ những vùng Nam Định, Thái Bình, đội chiếu lũ lượt bồng bế, dắt díu nhau lên xanh xám như những bóng ma, và nằm ngổn ngang khắp lều chợ. Người chết như ngả rạ. Không buổi sáng nào người trong làng đi chợ, đi làm đồng không gặp ba bốn cái thây nằm còng queo bên đường. Không khí vẩn lên mùi ẩm thối của rác rưởi và mùi gây của xác người.\n",
    "\n",
    "Giữa cái cảnh tối sầm lại vì đói khát ấy, một buổi chiều người trong xóm bỗng thấy Tràng về với một người đàn bà nữa. Mặt hắn có một vẻ gì phởn phơ khác thường. Hắn tủm tỉm cười nụ một mình và hai mắt thì sáng lên lấp lánh. Người đàn bà đi sau hắn chừng ba bốn bước. Thị cắp cái thúng con, đầu hơi cúi xuống, cái nón rách tàng nghiêng nghiêng che khuất đi nửa mặt. Thị có vẻ rón rén, e thẹn. Mấy đứa trẻ con thấy lạ vội chạy ra đón xem. Sợ chúng nó đùa như trước, Tràng vội vàng nghiêm nét mặt, lắc đầu ra hiệu không bằng lòng.\n",
    "Mấy đứa trẻ đứng dừng lại, nhìn Tràng, đột nhiên có đứa gào lên:\n",
    "\n",
    "- Anh Tràng ơi! - Tràng quay đầu lại. Nó cong cổ gào lên lần nữa - Chồng vợ hài.\n",
    "\n",
    "Tràng bật cười:\n",
    "\n",
    "- Bố ranh!\n",
    "\n",
    "Người đàn bà có vẻ khó chịu lắm. Thị nhíu đôi lông mày lại, đưa tay lên xóc xóc lại tà áo. Ngã tư xóm chợ về chiều càng xác xơ, heo hút. Từng trận gió từ cánh đồng thổi vào, ngăn ngắt. Hai bên dãy phố, úp súp, tối om, không nhà nào có ánh đèn, lửa. Dưới những gốc đa, gốc gạo xù xì bóng những người đói dật dờ đi lại lặng lẽ như những bóng ma. Tiếng quạ trên mấy cây gạo ngoài bãi chợ cứ gào lên từng hồi thê thiết.\n",
    "\n",
    "Nhìn theo bóng Tràng và bóng người đàn bà lủi thủi đi về bến, người trong xóm lạ lắm. Họ đứng cả trong ngưỡng cửa nhìn ra bàn tán. Hình như họ cũng hiểu được đôi phần. Những khuôn mặt hốc hác u tối của họ bỗng dưng rạng rỡ hẳn lên. Có cái gì lạ lùng và tươi mát thổi vào cuộc sống đói khát, tăm tối ấy của họ. Một người thở dài. Người khác khẽ thì thầm hỏi:\n",
    "\n",
    "- Ai đấy nhỉ? ... Hay là người dưới quê bà cụ Tứ mới lên?\n",
    "\n",
    "- Chả phải, từ ngày còn mồ ma ông cụ Tứ có thấy họ mạc nào lên thăm đâu.\n",
    "\n",
    "- Quái nhỉ?\n",
    "\n",
    "Im một lúc, có người bỗng lại cười lên rung rúc:\n",
    "\n",
    "- Hay là vợ anh cu Tràng? Ù khéo mà vợ anh cu Tràng thật anh em ạ, trông chị ta thèn thẹn hay đáo để.\n",
    "\n",
    "- Ôi chao! Giời đất này còn rước cái của nợ đời về. Biết có nuôi nổi nhau sống qua được cái thì này không?\n",
    "\n",
    "Họ cùng nín lặng.\n",
    "\n",
    "Người đàn bà như cũng biết xung quanh người ta đang nhìn dồn cả về phía mình, thị càng ngượng nghịu, chân nọ bước díu cả vào chân kia. Hắn cũng biết thế, nhưng hắn lại lấy vậy làm thích ý lắm, cái mặt cứ vênh lên tự đắc với mình. Người đàn bà càu nhàu câu gì trong miệng. Hắn quay lại hỏi:\n",
    "\n",
    "\n",
    "- Gì hả?\n",
    "\n",
    "- Không.\n",
    "\n",
    "Hắn cũng càu nhàu:\n",
    "\n",
    "- Làm gì mà họ khỏe nhìn thế không biết? - Hắn bỗng đứng dừng lại nhìn ngang nhìn ngửa.\n",
    "\n",
    "- Này bác Tràng! Bác Tràng! ...\n",
    "\n",
    "Sau một khuôn cửa tối, một cái đầu trọc thò ra gọi giật giọng.\n",
    "\n",
    "Tràng lật đật quay lại.\n",
    "\n",
    "- Về muộn mấy? Hẵng vào chơi cái đã nào.\n",
    "\n",
    "Tràng đứng lại thoái thác:\n",
    "\n",
    "- Thôi ông để cho đến hôm khác.\n",
    "\n",
    "Cái đầu trọc nháy nháy một con mắt, hất hất về phía người đàn bà hóm hỉnh:\n",
    "\n",
    "- Cánh nào đấy?\n",
    "\n",
    "- À hà... người quen. Thôi để hôm khác ông nhá.\n",
    "Hắn quay ngoắt trở ra, lật đật chạy theo người đàn bà, như người xấu hổ chạy trốn. Người đàn bà đã đi đến trước cái miếu cũ. Tràng gọi với:\n",
    "\n",
    "- Ấy rẽ lối này cơ mà.\n",
    "\n",
    "- Đằng này à?\n",
    "\n",
    "- Ừ.\n",
    "\n",
    "Hai người lặng lẽ rẽ xuống một con đường nhỏ. Con đường sâu thăm thẳm, luồn giữa hai bờ tre cao vút. Ở đây vắng vẻ, thoải mái. Hắn định nói với thị một vài câu rõ tình tứ mà chẳng biết nói thế nào. Hắn cứ lúng ta lúng túng, tay nọ xoa xoa vào vai kia đi bên người đàn bà. Thị cũng không nói gì, hai con mắt tư lự nhìn ra phía trước. Tiếng gió trên bờ tre rì rào và tiếng lá khô kêu xào xạc dưới bàn chân.\n",
    "\n",
    "Trong một lúc Tràng hình như quên hết những cảnh sống ê chề, tăm tối hằng ngày, quên cả cái đói khát ghê gớm đang đe dọa, quên cả những tháng ngày trước mặt. Trong lòng hắn bây giờ chỉ còn tình nghĩa giữa hắn với người đàn bà đi bên. Một cái gì mới mẻ, lạ lắm, chưa từng thấy ở người đàn ông nghèo khổ ấy, nó ôm ấp, mơn man khắp da thịt Tràng, tựa hồ như có bàn tay vuốt nhẹ trên sống lưng.\n",
    "\n",
    "- Sắp đến chưa? - Người đàn bà chợt hỏi.\n",
    "\n",
    "- Sắp!\n",
    "\n",
    "- Nhà có ai không?\n",
    "\n",
    "- Có một mình tôi mấy u.\n",
    "\n",
    "Thị tủm tỉm cười:\n",
    "\n",
    "- Đã một mình lại còn mấy u. Bé lắm đấy!\n",
    "\n",
    "Hắn bật cười:\n",
    "\n",
    "- À nhỉ.\n",
    "\n",
    "Câu chuyện xem chừng đã thân thân. Hắn đi sát gần bên thị hơn, ngẫm nghĩ một lúc, chợt hắn giơ cái chai con vẫn cầm lăm lăm một bên tay lên khoe:\n",
    "\n",
    "- Dầu tối thắp đây này.\n",
    "\n",
    "- Sang nhỉ.\n",
    "\n",
    "- Khá thôi. Hai hào đấy, đắt quá, cơ mà thôi chả cần.\n",
    "\n",
    "- Hoang nó vừa vừa chứ.\n",
    "\n",
    "Hắn chặc lưỡi:\n",
    "\n",
    "- Vợ mới vợ miếc cũng phải cho nó sáng sủa một tí chứ, chả nhẽ chưa tối đã rúc vào ngay, hì hì...\n",
    "\n",
    "\n",
    "- Khỉ gió.\n",
    "\n",
    "Thị phát đánh đét vào lưng hắn, khoặm mặt lại.\n",
    "\n",
    "Hắn thích chí ngửa cổ cười khanh khách.\n",
    "\n",
    "Mấy con chó giật mình chạy thọt vào trong lũy thò mõm ra sủa váng lên. Tràng nhặt một hòn gạch vung tay ném mạnh một cái:\n",
    "\n",
    "- Mẹ bố chúng mày cắn gì thế!\n",
    "\n",
    "- Vẫn chưa đến à?\n",
    "\n",
    "- Còn chán.\n",
    "\n",
    "- Khiếp.\n",
    "\n",
    "Thị cau mặt lại, giãy lên. Hắn phì ra cười, cúi xuống nhấc cành dong dấp cổng ra reo lên:\n",
    "\n",
    "- Đây rồi!...\n",
    "Thị lẳng lặng theo hắn vào trong nhà, cái nhà vắng teo đứng rúm ró trên mảnh vườn mọc lổn nhổn những búi cỏ dại. Thị đảo mắt nhìn xung quanh, cái ngực gầy lép nhô hẳn lên, nén một tiếng thở dài. Tràng xăm xăm bước vào trong nhà, nhấc tấm phên rách sang một bên, thu dọn những niêu bát, xống áo vứt bừa bộn cả trên giường, dưới đất. Hắn quay lại nhìn thị cười cười:\n",
    "\n",
    "- Không có người đàn bà, nhà cửa thế đấy!\n",
    "\n",
    "Thị nhếch mép cười nhạt nhẽo. Tràng vỗ vỗ xuống giường đon đả:\n",
    "\n",
    "- Ngồi đây!... Ngồi xuống đây, tự nhiên...\n",
    "\n",
    "Người đàn bà theo lời hắn ngồi mớm xuống mép giường. Cả hai bỗng cùng ngượng nghịu. Tràng đứng tây ngây ra giữa nhà một lúc, chợt hắn thấy sờ sợ. Chính hắn cũng không hiểu sao hắn sợ, hắn lấm lét bước vội mấy bước ra sân gắt lên:\n",
    "\n",
    "- Sao hôm nay bà lão về muộn thế không biết!\n",
    "\n",
    "Hắn loanh quanh hết chạy ra ngõ đứng ngóng, lại chạy vào sân nhìn trộm vào trong nhà. Thị vẫn ngồi mớm ở mép giường, hai tay ôm khư khư cái thúng, mặt bần thần.\n",
    "\n",
    "Hắn nghĩ bụng: “Quái sao nó lại buồn thế nhỉ?... Ồ sao nó lại buồn thế nhỉ?...”. Hắn nhổ vu vơ một bãi nước bọt, tủm tỉm cười một mình. Nhìn thị ngồi ngay giữa nhà, đến bây giờ hắn vẫn còn ngờ ngợ như không phải thế. Ra hắn đã có vợ rồi đấy ư? Hà! Việc xảy ra thật hắn cũng không ngờ, hắn cũng chỉ tầm phơ tầm phào đâu có hai bận ấy thế mà thành vợ thành chồng…\n",
    "\n",
    "Ít lâu nay hắn xe thóc Liên đoàn lên tỉnh. Mỗi bận qua cửa nhà kho lại thấy mấy chị con gái ngồi vêu ra ở đây. Hắn đoán họ ngồi đấy nhặt hạt rơi vãi, hay ai có công việc gì gọi đến thì làm. Một lần hắn đang gò lưng kéo cái xe bò thóc vào dốc tỉnh, hắn hò một câu chơi cho đỡ nhọc. Hắn hò rằng:\n",
    "\n",
    "“Muốn ăn cơm trắng mấy giò này!\n",
    "Lại đây mà đẩy xe bò với anh, nì!”\n",
    "\n",
    "Chủ tâm hắn cũng chẳng có ý chòng ghẹo cô nào, nhưng mấy cô gái lại cứ đẩy vai cô ả này ra với hắn, cười như nắc nẻ:\n",
    "\n",
    "- Kìa anh ấy gọi! Có muốn ăn cơm trắng mấy giò thì ra đẩy xe bò với anh ấy!\n",
    "\n",
    "Thị cong cớn:\n",
    "\n",
    "- Có khối cơm trắng mấy giò đấy! Này, nhà tôi ơi, nói thật hay nói khoác đấy?\n",
    "\n",
    "Tràng ngoái cổ lại vuốt mồ hôi trên mặt cười:\n",
    "\n",
    "- Thật đấy, có đẩy thì ra mau lên!\n",
    "\n",
    "Thị vùng đứng dậy, ton ton chạy lại đẩy xe cho Tràng.\n",
    "\n",
    "- Đã thật thì đẩy chứ sợ gì, đằng ấy nhỉ! - Thị liếc mắt, cười tít.\n",
    "Tràng thích lắm. Từ cha sinh mẹ đẻ đến giờ, chưa có người con gái nào cười với hắn tình tứ như thế.\n",
    "\n",
    "Lần thứ hai, Tràng vừa trả hàng xong, ngồi uống nước ở ngoài cổng chợ tỉnh thì thị ở đâu sầm sập chạy đến. Thị đứng trước mặt hắn sưng sỉa nói:\n",
    "\n",
    "- Điêu! Người thế mà điêu!\n",
    "\n",
    "Hắn giương mắt nhìn thị, không hiểu. Thật ra lúc ấy hắn cũng chưa nhận ra thị là ai. Hôm nay thị rách quá, áo quần tả tơi như tổ đỉa, thị gầy sọp hẳn đi, trên cái khuôn mặt lưỡi cày xám xịt chỉ còn thấy hai con mắt.\n",
    "\n",
    "- Hôm ấy leo lẻo cái mồm hẹn xuống, thế mà mất mặt. à, hắn nhớ ra rồi, hắn toét miệng cười:\n",
    "\n",
    "- Chả hôm ấy thì hôm nay vậy. Này hẵng ngồi xuống ăn miếng giầu đã.\n",
    "\n",
    "- Có ăn gì thì ăn, chả ăn giầu.\n",
    "\n",
    "Thị vẫn đứng cong cớn trước mặt hắn.\n",
    "\n",
    "- Đây, muốn ăn gì thì ăn.\n",
    "\n",
    "Hắn vỗ vỗ vào túi:\n",
    "\n",
    "- Rích bố cu, hở!\n",
    "\n",
    "Hai con mắt trũng hoáy của thị tức thì sáng lên, thị đon đả:\n",
    "\n",
    "- Ăn thật nhá! Ừ ăn thì ăn sợ gì.\n",
    "\n",
    "Thế là thị ngồi sà xuống ăn thật. Thị cắm đầu ăn một chặp bốn bát bánh đúc liền chẳng chuyện trò gì. Ăn xong thị cầm dọc đôi đũa quệt ngang miệng, thở:\n",
    "\n",
    "- Hà, ngon! Về chị ấy thấy hụt tiền thì bỏ bố.\n",
    "\n",
    "Hắn cười:\n",
    "\n",
    "- Làm đếch gì có vợ. Này nói đùa chứ có về với tớ thì ra khuân hàng lên xe rồi cùng về.\n",
    "\n",
    "Nói thế Tràng cũng tưởng là nói đùa, ai ngờ thị về thật. Mới đầu anh chàng cũng chợn, nghĩ: thóc gạo này đến cái thân mình cũng chả biết có nuôi nổi không, lại còn đèo bòng. Sau không biết nghĩ thế nào hắn chặc lưỡi một cái:\n",
    "\n",
    "- Chặc, kệ!\n",
    "\n",
    "Hôm ấy hắn đưa thị vào chợ tỉnh bỏ tiền ra mua cho thị cái thúng con đựng vài thứ lặt vặt và ra hàng cơm đánh một bữa thật no nê rồi cùng đẩy xe bò về...\n",
    "\n",
    "Tràng chợt đứng dừng lại, lắng tai nghe. Ngoài ngõ có tiếng người húng hắng ho, một bà lão từ ngoài rặng tre lọng khọng đi vào ngõ. Bà lão vừa đi vừa lẩm bẩm tính toán gì trong miệng.\n",
    "\n",
    "Thấy mẹ, Tràng reo lên như một đứa trẻ, và gọi với vào trong nhà:\n",
    "\n",
    "- U đã về đấy!\n",
    "\n",
    "Hắn lật đật chạy ra đón:\n",
    "\n",
    "- Hôm nay sao u về muộn thế! Làm tôi đợi nóng cả ruột.\n",
    "\n",
    "Bà cụ Tứ nhấp nháy hai con mắt nhìn Tràng, chậm chạp hỏi:\n",
    "\n",
    "- Có việc gì thế vậy?\n",
    "\n",
    "- Thì u hẵng cứ vào trong nhà đã nào.\n",
    "Bà lão phấp phỏng bước theo con vào trong nhà. Đến giữa sân bà lão đứng sững lại, bà lão càng ngạc nhiên hơn. Quái, sao lại có người đàn bà nào ở trong ấy nhỉ? Người đàn bà nào lại đứng ngay đầu giường thằng con mình thế kia? Sao lại chào mình bằng u? Không phải con cái Đục mà. Ai thế nhỉ? Bà lão hấp háy cặp mắt cho đỡ nhoèn vì tự dưng bà lão thấy mắt mình nhoèn ra thì phải. Bà lão nhìn kỹ người đàn bà lẫn nữa, vẫn chưa nhận ra người nào. Bà lão quay lại nhìn con tỏ ý không hiểu.\n",
    "\n",
    "Tràng tươi cười:\n",
    "\n",
    "- Thì u hẵng vào ngồi lên giường lên diếc chĩnh chện cái đã nào.\n",
    "\n",
    "Bà lão lập cập bước vào. Người đàn bà tưởng bà lão già cả, điếc lác, thị cất tiếng chào lần nữa:\n",
    "\n",
    "- U đã về ạ!\n",
    "\n",
    "Ô hay, thế là thế nào nhỉ? Bà lão băn khoăn ngồi xuống giường.\n",
    "\n",
    "Tràng nhắc mẹ:\n",
    "\n",
    "- Kìa nhà tôi nó chào u.\n",
    "\n",
    "Thấy mẹ vẫn chưa hiểu, hắn bước lại gần nói tiếp:\n",
    "\n",
    "- Nhà tôi nó mới về làm bạn với tôi đấy u ạ! Chúng tôi phải duyên phải kiếp với nhau... Chẳng qua nó cũng là cái số cả...\n",
    "\n",
    "Bà lão cúi đầu nín lặng. Bà lão hiểu rồi. Lòng người mẹ nghèo khổ ấy còn hiểu ra biết bao nhiêu cơ sự, vừa ai oán vừa xót thương cho số kiếp đứa con mình. Chao ôi, người ta dựng vợ gả chồng cho con là lúc trong nhà ăn nên làm nổi, những mong sinh con đẻ cái mở mặt sau này. Còn mình thì... Trong kẽ mắt kèm nhèm của bà rủ xuống hai dòng nước mắt... Biết rằng chúng nó có nuôi nổi nhau sống qua được cơn đói khát này không?\n",
    "\n",
    "Bà lão khẽ thở dài đứng lên, đăm đăm nhìn người đàn bà. Thị cúi mặt xuống, tay vân vê tà áo đã rách bợt. Bà lão nhìn thị và bà nghĩ: Người ta có gặp bước khó khăn, đói khổ này, người ta mới lấy đến con mình. Mà con mình mới có vợ được... Thôi thì bổn phận bà là mẹ, bà đã chẳng lo lắng được cho con... May ra mà qua khỏi được cái tao đoạn này thì thằng con bà cũng có vợ, nó yên bề nó, chẳng may ra ông giời bắt chết cũng phải chịu chứ biết thế nào mà lo cho hết được?\n",
    "\n",
    "Bà lão khẽ dặng hắng một tiếng, nhẹ nhàng nói với “nàng dâu mới”:\n",
    "\n",
    "- Ừ, thôi thì các con đã phải duyên phải kiếp với nhau, u cũng mừng lòng...\n",
    "\n",
    "Tràng thở đánh phào một cái, ngực nhẹ hẳn đi. Hắn ho khẽ một tiếng, bước từng bước dài ra sân. Bà cụ Tứ vẫn từ tốn tiếp lời:\n",
    "- Nhà ta nghèo con ạ. Vợ chồng chúng mày liệu mà bảo nhau làm ăn. Rồi ra may mà ông giời cho khá... Biết thế nào hở con, ai giàu ba họ, ai khó ba đời? Có ra thì rồi con cái chúng mày về sau.\n",
    "\n",
    "Bà lão đăm đăm nhìn ra ngoài. Bóng tối trùm lấy hai con mắt. Ngoài xa dòng sông sáng trắng uốn khúc trong cánh đồng tối. Mùi đốt đống rấm ở những nhà có người chết theo gió thoảng vào khét lẹt. Bà lão thở nhẹ ra một hơi dài. Bà lão nghĩ đến ông lão, nghĩ đến đưa con gái út. Bà lão nghĩ đến cuộc đời cực khổ dài dằng dặc của mình. Vợ chồng chúng nó lấy nhau, cuộc đời chúng nó liệu có hơn bố mẹ trước kia không?...\n",
    "\n",
    "- Con ngồi xuống đây. Ngồi xuống đây cho đỡ mỏi chân.\n",
    "\n",
    "Bà lão nhìn người đàn bà, lòng đầy thương xót. Nó bây giờ là dâu là con trong nhà rồi. Người đàn bà khẽ nhúc nhích, thị vẫn khép nép đứng nguyên chỗ cũ. Bà lão hạ thấp giọng xuống thân mật:\n",
    "\n",
    "- Kể có ra làm được dăm ba mâm thì phải đấy, nhưng nhà mình nghèo, cũng chả ai người ta chấp nhặt chỉ cái lúc này. Cốt làm sao chúng mày hòa thuận là u mừng rồi. Năm nay thì đói to đấy. Chúng mày lấy nhau lúc này, u thương quá...\n",
    "\n",
    "Bà cụ nghẹn lời không nói được nữa, nước mắt cứ chảy xuống ròng ròng. Tràng đứng ngoài thấy vậy, hắn bực mình quá hầm hầm bước vào trong nhà, đánh diêm đốt đèn. Thấy sáng, bà lão vội vàng lau nước mắt ngửng lên:\n",
    "\n",
    "- Có đèn đấy à? Ừ thắp lên một tí cho sáng sủa... Dầu bây giờ đắt gớm lên ấy mày ạ.\n",
    "\n",
    "Bà lão đứng dậy uể oải sang giường bên kia nằm. Tràng làu bàu trong miệng: “Chán quá, chẳng đâu vào đâu tự nhiên cũng khóc!”\n",
    "\n",
    "Tiếng bà cụ Tứ bên kia nói với sang:\n",
    "\n",
    "- Hôm nào nghỉ ở nhà kiếm lấy ít nứa về đan cái phên mà ngăn ra mày ạ.\n",
    "\n",
    "- Vâng.\n",
    "\n",
    "Tràng ngoan ngoãn đáp lời mẹ. Hắn toan quay lại bảo thị cởi áo đi nằm, nhưng thấy thị ngồi bần thần dưới chân giường tự nhiên hắn lại không dám. Hắn lẳng lặng ngồi xuống cái ghế bên cạnh, cả hai cùng sượng sùng chả biết nói gì. Ánh đèn vàng đục ở góc nhà tỏa ra ấm áp và kéo dài hai cái bóng trên vách. Bên ngoài gió từ mặt sông thổi lên rì rào như tiếng người thầm thì nói chuyện. Giữa sự im lặng của đôi vợ chồng mới, có tiếng ai hờ khóc ngoài xóm lọt vào tỉ tê lúc to lúc nhỏ. Người đàn bà bỗng thở dài. Tràng quay lại khẽ hỏi:\n",
    "\n",
    "- Buồn à?\n",
    "\n",
    "- Không.\n",
    "\n",
    "- Gớm sao lúc này nói chuyện dai thế, đợi sốt cả ruột.\n",
    "Thị lườm hắn không trả lời. Hắn xích lại cười cười:\n",
    "\n",
    "- Thôi khuya rồi đấy, ngủ đi.\n",
    "\n",
    "Thị giơ tay củng vào trán hắn:\n",
    "\n",
    "- Chỉ được cái thế là nhanh. Dơ!\n",
    "\n",
    "Hắn cười khì khì, vươn cổ thổi tắt phụt ngọn đèn. Trong đêm khuya tiếng hờ khóc tỉ tê nghe càng rõ...\n",
    "\n",
    "Sáng hôm sau, mặt trời lên bằng con sào, Tràng mới trở dậy. Trong người êm ái lửng lơ như người vừa ở trong giấc mơ đi ra. Việc hắn có vợ đến hôm nay hắn vẫn còn ngỡ ngàng như không phải.\n",
    "\n",
    "Hắn chắp hai tay sau lưng lững thững bước ra sân. Ánh nắng buổi sáng mùa hè sáng lóa xói vào hai con mắt còn cay xè của hắn. Hắn chớp chớp liên hồi mấy cái, và bỗng vừa chợt nhận ra, xung quanh mình có cái gì vừa thay đổi mới mẻ, khác lạ. Nhà cửa, sân vườn hôm nay đều được quét tước, thu dọn sạch sẽ gọn gàng. Mấy chiếc quần áo rách như tổ đỉa vẫn vắt khươm mươi niên ở một góc nhà đã thấy đem ra sân hong. Hai cái ang nước vẫn để khô cong ở dưới gốc ổi đã kín nước đầy ăm ắp. Đống rác mùn tung hoành ngay lối đi đã hót sạch.\n",
    "\n",
    "Ngoài vườn người mẹ đang lúi húi giẫy những búi cỏ mọc nham nhở. Vợ hắn quét lại cái sân, tiếng chổi từng nhát kêu sàn sạt trên mặt đất. Cảnh tượng thật đơn giản, bình thường nhưng đối với hắn lại rất thấm thía cảm động. Bỗng nhiên hắn thấy hắn thương yêu gắn bó với cái nhà của hắn lạ lùng. Hắn đã có một gia đình. Hắn sẽ cùng vợ sinh con đẻ cái ở đấy. Cái nhà như cái tổ ấm che mưa che nắng. Một nguồn vui sướng, phấn chấn đột ngột tràn ngập trong lòng. Bây giờ hắn mới thấy hắn nên người, hắn thấy hắn có bổn phận phải lo lắng cho vợ con sau này. Hắn xăm xăm chạy ra giữa sân, hắn cũng muốn làm một việc gì để dự phần tu sửa lại căn nhà.\n",
    "\n",
    "Bà cụ Tứ chợt thấy con giai đã dậy, bà lão nhẹ nhàng bảo nàng dâu:\n",
    "\n",
    "- Anh ấy dậy rồi đấy. Con đi dọn cơm ăn chẳng muộn.\n",
    "\n",
    "- Vâng.\n",
    "Người đàn bà lẳng lặng đi vào trong bếp. Tràng nom thị hôm nay khác lắm, rõ ràng là người đàn bà hiền hậu đúng mực không còn vẻ gì chao chát chỏng lỏn như mấy lần Tràng gặp ở ngoài tỉnh. Không biết có phải vì mới làm dâu mà thị tu chí làm ăn không? Bà mẹ Tràng cũng nhẹ nhõm, tươi tỉnh khác ngày thường, cái mặt bủng beo u ám của bà rạng rỡ hẳn lên. Bà lão xăm xắn thu dọn, quét tước nhà cửa. Hình như ai nấy đều có ý nghĩ rằng thu xếp cửa nhà cho quang quẻ, nề nếp thì cuộc đời họ có thể khác đi, làm ăn có cơ khấm khá hơn.\n",
    "\n",
    "Bữa cơm ngày đói trông thật thảm hại. Giữa cái mẹt rách có độc một lùm rau chuối thái rối, và một đĩa muối ăn với cháo, nhưng cả nhà đều ăn rất ngon lành. Bà cụ vừa ăn vừa kể chuyện làm ăn, gia cảnh với con dâu. Bà lão nói toàn chuyện vui, toàn chuyện sung sướng về sau này:\n",
    "\n",
    "- Tràng ạ. Khi nào có tiền ta mua lấy đôi gà. Tao tin rằng cái chỗ đầu bếp kia làm cái chuồng gà thì tiện quá. Này ngoảnh đi ngoảnh lại chả mấy mà có ngay đàn gà cho mà xem...\n",
    "\n",
    "Tràng chỉ vâng. Tràng vâng rất ngoan ngoãn. Chưa bao giờ trong nhà này mẹ con lại đầm ấm, hòa hợp như thế. Câu chuyện trong bữa ăn đang đà vui bỗng ngừng lại. Niêu cháo lõng bõng, mỗi người được có lưng lưng hai bát đã hết nhẵn.\n",
    "\n",
    "Bà lão đặt đũa bát xuống, nhìn hai con vui vẻ:\n",
    "\n",
    "- Chúng mày đợi u nhá. Tao có cái này hay lắm cơ.\n",
    "\n",
    "Bà lật đật chạy xuống bếp, lễ mễ bưng ra một cái nồi khói bốc lên nghi ngút. Bà lão đặt cái nồi xuống bên cạnh mẹt cơm, cầm cái môi vừa khuấy khuấy vừa cười:\n",
    "\n",
    "- Chè đây. - Bà lão múc ra một bát - Chè khoán đây, ngon đáo để cơ.\n",
    "\n",
    "Người con dâu đón lấy cái bát, đưa lên mắt nhìn, hai con mắt thị tối lại. Thị điềm nhiên và vào miệng. Tràng cầm cái bát thứ hai mẹ đưa cho, người mẹ vẫn tươi cười, đon đả:\n",
    "\n",
    "- Cám đấy mày ạ, hì. Ngon đáo để, cứ thử ăn mà xem. Xóm ta khối nhà còn chả có cám mà ăn đấy.\n",
    "\n",
    "Tràng cầm đôi đũa, gợt một miếng bỏ vội vào miệng. Mặt hắn chum ngay lại, miếng cám đắng chát và nghẹn bứ trong cổ. Bữa cơm từ đấy không ai nói câu gì, họ cắm đầu ăn cho xong lần, họ tránh nhìn mặt nhau. Một nỗi tủi hờn len vào tâm trí mọi người.\n",
    "\n",
    "Ngoài đình bỗng dội lên một hồi trống, dồn dập, vội vã. Đàn quạ trên những cây gạo cao chót vót ngoài bãi chợ hốt hoảng bay vù lên, lượn thành từng đám bay vần trên nền trời như những đám mây đen.\n",
    "Người con dâu khẽ thở dài, thị nói lí nhí trong miệng:\n",
    "\n",
    "- Trống gì đấy, u nhỉ?\n",
    "\n",
    "- Trống thúc thuế đấy. Đằng thì nó bắt gồng đay, đằng thì nó bắt đóng thuế. Giời đất này không chắc đã sống qua được đâu các con ạ... - Bà lão ngoảnh vội ra ngoài. Bà lão không dám để con dâu nhìn thấy bà khóc.\n",
    "\n",
    "Người con dâu có vẻ lạ lắm, thị lầm bầm:\n",
    "\n",
    "- Ở đây vẫn phải đóng thuế cơ à?\n",
    "\n",
    "Im lặng một lúc thị lại tiếp:\n",
    "\n",
    "- Trên mạn Thái Nguyên, Bắc Giang người ta không chịu đóng thuế nữa đâu. Người ta còn phá cả kho thóc của Nhật, chia cho người đói nữa đấy.\n",
    "\n",
    "Tràng thần mặt ra nghĩ ngợi. Cái mặt to lớn bặm lại, khó đăm đăm. Miếng cám ngậm trong miệng hắn đã bã ra chát xít... Hắn đang nghĩ đến những người phá kho thóc Nhật.\n",
    "\n",
    "Tràng hỏi vội trong miếng ăn:\n",
    "\n",
    "- Việt Minh phải không?\n",
    "\n",
    "- Ừ, sao nhà biết?\n",
    "\n",
    "Tràng không trả lời. Trong ý nghĩ của hắn vụt hiện ra cảnh những người nghèo đói ầm ầm kéo nhau đi trên đê Sộp. Đằng trước có lá cờ đỏ to lắm.\n",
    "\n",
    "Hôm ấy hắn láng máng nghe người ta nói họ là Việt Minh đấy. Họ đi cướp thóc đấy. Tràng không hiểu gì sợ quá, kéo vội xe thóc của Liên đoàn tắt cánh động đi lối khác. À ra họ đi phá kho thóc chia cho người đói. Tự dưng hắn thấy ân hận, tiếc rẻ vẩn vơ, khó hiểu.\n",
    "\n",
    "Ngoài đình tiếng trống thúc thuế vẫn dồn dập. Mẹ và vợ Tràng đã buông đũa đứng dậy.\n",
    "\n",
    "Trong óc Tràng vẫn thấy đám người đói và lá cờ đỏ bay phấp phới…\n",
    "'''\n",
    "\n",
    "# viết 1 đoạn chương trình để xây dựng 1 dictionary có các key là những từ bên trong vân bản\n",
    "# và giá trị của key là số lần lặp lại từ đó trong văn bản\n",
    "# D = {\"trên\":10,\"tràng\":20,....}\n",
    "# tạo 1 list chưa các ký tự đặc biệt bên trong văn bản\n",
    "# chạy dòng for lặp từng ký tự bên trong văn bản\n",
    "# kt nếu ký tự ko là chữ cái hoặc số và ký tự chưa có trong list thì đưa vào list ký tự\n",
    "\n",
    "L_kytu = []\n",
    "for kytu in chuoi:\n",
    "    if kytu != \"\\n\" and kytu != \" \" and not kytu.isalpha() and kytu not in L_kytu:\n",
    "        L_kytu.append(kytu)\n",
    "\n",
    "print(L_kytu)\n",
    "\n",
    "### xóa các ký tự đặc biệt trong văn bản\n",
    "for kytu in L_kytu:\n",
    "    chuoi = chuoi.replace(kytu,\"\")\n",
    "#print(chuoi)\n",
    "# lệnh split sẽ cắt chuỗi ra thành các từ và đưa các từ đó vào trong 1 list\n",
    "L_tu = chuoi.split()\n",
    "#print(L_tu)\n",
    "D = {}\n",
    "\n",
    "for tu in L_tu:\n",
    "    # D = {\"trên\":10,\"tràng\":20,....}\n",
    "    #print(tu)\n",
    "    tu = tu.lower() # chuyen ve in thuong\n",
    "    if tu in D:\n",
    "        D[tu] += 1\n",
    "    else: # chưa có key thì tạo\n",
    "        D[tu] = 1\n",
    "\n",
    "print(D)\n",
    "    \n",
    "            \n",
    "    "
   ]
  },
  {
   "cell_type": "markdown",
   "id": "57c6f1e7",
   "metadata": {},
   "source": [
    "Viết chương trình cho phép người dùng quản lý sản phẩm, gồm các chức năng sau: \n",
    "\n",
    "- Hiển thị danh sách sản phẩm\n",
    "- Thêm sản phẩm mới vào danh sách\n",
    "- Sửa tên của sản phẩm trong danh sách\n",
    "- Xoá một sản phẩm khỏi danh sách"
   ]
  },
  {
   "cell_type": "code",
   "execution_count": null,
   "id": "d1d0c0ee-501c-47bd-ad42-c0323a3e1d87",
   "metadata": {},
   "outputs": [],
   "source": [
    "# Tạo một danh sách rỗng để lưu trữ các sản phẩm\n",
    "san_pham = []\n",
    "\n",
    "# Tạo một hàm để hiển thị danh sách sản phẩm\n",
    "def hien_thi():\n",
    "# Kiểm tra nếu danh sách rỗng\n",
    "if not san_pham:\n",
    "# In ra thông báo\n",
    "print(\"Danh sách sản phẩm trống!\")\n",
    "else:\n",
    "# In ra tiêu đề\n",
    "print(\"Danh sách sản phẩm:\")\n",
    "print(\"Mã\\tTên\\tGiá\\tSố lượng\")\n",
    "# Duyệt qua từng sản phẩm trong danh sách\n",
    "for sp in san_pham:\n",
    "# In ra thông tin của sản phẩm\n",
    "print(f\"{sp['ma']}\\t{sp['ten']}\\t{sp['gia']}\\t{sp['so_luong']}\")\n",
    "\n",
    "# Tạo một hàm để thêm sản phẩm mới vào danh sách\n",
    "def them():\n",
    "# Nhập mã sản phẩm\n",
    "ma = input(\"Nhập mã sản phẩm: \")\n",
    "# Kiểm tra nếu mã sản phẩm đã tồn tại trong danh sách\n",
    "if any(sp['ma'] == ma for sp in san_pham):\n",
    "# In ra thông báo lỗi\n",
    "print(\"Mã sản phẩm đã tồn tại!\")\n",
    "else:\n",
    "# Nhập tên sản phẩm\n",
    "ten = input(\"Nhập tên sản phẩm: \")\n",
    "# Nhập giá sản phẩm\n",
    "gia = float(input(\"Nhập giá sản phẩm: \"))\n",
    "# Nhập số lượng sản phẩm\n",
    "so_luong = int(input(\"Nhập số lượng sản phẩm: \"))\n",
    "# Tạo một dictionary để lưu trữ thông tin của sản phẩm\n",
    "sp = {'ma': ma, 'ten': ten, 'gia': gia, 'so_luong': so_luong}\n",
    "# Thêm sản phẩm vào danh sách\n",
    "san_pham.append(sp)\n",
    "# In ra thông báo thành công\n",
    "print(\"Thêm sản phẩm thành công!\")\n",
    "\n",
    "# Tạo một hàm để sửa tên của sản phẩm trong danh sách\n",
    "def sua():\n",
    "# Nhập mã sản phẩm cần sửa\n",
    "ma = input(\"Nhập mã sản phẩm cần sửa: \")\n",
    "# Tìm vị trí của sản phẩm trong danh sách\n",
    "vi_tri = -1\n",
    "for i in range(len(san_pham)):\n",
    "if san_pham[i]['ma'] == ma:\n",
    "vi_tri = i\n",
    "break\n",
    "# Kiểm tra nếu không tìm thấy sản phẩm\n",
    "if vi_tri == -1:\n",
    "# In ra thông báo lỗi\n",
    "print(\"Không tìm thấy sản phẩm!\")\n",
    "else:\n",
    "# Nhập tên mới cho sản phẩm\n",
    "ten_moi = input(\"Nhập tên mới cho sản phẩm: \")\n",
    "# Cập nhật tên sản phẩm trong danh sách\n",
    "san_pham[vi_tri]['ten'] = ten_moi\n",
    "# In ra thông báo thành công\n",
    "print(\"Sửa tên sản phẩm thành công!\")\n",
    "\n",
    "# Tạo một hàm để xóa một sản phẩm khỏi danh sách\n",
    "def xoa():\n",
    "# Nhập mã sản phẩm cần xóa\n",
    "ma = input(\"Nhập mã sản phẩm cần xóa: \")\n",
    "# Tìm vị trí của sản phẩm trong danh sách\n",
    "vi_tri = -1\n",
    "for i in range(len(san_pham)):\n",
    "if san_pham[i]['ma'] == ma:\n",
    "vi_tri = i\n",
    "break\n",
    "# Kiểm tra nếu không tìm thấy sản phẩm\n",
    "if vi_tri == -1:\n",
    "# In ra thông báo lỗi\n",
    "print(\"Không tìm thấy sản phẩm!\")\n",
    "else:\n",
    "# Xóa sản phẩm khỏi danh sách\n",
    "san_pham.pop(vi_tri)\n",
    "# In ra thông báo thành công\n",
    "print(\"Xóa sản phẩm thành công!\")\n",
    "\n",
    "# Tạo một vòng lặp để hiển thị menu và xử lý lựa chọn của người dùng\n",
    "while True:\n",
    "# In ra menu\n",
    "print(\"Menu:\")\n",
    "print(\"1. Hiển thị danh sách sản phẩm\")\n",
    "print(\"2. Thêm sản phẩm mới\")\n",
    "print(\"3. Sửa tên sản phẩm\")\n",
    "print(\"4. Xóa sản phẩm\")\n",
    "print(\"5. Thoát chương trình\")\n",
    "# Nhập lựa chọn của người dùng\n",
    "lua_chon = int(input(\"Nhập lựa chọn của bạn (1-5): \"))\n",
    "# Kiểm tra lựa chọn của người dùng\n",
    "if lua_chon == 1:\n",
    "# Gọi hàm hiển thị danh sách sản phẩm\n",
    "hien_thi()\n",
    "elif lua_chon == 2:\n",
    "# Gọi hàm thêm sản phẩm mới\n",
    "them()\n",
    "elif lua_chon == 3:\n",
    "# Gọi hàm sửa tên sản phẩm\n",
    "sua()\n",
    "elif lua_chon == 4:\n",
    "# Gọi hàm xóa sản phẩm\n",
    "xoa()\n",
    "elif lua_chon == 5:\n",
    "# Thoát khỏi vòng lặp\n",
    "break\n",
    "else:\n",
    "# In ra thông báo lựa chọn không hợp lệ\n",
    "print(\"Lựa chọn không hợp lệ!\")"
   ]
  },
  {
   "cell_type": "code",
   "execution_count": null,
   "id": "8541b8c3",
   "metadata": {},
   "outputs": [
    {
     "name": "stdout",
     "output_type": "stream",
     "text": [
      "\n",
      "Chọn chức năng:\n",
      "1. Hiển thị danh sách sản phẩm\n",
      "2. Thêm sản phẩm mới\n",
      "3. Sửa tên sản phẩm\n",
      "4. Xoá một sản phẩm\n",
      "0. Thoát\n"
     ]
    },
    {
     "name": "stdin",
     "output_type": "stream",
     "text": [
      "Nhập lựa chọn của bạn:  2\n",
      "nhập tên sản phẩm: cá hồi\n"
     ]
    },
    {
     "name": "stdout",
     "output_type": "stream",
     "text": [
      "Sản phẩm {ten_san_pham} đã được thêm vào\n",
      "\n",
      "Chọn chức năng:\n",
      "1. Hiển thị danh sách sản phẩm\n",
      "2. Thêm sản phẩm mới\n",
      "3. Sửa tên sản phẩm\n",
      "4. Xoá một sản phẩm\n",
      "0. Thoát\n"
     ]
    },
    {
     "name": "stdin",
     "output_type": "stream",
     "text": [
      "Nhập lựa chọn của bạn:  2\n",
      "nhập tên sản phẩm: cá thu\n"
     ]
    },
    {
     "name": "stdout",
     "output_type": "stream",
     "text": [
      "Sản phẩm {ten_san_pham} đã được thêm vào\n",
      "\n",
      "Chọn chức năng:\n",
      "1. Hiển thị danh sách sản phẩm\n",
      "2. Thêm sản phẩm mới\n",
      "3. Sửa tên sản phẩm\n",
      "4. Xoá một sản phẩm\n",
      "0. Thoát\n"
     ]
    },
    {
     "name": "stdin",
     "output_type": "stream",
     "text": [
      "Nhập lựa chọn của bạn:  1\n"
     ]
    },
    {
     "name": "stdout",
     "output_type": "stream",
     "text": [
      "\n",
      "Chọn chức năng:\n",
      "1. Hiển thị danh sách sản phẩm\n",
      "2. Thêm sản phẩm mới\n",
      "3. Sửa tên sản phẩm\n",
      "4. Xoá một sản phẩm\n",
      "0. Thoát\n"
     ]
    },
    {
     "name": "stdin",
     "output_type": "stream",
     "text": [
      "Nhập lựa chọn của bạn:  1\n"
     ]
    },
    {
     "name": "stdout",
     "output_type": "stream",
     "text": [
      "\n",
      "Chọn chức năng:\n",
      "1. Hiển thị danh sách sản phẩm\n",
      "2. Thêm sản phẩm mới\n",
      "3. Sửa tên sản phẩm\n",
      "4. Xoá một sản phẩm\n",
      "0. Thoát\n"
     ]
    },
    {
     "name": "stdin",
     "output_type": "stream",
     "text": [
      "Nhập lựa chọn của bạn:  1\n"
     ]
    },
    {
     "name": "stdout",
     "output_type": "stream",
     "text": [
      "\n",
      "Chọn chức năng:\n",
      "1. Hiển thị danh sách sản phẩm\n",
      "2. Thêm sản phẩm mới\n",
      "3. Sửa tên sản phẩm\n",
      "4. Xoá một sản phẩm\n",
      "0. Thoát\n"
     ]
    },
    {
     "name": "stdin",
     "output_type": "stream",
     "text": [
      "Nhập lựa chọn của bạn:  2\n",
      "nhập tên sản phẩm: cá\n"
     ]
    },
    {
     "name": "stdout",
     "output_type": "stream",
     "text": [
      "Sản phẩm {ten_san_pham} đã được thêm vào\n",
      "\n",
      "Chọn chức năng:\n",
      "1. Hiển thị danh sách sản phẩm\n",
      "2. Thêm sản phẩm mới\n",
      "3. Sửa tên sản phẩm\n",
      "4. Xoá một sản phẩm\n",
      "0. Thoát\n"
     ]
    },
    {
     "name": "stdin",
     "output_type": "stream",
     "text": [
      "Nhập lựa chọn của bạn:  2\n",
      "nhập tên sản phẩm: thit\n"
     ]
    },
    {
     "name": "stdout",
     "output_type": "stream",
     "text": [
      "Sản phẩm {ten_san_pham} đã được thêm vào\n",
      "\n",
      "Chọn chức năng:\n",
      "1. Hiển thị danh sách sản phẩm\n",
      "2. Thêm sản phẩm mới\n",
      "3. Sửa tên sản phẩm\n",
      "4. Xoá một sản phẩm\n",
      "0. Thoát\n"
     ]
    },
    {
     "name": "stdin",
     "output_type": "stream",
     "text": [
      "Nhập lựa chọn của bạn:  2\n",
      "nhập tên sản phẩm: trung\n"
     ]
    },
    {
     "name": "stdout",
     "output_type": "stream",
     "text": [
      "Sản phẩm {ten_san_pham} đã được thêm vào\n",
      "\n",
      "Chọn chức năng:\n",
      "1. Hiển thị danh sách sản phẩm\n",
      "2. Thêm sản phẩm mới\n",
      "3. Sửa tên sản phẩm\n",
      "4. Xoá một sản phẩm\n",
      "0. Thoát\n"
     ]
    }
   ],
   "source": [
    "# hiển thị danh sách sản phẩm\n",
    "def danh_sach_san_pham(DS):    \n",
    "    print(\"Danh sách sản phẩm\")\n",
    "    for i in DS:\n",
    "        print(\"Tên sản phẩm\",i)\n",
    "    \n",
    "# thêm sản phảm mới vào danh sách\n",
    "def them_san_pham(DS):\n",
    "    ten_san_pham = input(\"nhập tên sản phẩm cần thêm:\")\n",
    "    san_pham_moi = {\"ten\": ten_san_pham}\n",
    "    DS.append(san_pham_moi)\n",
    "    print(\"Sản phẩm\",ten_san_pham,\"đã được thêm vào danh sách\")\n",
    "    \n",
    "# sửa tên của sản phẩm trong danh sách\n",
    "def sua_ten_san_pham(DS):\n",
    "    ten_can_sua = input(\"Nhập tên sản phẩm cần sửa:\")\n",
    "    vi_tri = -1\n",
    "    for i in range(len(DS)):\n",
    "        if DS[i] == ten_can_sua:\n",
    "            vi_tri == i\n",
    "            break\n",
    "        if vi_tri == -1:\n",
    "            print(\"Sản phẩm không có trong danh sách\")\n",
    "        else:\n",
    "            ten_moi = input(\"nhập tên sản phẩm mới:\")\n",
    "            san_pham[vi_tri][\"ten\"] = ten_moi\n",
    "\n",
    "# xóa một sản phẩm khỏi dánh sách\n",
    "def xoa_san_pham(DS):\n",
    "    ten_xoa = input(\"nhập tên sản phẩm cần xóa:\")\n",
    "    vi_tri = -1\n",
    "    for i in range(len(DS)):\n",
    "        if DS[i][\"ten\"] == ten_xoa:\n",
    "            vi_tri = i\n",
    "            break\n",
    "\n",
    "\n",
    "while True:\n",
    "    print(\"\\nChọn chức năng:\")\n",
    "    print(\"1. Hiển thị danh sách sản phẩm\")\n",
    "    print(\"2. Thêm sản phẩm mới\")\n",
    "    print(\"3. Sửa tên sản phẩm\")\n",
    "    print(\"4. Xoá một sản phẩm\")\n",
    "    print(\"0. Thoát\")\n",
    "\n",
    "    lua_chon = input(\"Nhập lựa chọn của bạn: \")\n",
    "\n",
    "    if lua_chon == '1':\n",
    "        danh_sach_san_pham(san_pham)\n",
    "    elif lua_chon == '2':\n",
    "        them_san_pham(san_pham)\n",
    "    elif lua_chon == '3':\n",
    "        sua_ten_san_pham(san_pham)\n",
    "    elif lua_chon == '4':\n",
    "        xoa_san_pham(san_pham)\n",
    "    elif lua_chon == '0':\n",
    "        print(\"Thoát chương trình. Tạm biệt!\")\n",
    "        break\n",
    "    else:\n",
    "        print(\"Lựa chọn không hợp lệ. Vui lòng chọn lại.\")\n"
   ]
  }
 ],
 "metadata": {
  "kernelspec": {
   "display_name": "Python 3 (ipykernel)",
   "language": "python",
   "name": "python3"
  },
  "language_info": {
   "codemirror_mode": {
    "name": "ipython",
    "version": 3
   },
   "file_extension": ".py",
   "mimetype": "text/x-python",
   "name": "python",
   "nbconvert_exporter": "python",
   "pygments_lexer": "ipython3",
   "version": "3.11.3"
  }
 },
 "nbformat": 4,
 "nbformat_minor": 5
}
