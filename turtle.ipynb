{
 "cells": [
  {
   "cell_type": "code",
   "execution_count": 4,
   "id": "4e5ee31e-4857-4bbb-99af-2eda32263b60",
   "metadata": {},
   "outputs": [],
   "source": [
    "import turtle\n",
    "t = turtle.Turtle()\n",
    "t.fd(100)\n",
    "t.rt(90)\n",
    "t.fd(100)\n",
    "t.rt(90)\n",
    "t.fd(100)\n",
    "t.rt(90)\n",
    "t.fd(100)"
   ]
  },
  {
   "cell_type": "code",
   "execution_count": 7,
   "id": "b090ba48-f41f-4382-8979-d505028fa6b1",
   "metadata": {},
   "outputs": [],
   "source": [
    "import turtle\n",
    "t = turtle.Turtle()\n",
    "for i in range(4):\n",
    "    t.fd(100)\n",
    "    t.rt(90)"
   ]
  },
  {
   "cell_type": "code",
   "execution_count": 9,
   "id": "dd79b6d8-f272-47dd-a7ab-c09f28c7e603",
   "metadata": {},
   "outputs": [],
   "source": [
    "import turtle\n",
    "t = turtle.Turtle()\n",
    "for i in range(4):\n",
    "    t.fd(100)\n",
    "    t.rt(90)\n",
    "t.penup()\n",
    "t.fd(150)\n",
    "t.pendown()\n",
    "for i in range(4):\n",
    "    t.fd(100)\n",
    "    t.rt(90)\n"
   ]
  },
  {
   "cell_type": "code",
   "execution_count": null,
   "id": "28b2dfc2-2694-41e6-b4f2-246a4438fd38",
   "metadata": {},
   "outputs": [],
   "source": []
  }
 ],
 "metadata": {
  "kernelspec": {
   "display_name": "Python 3 (ipykernel)",
   "language": "python",
   "name": "python3"
  },
  "language_info": {
   "codemirror_mode": {
    "name": "ipython",
    "version": 3
   },
   "file_extension": ".py",
   "mimetype": "text/x-python",
   "name": "python",
   "nbconvert_exporter": "python",
   "pygments_lexer": "ipython3",
   "version": "3.11.3"
  }
 },
 "nbformat": 4,
 "nbformat_minor": 5
}
