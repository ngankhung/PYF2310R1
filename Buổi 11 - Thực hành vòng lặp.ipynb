{
 "cells": [
  {
   "cell_type": "markdown",
   "id": "1f7be993",
   "metadata": {},
   "source": [
    "# Thực tập vòng lặp While\n",
    "\n",
    "### Bài 1\n",
    "\n",
    "Nhập vào số a, sử dụng lệnh while (không sử dụng break và for) để xác định xem số đó có phải là số nguyên tố hay không"
   ]
  },
  {
   "cell_type": "code",
   "execution_count": 1,
   "id": "8cb73965",
   "metadata": {},
   "outputs": [
    {
     "name": "stdin",
     "output_type": "stream",
     "text": [
      "nhap so a: 15\n"
     ]
    },
    {
     "name": "stdout",
     "output_type": "stream",
     "text": [
      "15 khong la so nguyen to\n"
     ]
    }
   ],
   "source": [
    "a = int(input(\"nhap so a:\"))\n",
    "\n",
    "dem = 0\n",
    "uoc = 1\n",
    "\n",
    "while uoc <= a:\n",
    "    if a % uoc == 0:\n",
    "        dem += 1\n",
    "    uoc += 1\n",
    "if dem == 2:\n",
    "    print(a,\"la so nguyen to\")\n",
    "else:\n",
    "    print(a,\"khong la so nguyen to\")"
   ]
  },
  {
   "cell_type": "code",
   "execution_count": 4,
   "id": "5003dcd5-4e1c-42ca-9e42-ca1b12ea6bea",
   "metadata": {},
   "outputs": [
    {
     "name": "stdin",
     "output_type": "stream",
     "text": [
      "nhap so: 15\n"
     ]
    },
    {
     "name": "stdout",
     "output_type": "stream",
     "text": [
      "15 khong la so nguyen to\n"
     ]
    }
   ],
   "source": [
    "a = int(input(\"nhap so:\"))\n",
    "\n",
    "i = 2\n",
    "\n",
    "while i < a and a % i != 0:\n",
    "    i += 1\n",
    "if i == a:\n",
    "    print(a, \"la so nguyen to\")\n",
    "else:\n",
    "    print(a, \"khong la so nguyen to\")\n",
    "\n"
   ]
  },
  {
   "cell_type": "code",
   "execution_count": 5,
   "id": "df36b63b-a1d8-4d00-ab89-0e451a678d07",
   "metadata": {},
   "outputs": [
    {
     "name": "stdin",
     "output_type": "stream",
     "text": [
      "nhap so: 15\n"
     ]
    },
    {
     "name": "stdout",
     "output_type": "stream",
     "text": [
      "15 khong la so nguyen to\n"
     ]
    }
   ],
   "source": [
    "a = int(input(\"nhap so:\"))\n",
    "\n",
    "i = 2\n",
    "\n",
    "while i < a:\n",
    "    if a % i == 0:\n",
    "        #print(a, \"khong la so nguyen to\")\n",
    "        break\n",
    "    i += 1\n",
    "if i == a:\n",
    "    #print(a, \"la so nguyen to\")\n",
    "else:\n",
    "    print(a, \"khong la so nguyen to\")"
   ]
  },
  {
   "cell_type": "markdown",
   "id": "9f2357ca",
   "metadata": {},
   "source": [
    "### Bài 2\n",
    "\n",
    "Hãy sử dụng lệnh while lập trình cho bài đoán số ở buổi thứ 9"
   ]
  },
  {
   "cell_type": "code",
   "execution_count": null,
   "id": "db79cb9d",
   "metadata": {},
   "outputs": [],
   "source": []
  },
  {
   "cell_type": "markdown",
   "id": "58f5b789",
   "metadata": {},
   "source": [
    "### Bài 3\n",
    "\n",
    "Nhập vào số a, hãy đếm a có bao nhiêu chữ số chẵn, bao nhiêu cữ số lẻ\n",
    "\n",
    "#### Cách 1 (dùng chuỗi):"
   ]
  },
  {
   "cell_type": "code",
   "execution_count": 5,
   "id": "e7f9da21",
   "metadata": {},
   "outputs": [
    {
     "name": "stdin",
     "output_type": "stream",
     "text": [
      "nhap so: 6948\n"
     ]
    },
    {
     "name": "stdout",
     "output_type": "stream",
     "text": [
      "6\n",
      "9\n",
      "4\n",
      "8\n"
     ]
    }
   ],
   "source": [
    "a = int(input(\"nhap so:\"))\n",
    "\n",
    "chuoi_a = str(a)\n",
    "tong = 0\n",
    "\n",
    "for i in chuoi_a:\n",
    "    print(i)\n"
   ]
  },
  {
   "cell_type": "code",
   "execution_count": 1,
   "id": "f0c301e1-0da1-4e87-a1ef-01e0efce158f",
   "metadata": {},
   "outputs": [
    {
     "name": "stdin",
     "output_type": "stream",
     "text": [
      "nhap so: 6948\n"
     ]
    },
    {
     "name": "stdout",
     "output_type": "stream",
     "text": [
      "8\n",
      "4\n",
      "9\n",
      "6\n"
     ]
    }
   ],
   "source": [
    "# tinh tổng các số\n",
    "a = int(input(\"nhap so:\"))\n",
    "\n",
    "chuoi_a = str(a)\n",
    "tong = 0\n",
    "\n",
    "for i in chuoi_a:\n",
    "    tong += int(i)\n",
    "print(tong)"
   ]
  },
  {
   "cell_type": "markdown",
   "id": "9a3d9703",
   "metadata": {},
   "source": [
    "#### Cách 2 (không dùng chuỗi):"
   ]
  },
  {
   "cell_type": "code",
   "execution_count": 2,
   "id": "d4e474c8",
   "metadata": {},
   "outputs": [
    {
     "name": "stdin",
     "output_type": "stream",
     "text": [
      "nhap so: 6948\n"
     ]
    },
    {
     "name": "stdout",
     "output_type": "stream",
     "text": [
      "8\n",
      "4\n",
      "9\n",
      "6\n"
     ]
    }
   ],
   "source": [
    "a = int(input(\"nhap so:\"))\n",
    "\n",
    "while a != 0:\n",
    "    b = a % 10\n",
    "    print(b)\n",
    "    a = a//10"
   ]
  },
  {
   "cell_type": "code",
   "execution_count": null,
   "id": "d69f0693-8e36-49a3-b87a-aeb546afd1a1",
   "metadata": {},
   "outputs": [],
   "source": [
    "# tinh tổng các số 6 +9 +4 +8\n",
    "# tinh tổng các số 6 +9 +4 +8\n",
    "a = int(input(\"nhap so:\"))\n",
    "\n",
    "while a != 0:\n",
    "    b = a % 10\n",
    "    tong += b\n",
    "    a = a//10\n",
    "print(tong)"
   ]
  },
  {
   "cell_type": "code",
   "execution_count": null,
   "id": "0bcdf0ec-3683-4ca8-9c2a-54d194317eb7",
   "metadata": {},
   "outputs": [],
   "source": [
    "# tinh tổng các số\n",
    "a = int(input(\"nhap so:\"))\n",
    "\n",
    "chuoi_a = str(a)\n",
    "dem_chan = dem_le = 0\n",
    "for i in chuoi_a:\n",
    "    if int(i) % 2 == 0:\n",
    "        dem_chan += 1\n",
    "    else:\n",
    "        dem_le += 1\n",
    "print(dem_chan,dem_le)"
   ]
  },
  {
   "cell_type": "markdown",
   "id": "69539ece",
   "metadata": {},
   "source": [
    "### Bài 4\n",
    "\n",
    "Nhập vào số a, hãy tính tổng các chữ số nguyên tố của a"
   ]
  },
  {
   "cell_type": "code",
   "execution_count": null,
   "id": "f001bd9a",
   "metadata": {},
   "outputs": [
    {
     "name": "stdin",
     "output_type": "stream",
     "text": [
      "nhap so: 1234567\n"
     ]
    }
   ],
   "source": [
    "a = int(input(\"nhap so:\"))\n",
    "\n",
    "i = 2\n",
    "tong = 0\n",
    "\n",
    "while a != 0: \n",
    "    b = a % 10\n",
    "    if i < b and b % i != 0:\n",
    "        i += 1\n",
    "        if i == b:\n",
    "            tong += b\n",
    "            a = a//10\n",
    "            \n",
    "print(tong)\n",
    "\n"
   ]
  },
  {
   "cell_type": "markdown",
   "id": "0a5075a4",
   "metadata": {},
   "source": [
    "### Bài 5\n",
    "\n",
    "Số armstrong là số có tổng của các chữ số mũ số lượng chữ số bằng chính nó\n",
    "\n",
    "Ví dụ\n",
    "\n",
    "Số 371 là một số armstrong vì:\n",
    "\n",
    "371 = 3^3 + 7^3 + 1^3 (3 là số lượng chữ số của 371)\n",
    "\n",
    "Số 1634 là một số armstrong vì:\n",
    "\n",
    "1634 = 1^4 + 6^4 + 3^4 + 4^4 (4 là số lượng chữ số của 1634)\n",
    "\n",
    "Nhập vào số a, kiểm tra xem a có phải là số armstrong không"
   ]
  },
  {
   "cell_type": "code",
   "execution_count": null,
   "id": "b9ed54a5",
   "metadata": {},
   "outputs": [],
   "source": []
  },
  {
   "cell_type": "markdown",
   "id": "f8a584d3",
   "metadata": {},
   "source": [
    "### Bài 6\n",
    "\n",
    "Dãy số fibonacci là dãy số được định nghĩa như sau: 1, 1, 2, 3, 5, 8, 13,... với số kế tiếp sẽ bằng tổng hai số trước đó\n",
    "\n",
    "Nhập vào A, hãy tìm số trong dãy số fibonacci lớn nhất nhưng không vượt quá A"
   ]
  },
  {
   "cell_type": "code",
   "execution_count": null,
   "id": "3ad4d85b",
   "metadata": {},
   "outputs": [],
   "source": []
  },
  {
   "cell_type": "markdown",
   "id": "9fa794f2",
   "metadata": {},
   "source": [
    "### Bài 7\n",
    "\n",
    "Nhập vào A, tìm n nhỏ nhất sao cho\n",
    "\n",
    "1 + 1/2 + 1/3 + 1/4 + ... + 1/n > A"
   ]
  },
  {
   "cell_type": "code",
   "execution_count": null,
   "id": "246ec002",
   "metadata": {},
   "outputs": [],
   "source": []
  },
  {
   "cell_type": "markdown",
   "id": "c5fd4d8a",
   "metadata": {},
   "source": [
    "### Bài 8\n",
    "\n",
    "Nhập vào a và b là số nguyên dương (b có một chữ số, nhập sai yêu cầu nhập lại), hãy tìm vị trí đầu tiên (bắt đầu từ bên trái) của b trong a, nếu không tìm thấy thì in kết quả là 0 (ví trí đầu bắt đầu từ 1)\n",
    "\n",
    "<b>Ví dụ:</b>\n",
    "\n",
    "<b>Nhập:</b>\n",
    "- a = 125785\n",
    "- b = 5\n",
    "\n",
    "<b>Kết quả:</b> 3 (do số 5 nằm ở vị trí 3)"
   ]
  },
  {
   "cell_type": "code",
   "execution_count": null,
   "id": "9edf35ac",
   "metadata": {},
   "outputs": [],
   "source": []
  }
 ],
 "metadata": {
  "kernelspec": {
   "display_name": "Python 3 (ipykernel)",
   "language": "python",
   "name": "python3"
  },
  "language_info": {
   "codemirror_mode": {
    "name": "ipython",
    "version": 3
   },
   "file_extension": ".py",
   "mimetype": "text/x-python",
   "name": "python",
   "nbconvert_exporter": "python",
   "pygments_lexer": "ipython3",
   "version": "3.11.3"
  }
 },
 "nbformat": 4,
 "nbformat_minor": 5
}
