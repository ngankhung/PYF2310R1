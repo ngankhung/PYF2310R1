{
 "cells": [
  {
   "cell_type": "markdown",
   "id": "1f7be993",
   "metadata": {},
   "source": [
    "# Thực tập vòng lặp While\n",
    "\n",
    "### Bài 1\n",
    "\n",
    "Nhập vào số a, sử dụng lệnh while (không sử dụng break và for) để xác định xem số đó có phải là số nguyên tố hay không"
   ]
  },
  {
   "cell_type": "code",
   "execution_count": 1,
   "id": "8cb73965",
   "metadata": {},
   "outputs": [
    {
     "name": "stdin",
     "output_type": "stream",
     "text": [
      "nhap so a: 15\n"
     ]
    },
    {
     "name": "stdout",
     "output_type": "stream",
     "text": [
      "15 khong la so nguyen to\n"
     ]
    }
   ],
   "source": [
    "a = int(input(\"nhap so a:\"))\n",
    "\n",
    "dem = 0\n",
    "uoc = 1\n",
    "\n",
    "while uoc <= a:\n",
    "    if a % uoc == 0:\n",
    "        dem += 1\n",
    "    uoc += 1\n",
    "if dem == 2:\n",
    "    print(a,\"la so nguyen to\")\n",
    "else:\n",
    "    print(a,\"khong la so nguyen to\")"
   ]
  },
  {
   "cell_type": "code",
   "execution_count": 4,
   "id": "5003dcd5-4e1c-42ca-9e42-ca1b12ea6bea",
   "metadata": {},
   "outputs": [
    {
     "name": "stdin",
     "output_type": "stream",
     "text": [
      "nhap so: 15\n"
     ]
    },
    {
     "name": "stdout",
     "output_type": "stream",
     "text": [
      "15 khong la so nguyen to\n"
     ]
    }
   ],
   "source": [
    "a = int(input(\"nhap so:\"))\n",
    "\n",
    "i = 2\n",
    "\n",
    "while i < a and a % i != 0:\n",
    "    i += 1\n",
    "if i == a:\n",
    "    print(a, \"la so nguyen to\")\n",
    "else:\n",
    "    print(a, \"khong la so nguyen to\")\n",
    "\n"
   ]
  },
  {
   "cell_type": "code",
   "execution_count": 5,
   "id": "df36b63b-a1d8-4d00-ab89-0e451a678d07",
   "metadata": {},
   "outputs": [
    {
     "name": "stdin",
     "output_type": "stream",
     "text": [
      "nhap so: 15\n"
     ]
    },
    {
     "name": "stdout",
     "output_type": "stream",
     "text": [
      "15 khong la so nguyen to\n"
     ]
    }
   ],
   "source": [
    "a = int(input(\"nhap so:\"))\n",
    "\n",
    "i = 2\n",
    "\n",
    "while i < a:\n",
    "    if a % i == 0:\n",
    "        #print(a, \"khong la so nguyen to\")\n",
    "        break\n",
    "    i += 1\n",
    "if i == a:\n",
    "    #print(a, \"la so nguyen to\")\n",
    "else:\n",
    "    print(a, \"khong la so nguyen to\")"
   ]
  },
  {
   "cell_type": "markdown",
   "id": "9f2357ca",
   "metadata": {},
   "source": [
    "### Bài 2\n",
    "\n",
    "Hãy sử dụng lệnh while lập trình cho bài đoán số ở buổi thứ 9"
   ]
  },
  {
   "cell_type": "code",
   "execution_count": null,
   "id": "db79cb9d",
   "metadata": {},
   "outputs": [],
   "source": []
  },
  {
   "cell_type": "markdown",
   "id": "58f5b789",
   "metadata": {},
   "source": [
    "### Bài 3\n",
    "\n",
    "Nhập vào số a, hãy đếm a có bao nhiêu chữ số chẵn, bao nhiêu cữ số lẻ\n",
    "\n",
    "#### Cách 1 (dùng chuỗi):"
   ]
  },
  {
   "cell_type": "code",
   "execution_count": 5,
   "id": "e7f9da21",
   "metadata": {},
   "outputs": [
    {
     "name": "stdin",
     "output_type": "stream",
     "text": [
      "nhap so: 6948\n"
     ]
    },
    {
     "name": "stdout",
     "output_type": "stream",
     "text": [
      "6\n",
      "9\n",
      "4\n",
      "8\n"
     ]
    }
   ],
   "source": [
    "a = int(input(\"nhap so:\"))\n",
    "\n",
    "chuoi_a = str(a)\n",
    "tong = 0\n",
    "\n",
    "for i in chuoi_a:\n",
    "    print(i)\n"
   ]
  },
  {
   "cell_type": "code",
   "execution_count": 1,
   "id": "f0c301e1-0da1-4e87-a1ef-01e0efce158f",
   "metadata": {},
   "outputs": [
    {
     "name": "stdin",
     "output_type": "stream",
     "text": [
      "nhap so: 6948\n"
     ]
    },
    {
     "name": "stdout",
     "output_type": "stream",
     "text": [
      "8\n",
      "4\n",
      "9\n",
      "6\n"
     ]
    }
   ],
   "source": [
    "# tinh tổng các số\n",
    "a = int(input(\"nhap so:\"))\n",
    "\n",
    "chuoi_a = str(a)\n",
    "tong = 0\n",
    "\n",
    "for i in chuoi_a:\n",
    "    tong += int(i)\n",
    "print(tong)"
   ]
  },
  {
   "cell_type": "markdown",
   "id": "9a3d9703",
   "metadata": {},
   "source": [
    "#### Cách 2 (không dùng chuỗi):"
   ]
  },
  {
   "cell_type": "code",
   "execution_count": 2,
   "id": "d4e474c8",
   "metadata": {},
   "outputs": [
    {
     "name": "stdin",
     "output_type": "stream",
     "text": [
      "nhap so: 6948\n"
     ]
    },
    {
     "name": "stdout",
     "output_type": "stream",
     "text": [
      "8\n",
      "4\n",
      "9\n",
      "6\n"
     ]
    }
   ],
   "source": [
    "a = int(input(\"nhap so:\"))\n",
    "\n",
    "while a != 0:\n",
    "    b = a % 10\n",
    "    print(b)\n",
    "    a = a//10"
   ]
  },
  {
   "cell_type": "code",
   "execution_count": null,
   "id": "d69f0693-8e36-49a3-b87a-aeb546afd1a1",
   "metadata": {},
   "outputs": [],
   "source": [
    "# tinh tổng các số 6 +9 +4 +8\n",
    "# tinh tổng các số 6 +9 +4 +8\n",
    "a = int(input(\"nhap so:\"))\n",
    "\n",
    "while a != 0:\n",
    "    b = a % 10\n",
    "    tong += b\n",
    "    a = a//10\n",
    "print(tong)"
   ]
  },
  {
   "cell_type": "code",
   "execution_count": null,
   "id": "0bcdf0ec-3683-4ca8-9c2a-54d194317eb7",
   "metadata": {},
   "outputs": [],
   "source": [
    "# tinh tổng các số\n",
    "a = int(input(\"nhap so:\"))\n",
    "\n",
    "chuoi_a = str(a)\n",
    "dem_chan = dem_le = 0\n",
    "for i in chuoi_a:\n",
    "    if int(i) % 2 == 0:\n",
    "        dem_chan += 1\n",
    "    else:\n",
    "        dem_le += 1\n",
    "print(dem_chan,dem_le)"
   ]
  },
  {
   "cell_type": "markdown",
   "id": "69539ece",
   "metadata": {},
   "source": [
    "### Bài 4\n",
    "\n",
    "Nhập vào số a, hãy tính tổng các chữ số nguyên tố của a"
   ]
  },
  {
   "cell_type": "code",
   "execution_count": 3,
   "id": "f001bd9a",
   "metadata": {},
   "outputs": [
    {
     "name": "stdin",
     "output_type": "stream",
     "text": [
      "nhap so a: 237\n"
     ]
    },
    {
     "name": "stdout",
     "output_type": "stream",
     "text": [
      "12\n"
     ]
    }
   ],
   "source": [
    "a = int(input(\"nhap so a:\"))\n",
    "\n",
    "tong = 0\n",
    "\n",
    "while a != 0:\n",
    "    i = 2\n",
    "    b = a % 10\n",
    "    while i < b and b % i != 0:\n",
    "        i += 1\n",
    "    if i == b:\n",
    "        tong += b\n",
    "    a = a//10\n",
    "print(tong)"
   ]
  },
  {
   "cell_type": "code",
   "execution_count": 4,
   "id": "5abb7fd2-61ed-437c-82cc-b3024de89ee9",
   "metadata": {},
   "outputs": [
    {
     "name": "stdin",
     "output_type": "stream",
     "text": [
      "nhap so a: 1237\n"
     ]
    },
    {
     "name": "stdout",
     "output_type": "stream",
     "text": [
      "12\n"
     ]
    }
   ],
   "source": [
    "a = int(input(\"nhap so a:\"))\n",
    "\n",
    "tong = 0\n",
    "\n",
    "while a != 0:\n",
    "    b = a % 10\n",
    "    if b == 2 or b == 3 or b == 5 or b == 7:\n",
    "        tong += b\n",
    "    a = a//10\n",
    "    \n",
    "print(tong)"
   ]
  },
  {
   "cell_type": "markdown",
   "id": "0a5075a4",
   "metadata": {},
   "source": [
    "### Bài 5\n",
    "\n",
    "Số armstrong là số có tổng của các chữ số mũ số lượng chữ số bằng chính nó\n",
    "\n",
    "Ví dụ\n",
    "\n",
    "Số 371 là một số armstrong vì:\n",
    "\n",
    "371 = 3^3 + 7^3 + 1^3 (3 là số lượng chữ số của 371)\n",
    "\n",
    "Số 1634 là một số armstrong vì:\n",
    "\n",
    "1634 = 1^4 + 6^4 + 3^4 + 4^4 (4 là số lượng chữ số của 1634)\n",
    "\n",
    "Nhập vào số a, kiểm tra xem a có phải là số armstrong không"
   ]
  },
  {
   "cell_type": "code",
   "execution_count": 9,
   "id": "b9ed54a5",
   "metadata": {},
   "outputs": [
    {
     "name": "stdin",
     "output_type": "stream",
     "text": [
      "nhap so a: 1634\n"
     ]
    },
    {
     "name": "stdout",
     "output_type": "stream",
     "text": [
      "1634 la so armstrong\n"
     ]
    }
   ],
   "source": [
    "### chua hoan thien\n",
    "\n",
    "a = int(input(\"nhap so a:\"))\n",
    "\n",
    "chuoi_a = len(str(a))\n",
    "tong_a = 0\n",
    "tong = 0\n",
    "\n",
    "while tong_a != 0:\n",
    "    b = tong_a % 10\n",
    "    tong += b ** chuoi_a\n",
    "    a = a // 10\n",
    "if tong_a == tong:\n",
    "    print(a,\"la so armstrong\")\n",
    "else:\n",
    "    print(a,\"khong la so armstrong\")"
   ]
  },
  {
   "cell_type": "code",
   "execution_count": null,
   "id": "96c91549-8a51-47ba-bd0c-ef034eb80db2",
   "metadata": {},
   "outputs": [],
   "source": [
    "a = int(input(\"nhap so a:\"))\n",
    "\n",
    "so_luong_chu_so = len(str(a))\n",
    "tong = 0\n",
    "luu_a = a\n",
    "\n",
    "while a != 0:\n",
    "    b = so % 10\n",
    "    tong += b ** so_luong_chu_so\n",
    "    a //= 10\n",
    "\n",
    "if luu_a == tong:\n",
    "    print(a,\"la so armstrong\")\n",
    "else:\n",
    "    print(a,\"khong la so armstrong\")"
   ]
  },
  {
   "cell_type": "code",
   "execution_count": 7,
   "id": "0c4a114b-763c-492f-a6c3-ddc47059df08",
   "metadata": {},
   "outputs": [
    {
     "name": "stdin",
     "output_type": "stream",
     "text": [
      "nhap so a: 1634\n"
     ]
    },
    {
     "name": "stdout",
     "output_type": "stream",
     "text": [
      "1634 la so armstrong\n"
     ]
    }
   ],
   "source": [
    "a = int(input(\"nhap so a:\"))\n",
    "\n",
    "so_mu = len(str(a))\n",
    "tong = 0\n",
    "so_moi = a\n",
    "\n",
    "while so_moi > 0:\n",
    "    b = so_moi % 10\n",
    "    tong += b ** so_mu\n",
    "    so_moi = so_moi // 10\n",
    "\n",
    "if a == tong:\n",
    "    print(a,\"la so armstrong\")\n",
    "else:\n",
    "    print(a,\"khong la so armstrong\")"
   ]
  },
  {
   "cell_type": "markdown",
   "id": "f8a584d3",
   "metadata": {},
   "source": [
    "### Bài 6\n",
    "\n",
    "Dãy số fibonacci là dãy số được định nghĩa như sau: 1, 1, 2, 3, 5, 8, 13,... với số kế tiếp sẽ bằng tổng hai số trước đó\n",
    "\n",
    "Nhập vào A, hãy tìm số trong dãy số fibonacci lớn nhất nhưng không vượt quá A"
   ]
  },
  {
   "cell_type": "code",
   "execution_count": 15,
   "id": "fd66bb44-3f21-45d9-86d9-c1f6ee32c4a1",
   "metadata": {},
   "outputs": [
    {
     "name": "stdin",
     "output_type": "stream",
     "text": [
      "nhap so a: 13\n"
     ]
    },
    {
     "name": "stdout",
     "output_type": "stream",
     "text": [
      "1\n",
      "2\n",
      "3\n",
      "5\n",
      "8\n",
      "13\n",
      "21\n",
      "13 la so fibonacci lon nhat\n"
     ]
    }
   ],
   "source": [
    "a = int(input(\"nhap so a:\"))\n",
    "\n",
    "f_tong = 0\n",
    "f1 = 0\n",
    "f2 = 1\n",
    "\n",
    "while f2 <= a:\n",
    "    f_tong = f1 + f2\n",
    "    print(f_tong)\n",
    "    f1,f2 = f2,f_tong #thế f1 và f2 = f2 và f_tong theo nguyên tắc tổng 2 số trước = số kế tiếp\n",
    "    \n",
    "print(f1,\"la so fibonacci lon nhat\")\n"
   ]
  },
  {
   "cell_type": "code",
   "execution_count": 18,
   "id": "c3c2d263-a429-4ee8-bf43-096bea026dc5",
   "metadata": {},
   "outputs": [
    {
     "name": "stdin",
     "output_type": "stream",
     "text": [
      "nhap so A: 13\n"
     ]
    },
    {
     "name": "stdout",
     "output_type": "stream",
     "text": [
      "1 1\n",
      "1 2\n",
      "2 3\n",
      "3 5\n",
      "5 8\n",
      "8 13\n",
      "13 21\n",
      "13 la so fibonacci lon nhat khong vuot qua A\n"
     ]
    }
   ],
   "source": [
    "A = int(input(\"nhap so A:\"))\n",
    "\n",
    "s1 = 1\n",
    "s2 = 1\n",
    "print(s1,s2)\n",
    "while s2 <= A:\n",
    "    s1, s2 = s2, s1 + s2\n",
    "    print(s1,s2)\n",
    "print(s1,\"la so fibonacci lon nhat khong vuot qua A\")"
   ]
  },
  {
   "cell_type": "markdown",
   "id": "9fa794f2",
   "metadata": {},
   "source": [
    "### Bài 7\n",
    "\n",
    "Nhập vào A, tìm n nhỏ nhất sao cho\n",
    "\n",
    "1 + 1/2 + 1/3 + 1/4 + ... + 1/n > A"
   ]
  },
  {
   "cell_type": "code",
   "execution_count": 42,
   "id": "246ec002",
   "metadata": {},
   "outputs": [
    {
     "name": "stdin",
     "output_type": "stream",
     "text": [
      "nhap vao A: 2\n"
     ]
    },
    {
     "name": "stdout",
     "output_type": "stream",
     "text": [
      "4 2.083333333333333\n"
     ]
    }
   ],
   "source": [
    "A = int(input(\"nhap vao A:\"))\n",
    "\n",
    "tong = 0\n",
    "n = 0\n",
    "\n",
    "while tong <= A:\n",
    "    n += 1\n",
    "    tong += 1/n\n",
    "    \n",
    "print(n,tong)"
   ]
  },
  {
   "cell_type": "code",
   "execution_count": 43,
   "id": "942e112d-23e0-4f3a-8fb8-04362a40eca0",
   "metadata": {},
   "outputs": [
    {
     "name": "stdin",
     "output_type": "stream",
     "text": [
      "Nhập giá trị A:  2\n"
     ]
    },
    {
     "name": "stdout",
     "output_type": "stream",
     "text": [
      "Giá trị n nhỏ nhất là: 5\n"
     ]
    }
   ],
   "source": [
    "A = float(input(\"Nhập giá trị A: \"))\n",
    "\n",
    "n = 1\n",
    "tong = 0\n",
    "\n",
    "while tong <= A:\n",
    "    tong += 1/n\n",
    "    n += 1\n",
    "print(\"Giá trị n nhỏ nhất là:\", n)"
   ]
  },
  {
   "cell_type": "markdown",
   "id": "c5fd4d8a",
   "metadata": {},
   "source": [
    "### Bài 8\n",
    "\n",
    "Nhập vào a và b là số nguyên dương (b có một chữ số, nhập sai yêu cầu nhập lại), hãy tìm vị trí đầu tiên (bắt đầu từ bên trái) của b trong a, nếu không tìm thấy thì in kết quả là 0 (ví trí đầu bắt đầu từ 1)\n",
    "\n",
    "<b>Ví dụ:</b>\n",
    "\n",
    "<b>Nhập:</b>\n",
    "- a = 125785\n",
    "- b = 5\n",
    "\n",
    "<b>Kết quả:</b> 3 (do số 5 nằm ở vị trí 3)"
   ]
  },
  {
   "cell_type": "code",
   "execution_count": 13,
   "id": "9edf35ac",
   "metadata": {},
   "outputs": [
    {
     "name": "stdin",
     "output_type": "stream",
     "text": [
      "nhap so nguyen duong a: 123456\n",
      "nhap so nguyen duong b với mot chu so: 2\n"
     ]
    },
    {
     "name": "stdout",
     "output_type": "stream",
     "text": [
      "2\n"
     ]
    }
   ],
   "source": [
    "a = int(input(\"nhap so nguyen duong a:\"))\n",
    "b = int(input(\"nhap so nguyen duong b với mot chu so:\"))\n",
    "\n",
    "while a <= 0:\n",
    "    a = int(input(\"nhap lai so a:\"))\n",
    "while b <= 0 or b >= 10:\n",
    "    b = int(input(\"nhap lai so b:\"))\n",
    "\n",
    "chuoi_a = str(a)\n",
    "i = 0\n",
    "vi_tri = 0\n",
    "\n",
    "while i < len(chuoi_a):\n",
    "    if int(chuoi_a[i]) == b:\n",
    "        vi_tri = i + 1\n",
    "        break\n",
    "    i += 1\n",
    "if vi_tri != 0:\n",
    "    print(vi_tri)\n",
    "else:\n",
    "    print(0)\n",
    "\n"
   ]
  }
 ],
 "metadata": {
  "kernelspec": {
   "display_name": "Python 3 (ipykernel)",
   "language": "python",
   "name": "python3"
  },
  "language_info": {
   "codemirror_mode": {
    "name": "ipython",
    "version": 3
   },
   "file_extension": ".py",
   "mimetype": "text/x-python",
   "name": "python",
   "nbconvert_exporter": "python",
   "pygments_lexer": "ipython3",
   "version": "3.11.3"
  }
 },
 "nbformat": 4,
 "nbformat_minor": 5
}
