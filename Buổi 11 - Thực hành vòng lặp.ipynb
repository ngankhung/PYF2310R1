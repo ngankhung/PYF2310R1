{
 "cells": [
  {
   "cell_type": "markdown",
   "id": "1f7be993",
   "metadata": {},
   "source": [
    "# Thực tập vòng lặp While\n",
    "\n",
    "### Bài 1\n",
    "\n",
    "Nhập vào số a, sử dụng lệnh while (không sử dụng break và for) để xác định xem số đó có phải là số nguyên tố hay không"
   ]
  },
  {
   "cell_type": "code",
   "execution_count": 1,
   "id": "8cb73965",
   "metadata": {},
   "outputs": [
    {
     "name": "stdin",
     "output_type": "stream",
     "text": [
      "nhap so a: 15\n"
     ]
    },
    {
     "name": "stdout",
     "output_type": "stream",
     "text": [
      "15 khong la so nguyen to\n"
     ]
    }
   ],
   "source": [
    "a = int(input(\"nhap so a:\"))\n",
    "\n",
    "dem = 0\n",
    "uoc = 1\n",
    "\n",
    "while uoc <= a:\n",
    "    if a % uoc == 0:\n",
    "        dem += 1\n",
    "    uoc += 1\n",
    "if dem == 2:\n",
    "    print(a,\"la so nguyen to\")\n",
    "else:\n",
    "    print(a,\"khong la so nguyen to\")"
   ]
  },
  {
   "cell_type": "code",
   "execution_count": 4,
   "id": "5003dcd5-4e1c-42ca-9e42-ca1b12ea6bea",
   "metadata": {},
   "outputs": [
    {
     "name": "stdin",
     "output_type": "stream",
     "text": [
      "nhap so: 15\n"
     ]
    },
    {
     "name": "stdout",
     "output_type": "stream",
     "text": [
      "15 khong la so nguyen to\n"
     ]
    }
   ],
   "source": [
    "a = int(input(\"nhap so:\"))\n",
    "\n",
    "i = 2\n",
    "\n",
    "while i < a and a % i != 0:\n",
    "    i += 1\n",
    "if i == a:\n",
    "    print(a, \"la so nguyen to\")\n",
    "else:\n",
    "    print(a, \"khong la so nguyen to\")\n",
    "\n"
   ]
  },
  {
   "cell_type": "code",
   "execution_count": 5,
   "id": "df36b63b-a1d8-4d00-ab89-0e451a678d07",
   "metadata": {},
   "outputs": [
    {
     "name": "stdin",
     "output_type": "stream",
     "text": [
      "nhap so: 15\n"
     ]
    },
    {
     "name": "stdout",
     "output_type": "stream",
     "text": [
      "15 khong la so nguyen to\n"
     ]
    }
   ],
   "source": [
    "a = int(input(\"nhap so:\"))\n",
    "\n",
    "i = 2\n",
    "\n",
    "while i < a:\n",
    "    if a % i == 0:\n",
    "        #print(a, \"khong la so nguyen to\")\n",
    "        break\n",
    "    i += 1\n",
    "if i == a:\n",
    "    #print(a, \"la so nguyen to\")\n",
    "else:\n",
    "    print(a, \"khong la so nguyen to\")"
   ]
  },
  {
   "cell_type": "markdown",
   "id": "9f2357ca",
   "metadata": {},
   "source": [
    "### Bài 2\n",
    "\n",
    "Hãy sử dụng lệnh while lập trình cho bài đoán số ở buổi thứ 9"
   ]
  },
  {
   "cell_type": "code",
   "execution_count": null,
   "id": "db79cb9d",
   "metadata": {},
   "outputs": [],
   "source": []
  },
  {
   "cell_type": "markdown",
   "id": "58f5b789",
   "metadata": {},
   "source": [
    "### Bài 3\n",
    "\n",
    "Nhập vào số a, hãy đếm a có bao nhiêu chữ số chẵn, bao nhiêu cữ số lẻ\n",
    "\n",
    "#### Cách 1 (dùng chuỗi):"
   ]
  },
  {
   "cell_type": "code",
   "execution_count": 5,
   "id": "e7f9da21",
   "metadata": {},
   "outputs": [
    {
     "name": "stdin",
     "output_type": "stream",
     "text": [
      "nhap so: 6948\n"
     ]
    },
    {
     "name": "stdout",
     "output_type": "stream",
     "text": [
      "6\n",
      "9\n",
      "4\n",
      "8\n"
     ]
    }
   ],
   "source": [
    "a = int(input(\"nhap so:\"))\n",
    "\n",
    "chuoi_a = str(a)\n",
    "tong = 0\n",
    "\n",
    "for i in chuoi_a:\n",
    "    print(i)\n"
   ]
  },
  {
   "cell_type": "code",
   "execution_count": 1,
   "id": "f0c301e1-0da1-4e87-a1ef-01e0efce158f",
   "metadata": {},
   "outputs": [
    {
     "name": "stdin",
     "output_type": "stream",
     "text": [
      "nhap so: 6948\n"
     ]
    },
    {
     "name": "stdout",
     "output_type": "stream",
     "text": [
      "8\n",
      "4\n",
      "9\n",
      "6\n"
     ]
    }
   ],
   "source": [
    "# tinh tổng các số\n",
    "a = int(input(\"nhap so:\"))\n",
    "\n",
    "chuoi_a = str(a)\n",
    "tong = 0\n",
    "\n",
    "for i in chuoi_a:\n",
    "    tong += int(i)\n",
    "print(tong)"
   ]
  },
  {
   "cell_type": "markdown",
   "id": "9a3d9703",
   "metadata": {},
   "source": [
    "#### Cách 2 (không dùng chuỗi):"
   ]
  },
  {
   "cell_type": "code",
   "execution_count": 2,
   "id": "d4e474c8",
   "metadata": {},
   "outputs": [
    {
     "name": "stdin",
     "output_type": "stream",
     "text": [
      "nhap so: 6948\n"
     ]
    },
    {
     "name": "stdout",
     "output_type": "stream",
     "text": [
      "8\n",
      "4\n",
      "9\n",
      "6\n"
     ]
    }
   ],
   "source": [
    "a = int(input(\"nhap so:\"))\n",
    "\n",
    "while a != 0:\n",
    "    b = a % 10\n",
    "    print(b)\n",
    "    a = a//10"
   ]
  },
  {
   "cell_type": "code",
   "execution_count": null,
   "id": "d69f0693-8e36-49a3-b87a-aeb546afd1a1",
   "metadata": {},
   "outputs": [],
   "source": [
    "# tinh tổng các số 6 +9 +4 +8\n",
    "# tinh tổng các số 6 +9 +4 +8\n",
    "a = int(input(\"nhap so:\"))\n",
    "\n",
    "while a != 0:\n",
    "    b = a % 10\n",
    "    tong += b\n",
    "    a = a//10\n",
    "print(tong)"
   ]
  },
  {
   "cell_type": "code",
   "execution_count": null,
   "id": "0bcdf0ec-3683-4ca8-9c2a-54d194317eb7",
   "metadata": {},
   "outputs": [],
   "source": [
    "# tinh tổng các số\n",
    "a = int(input(\"nhap so:\"))\n",
    "\n",
    "chuoi_a = str(a)\n",
    "dem_chan = dem_le = 0\n",
    "for i in chuoi_a:\n",
    "    if int(i) % 2 == 0:\n",
    "        dem_chan += 1\n",
    "    else:\n",
    "        dem_le += 1\n",
    "print(dem_chan,dem_le)"
   ]
  },
  {
   "cell_type": "markdown",
   "id": "69539ece",
   "metadata": {},
   "source": [
    "### Bài 4\n",
    "\n",
    "Nhập vào số a, hãy tính tổng các chữ số nguyên tố của a"
   ]
  },
  {
   "cell_type": "code",
   "execution_count": 3,
   "id": "f001bd9a",
   "metadata": {},
   "outputs": [
    {
     "name": "stdin",
     "output_type": "stream",
     "text": [
      "nhap so a: 237\n"
     ]
    },
    {
     "name": "stdout",
     "output_type": "stream",
     "text": [
      "12\n"
     ]
    }
   ],
   "source": [
    "a = int(input(\"nhap so a:\"))\n",
    "\n",
    "tong = 0\n",
    "\n",
    "while a != 0:\n",
    "    i = 2\n",
    "    b = a % 10\n",
    "    while i < b and b % i != 0:\n",
    "        i += 1\n",
    "    if i == b:\n",
    "        tong += b\n",
    "    a = a//10\n",
    "print(tong)"
   ]
  },
  {
   "cell_type": "markdown",
   "id": "0a5075a4",
   "metadata": {},
   "source": [
    "### Bài 5\n",
    "\n",
    "Số armstrong là số có tổng của các chữ số mũ số lượng chữ số bằng chính nó\n",
    "\n",
    "Ví dụ\n",
    "\n",
    "Số 371 là một số armstrong vì:\n",
    "\n",
    "371 = 3^3 + 7^3 + 1^3 (3 là số lượng chữ số của 371)\n",
    "\n",
    "Số 1634 là một số armstrong vì:\n",
    "\n",
    "1634 = 1^4 + 6^4 + 3^4 + 4^4 (4 là số lượng chữ số của 1634)\n",
    "\n",
    "Nhập vào số a, kiểm tra xem a có phải là số armstrong không"
   ]
  },
  {
   "cell_type": "code",
   "execution_count": 24,
   "id": "b9ed54a5",
   "metadata": {},
   "outputs": [
    {
     "name": "stdin",
     "output_type": "stream",
     "text": [
      "nhap so a: 1634\n"
     ]
    },
    {
     "name": "stdout",
     "output_type": "stream",
     "text": [
      "1634 la so armstrong\n"
     ]
    }
   ],
   "source": [
    "a = int(input(\"nhap so a:\"))\n",
    "\n",
    "chuoi_a = len(str(a))\n",
    "tong_a = 0\n",
    "tong = 0\n",
    "\n",
    "while tong_a != 0:\n",
    "    b = tong_a % 10\n",
    "    tong += b ** chuoi_a\n",
    "    a = a // 10\n",
    "if tong_a == tong:\n",
    "    print(a,\"la so armstrong\")\n",
    "else:\n",
    "    print(a,\"khong la so armstrong\")"
   ]
  },
  {
   "cell_type": "markdown",
   "id": "f8a584d3",
   "metadata": {},
   "source": [
    "### Bài 6\n",
    "\n",
    "Dãy số fibonacci là dãy số được định nghĩa như sau: 1, 1, 2, 3, 5, 8, 13,... với số kế tiếp sẽ bằng tổng hai số trước đó\n",
    "\n",
    "Nhập vào A, hãy tìm số trong dãy số fibonacci lớn nhất nhưng không vượt quá A"
   ]
  },
  {
   "cell_type": "code",
   "execution_count": 34,
   "id": "fd66bb44-3f21-45d9-86d9-c1f6ee32c4a1",
   "metadata": {},
   "outputs": [
    {
     "name": "stdin",
     "output_type": "stream",
     "text": [
      "nhap so a: 21\n"
     ]
    },
    {
     "name": "stdout",
     "output_type": "stream",
     "text": [
      "1\n",
      "2\n",
      "3\n",
      "5\n",
      "8\n",
      "13\n",
      "21\n",
      "13 la so fibonacci lon nhat\n"
     ]
    }
   ],
   "source": [
    "a = int(input(\"nhap so a:\"))\n",
    "\n",
    "f_tong = 0\n",
    "f1 = 0\n",
    "f2 = 1\n",
    "\n",
    "while f2 < a:\n",
    "    f_tong = f1 + f2\n",
    "    print(f_tong)\n",
    "    f1,f2 = f2,f_tong\n",
    "print(f1,\"la so fibonacci lon nhat\")\n"
   ]
  },
  {
   "cell_type": "markdown",
   "id": "9fa794f2",
   "metadata": {},
   "source": [
    "### Bài 7\n",
    "\n",
    "Nhập vào A, tìm n nhỏ nhất sao cho\n",
    "\n",
    "1 + 1/2 + 1/3 + 1/4 + ... + 1/n > A"
   ]
  },
  {
   "cell_type": "code",
   "execution_count": 64,
   "id": "246ec002",
   "metadata": {},
   "outputs": [
    {
     "name": "stdin",
     "output_type": "stream",
     "text": [
      "nhap vao a: 90\n"
     ]
    },
    {
     "name": "stdout",
     "output_type": "stream",
     "text": [
      "1 / 2\n",
      "0.5\n",
      "1 / 3\n",
      "0.8333333333333333\n",
      "1 / 4\n",
      "1.0833333333333333\n",
      "1 / 5\n",
      "1.2833333333333332\n",
      "1 / 6\n",
      "1.45\n",
      "1 / 7\n",
      "1.5928571428571427\n",
      "1 / 8\n",
      "1.7178571428571427\n",
      "1 / 9\n",
      "1.828968253968254\n",
      "1 / 10\n",
      "1.928968253968254\n",
      "1 / 11\n",
      "2.019877344877345\n",
      "1 / 12\n",
      "2.1032106782106785\n",
      "1 / 13\n",
      "2.1801337551337556\n",
      "1 / 14\n",
      "2.2515623265623272\n",
      "1 / 15\n",
      "2.318228993228994\n",
      "1 / 16\n",
      "2.380728993228994\n",
      "1 / 17\n",
      "2.4395525226407586\n",
      "1 / 18\n",
      "2.495108078196314\n",
      "1 / 19\n",
      "2.5477396571436826\n",
      "1 / 20\n",
      "2.5977396571436824\n",
      "1 / 21\n",
      "2.64535870476273\n",
      "1 / 22\n",
      "2.6908132502172752\n",
      "1 / 23\n",
      "2.7342915110868407\n",
      "1 / 24\n",
      "2.775958177753507\n",
      "1 / 25\n",
      "2.815958177753507\n",
      "1 / 26\n",
      "2.8544197162150455\n",
      "1 / 27\n",
      "2.8914567532520827\n",
      "1 / 28\n",
      "2.9271710389663683\n",
      "1 / 29\n",
      "2.961653797587058\n",
      "1 / 30\n",
      "2.994987130920391\n",
      "1 / 31\n",
      "3.02724519543652\n",
      "1 / 32\n",
      "3.05849519543652\n",
      "1 / 33\n",
      "3.0887982257395503\n",
      "1 / 34\n",
      "3.1182099904454326\n",
      "1 / 35\n",
      "3.146781419016861\n",
      "1 / 36\n",
      "3.1745591967946387\n",
      "1 / 37\n",
      "3.201586223821666\n",
      "1 / 38\n",
      "3.22790201329535\n",
      "1 / 39\n",
      "3.2535430389363755\n",
      "1 / 40\n",
      "3.2785430389363754\n",
      "1 / 41\n",
      "3.3029332828388145\n",
      "1 / 42\n",
      "3.326742806648338\n",
      "1 / 43\n",
      "3.3499986206018266\n",
      "1 / 44\n",
      "3.3727258933290996\n",
      "1 / 45\n",
      "3.3949481155513217\n",
      "1 / 46\n",
      "3.4166872459861044\n",
      "1 / 47\n",
      "3.4379638417307854\n",
      "1 / 48\n",
      "3.458797175064119\n",
      "1 / 49\n",
      "3.479205338329425\n",
      "1 / 50\n",
      "3.499205338329425\n",
      "1 / 51\n",
      "3.5188131814666797\n",
      "1 / 52\n",
      "3.538043950697449\n",
      "1 / 53\n",
      "3.556911875225751\n",
      "1 / 54\n",
      "3.5754303937442695\n",
      "1 / 55\n",
      "3.5936122119260876\n",
      "1 / 56\n",
      "3.6114693547832304\n",
      "1 / 57\n",
      "3.6290132144323533\n",
      "1 / 58\n",
      "3.646254593742698\n",
      "1 / 59\n",
      "3.663203746285071\n",
      "1 / 60\n",
      "3.6798704129517374\n",
      "1 / 61\n",
      "3.696263855574688\n",
      "1 / 62\n",
      "3.7123928878327526\n",
      "1 / 63\n",
      "3.7282659037057684\n",
      "1 / 64\n",
      "3.7438909037057684\n",
      "1 / 65\n",
      "3.7592755190903837\n",
      "1 / 66\n",
      "3.774427034241899\n",
      "1 / 67\n",
      "3.789352407376227\n",
      "1 / 68\n",
      "3.804058289729168\n",
      "1 / 69\n",
      "3.8185510433523566\n",
      "1 / 70\n",
      "3.832836757638071\n",
      "1 / 71\n",
      "3.8469212646803244\n",
      "1 / 72\n",
      "3.860810153569213\n",
      "1 / 73\n",
      "3.8745087837061996\n",
      "1 / 74\n",
      "3.888022297219713\n",
      "1 / 75\n",
      "3.9013556305530463\n",
      "1 / 76\n",
      "3.9145135252898884\n",
      "1 / 77\n",
      "3.9275005382769015\n",
      "1 / 78\n",
      "3.9403210510974143\n",
      "1 / 79\n",
      "3.9529792789455156\n",
      "1 / 80\n",
      "3.9654792789455158\n",
      "1 / 81\n",
      "3.9778249579578615\n",
      "1 / 82\n",
      "3.990020079909081\n",
      "1 / 83\n",
      "4.002068272680165\n",
      "1 / 84\n",
      "4.013973034584927\n",
      "1 / 85\n",
      "4.02573774046728\n",
      "1 / 86\n",
      "4.037365647444024\n",
      "1 / 87\n",
      "4.048859900317587\n",
      "1 / 88\n",
      "4.060223536681224\n",
      "1 / 89\n",
      "4.071459491737404\n",
      "1 / 90\n",
      "4.082570602848515\n"
     ]
    }
   ],
   "source": [
    "a = int(input(\"nhap vao a:\"))\n",
    "\n",
    "tong = 0\n",
    "n = 1\n",
    "\n",
    "for i in range(n,a):\n",
    "    tong += 1/(i+1)\n",
    "    print(1,\"/\",i+1)\n",
    "    print(tong)\n",
    "    if tong > a:\n",
    "        n = i+1\n",
    "        print(n)"
   ]
  },
  {
   "cell_type": "code",
   "execution_count": 5,
   "id": "942e112d-23e0-4f3a-8fb8-04362a40eca0",
   "metadata": {},
   "outputs": [
    {
     "name": "stdin",
     "output_type": "stream",
     "text": [
      "Nhập giá trị A:  0.5\n"
     ]
    },
    {
     "name": "stdout",
     "output_type": "stream",
     "text": [
      "Giá trị n nhỏ nhất là: 2\n"
     ]
    }
   ],
   "source": [
    "A = float(input(\"Nhập giá trị A: \"))\n",
    "\n",
    "n = 1\n",
    "tong = 0\n",
    "\n",
    "while tong <= A:\n",
    "    tong += 1/n\n",
    "    n += 1\n",
    "print(\"Giá trị n nhỏ nhất là:\", n)"
   ]
  },
  {
   "cell_type": "markdown",
   "id": "c5fd4d8a",
   "metadata": {},
   "source": [
    "### Bài 8\n",
    "\n",
    "Nhập vào a và b là số nguyên dương (b có một chữ số, nhập sai yêu cầu nhập lại), hãy tìm vị trí đầu tiên (bắt đầu từ bên trái) của b trong a, nếu không tìm thấy thì in kết quả là 0 (ví trí đầu bắt đầu từ 1)\n",
    "\n",
    "<b>Ví dụ:</b>\n",
    "\n",
    "<b>Nhập:</b>\n",
    "- a = 125785\n",
    "- b = 5\n",
    "\n",
    "<b>Kết quả:</b> 3 (do số 5 nằm ở vị trí 3)"
   ]
  },
  {
   "cell_type": "code",
   "execution_count": 13,
   "id": "9edf35ac",
   "metadata": {},
   "outputs": [
    {
     "name": "stdin",
     "output_type": "stream",
     "text": [
      "nhap so nguyen duong a: 123456\n",
      "nhap so nguyen duong b với mot chu so: 2\n"
     ]
    },
    {
     "name": "stdout",
     "output_type": "stream",
     "text": [
      "2\n"
     ]
    }
   ],
   "source": [
    "a = int(input(\"nhap so nguyen duong a:\"))\n",
    "b = int(input(\"nhap so nguyen duong b với mot chu so:\"))\n",
    "\n",
    "while a <= 0:\n",
    "    a = int(input(\"nhap lai so a:\"))\n",
    "while b <= 0 or b >= 10:\n",
    "    b = int(input(\"nhap lai so b:\"))\n",
    "\n",
    "chuoi_a = str(a)\n",
    "i = 0\n",
    "vi_tri = 0\n",
    "\n",
    "while i < len(chuoi_a):\n",
    "    if int(chuoi_a[i]) == b:\n",
    "        vi_tri = i + 1\n",
    "        break\n",
    "    i += 1\n",
    "if vi_tri != 0:\n",
    "    print(vi_tri)\n",
    "else:\n",
    "    print(0)\n",
    "\n"
   ]
  },
  {
   "cell_type": "code",
   "execution_count": null,
   "id": "c921f22f-ec66-41c2-bbfc-f0ce9a17162b",
   "metadata": {},
   "outputs": [],
   "source": [
    "a = input(\"Nhập số nguyên dương a: \")\n",
    "b = input(\"Nhập số nguyên dương có một chữ số b: \")\n",
    "\n",
    "while not (a.isdigit() and b.isdigit() and len(b) == 1 and 0 < int(b) <= 9):\n",
    "    print(\"Yêu cầu nhập lại: b phải là số nguyên dương có một chữ số.\")\n",
    "    a = input(\"Nhập số nguyên dương a: \")\n",
    "    b = input(\"Nhập số nguyên dương có một chữ số b: \")\n",
    "\n",
    "position = 0\n",
    "i = 0\n",
    "\n",
    "while i < len(a):\n",
    "    if a[i] == b:\n",
    "        position = i + 1\n",
    "        break\n",
    "    i += 1\n",
    "\n",
    "if position != 0:\n",
    "    print(f\"Vị trí đầu tiên của {b} trong {a} là: {position}\")\n",
    "else:\n",
    "    print(f\"{b} không xuất hiện trong {a}, kết quả là 0.\")"
   ]
  }
 ],
 "metadata": {
  "kernelspec": {
   "display_name": "Python 3 (ipykernel)",
   "language": "python",
   "name": "python3"
  },
  "language_info": {
   "codemirror_mode": {
    "name": "ipython",
    "version": 3
   },
   "file_extension": ".py",
   "mimetype": "text/x-python",
   "name": "python",
   "nbconvert_exporter": "python",
   "pygments_lexer": "ipython3",
   "version": "3.11.3"
  }
 },
 "nbformat": 4,
 "nbformat_minor": 5
}
