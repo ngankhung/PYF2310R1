{
 "cells": [
  {
   "cell_type": "markdown",
   "id": "dcdb816e",
   "metadata": {},
   "source": [
    "# Thực hành cấu trúc điều khiển\n",
    "\n",
    "### Bài 1\n",
    "\n",
    "Cho phương trình bậc 2: ax^2 + bx + c = 0\n",
    "\n",
    "Nhập a, b, c\n",
    "\n",
    "Giải và biện luận phương trình trên"
   ]
  },
  {
   "cell_type": "code",
   "execution_count": 12,
   "id": "b5a5c325",
   "metadata": {},
   "outputs": [
    {
     "name": "stdin",
     "output_type": "stream",
     "text": [
      "Nhập a: 2\n",
      "Nhập b: 1\n",
      "Nhập c: -1\n"
     ]
    },
    {
     "name": "stdout",
     "output_type": "stream",
     "text": [
      "Phương trình có 2 nghiệm phân biệt x1 = 0.0 và x2 = -1.0\n"
     ]
    }
   ],
   "source": [
    "a = int(input(\"Nhập a:\"))\n",
    "b = int(input(\"Nhập b:\"))\n",
    "c = int(input(\"Nhập c:\"))\n",
    "if a == 0:\n",
    "    print(\"Đây không phải là phương trình bậc 2\")\n",
    "else:\n",
    "    delta = b**2 - 4*a*c\n",
    "    x1 = 0\n",
    "    x2 = 0\n",
    "    if delta < 0:\n",
    "        print(\"Phương trình vô nghiệm\")\n",
    "    elif delta == 0:\n",
    "        print(\"Phương trình có nghiệm kép x = :\", -b/2*a)\n",
    "    else:\n",
    "        x1 = (-b + delta**0.5)//(2*a)\n",
    "        x2 = (-b - delta**0.5)//(2*a)\n",
    "        print(\"Phương trình có 2 nghiệm phân biệt x1 =\",x1, \"và x2 =\",x2)\n",
    "\n"
   ]
  },
  {
   "cell_type": "markdown",
   "id": "6f7d329d",
   "metadata": {},
   "source": [
    "### Bài 2\n",
    "\n",
    "Hãy nhập vào một số\n",
    "\n",
    "Xác định coi đó có phải là số nguyên tố hay không"
   ]
  },
  {
   "cell_type": "code",
   "execution_count": 1,
   "id": "049c85f5",
   "metadata": {},
   "outputs": [
    {
     "name": "stdin",
     "output_type": "stream",
     "text": [
      "nhap so: 8\n"
     ]
    },
    {
     "name": "stdout",
     "output_type": "stream",
     "text": [
      "8 khong la so nguyen to\n"
     ]
    }
   ],
   "source": [
    "a = int(input(\"nhap so:\"))\n",
    "\n",
    "dem = 0\n",
    "uoc = 1\n",
    "\n",
    "for i in range(a):\n",
    "    if a % uoc == 0:\n",
    "        dem += 1\n",
    "    uoc += 1\n",
    "if dem == 2:\n",
    "    print(a,\"la so nguyen to\")\n",
    "else:\n",
    "    print(a,\"khong la so nguyen to\")"
   ]
  },
  {
   "cell_type": "code",
   "execution_count": null,
   "id": "1b9c589f-3d50-44f5-b679-5777dd1f546a",
   "metadata": {},
   "outputs": [],
   "source": [
    "### nhập vào số và đếm số ước của số\n",
    "##### thí dụ:\n",
    "##### Nhập 7 ~~> 2 ước\n",
    "##### Nhập 8 ~~> 4 ước\n",
    "\n",
    "a = int(input(\"Nhập số:\"))\n",
    "\n",
    "dem = 0\n",
    "### ước phải bé hơn a\n",
    "### ước phải bắt đầu từ 1\n",
    "\n",
    "uoc = 1\n",
    "for i in range(a):\n",
    "    if a % uoc == 0:\n",
    "        dem += 1\n",
    "    uoc += 1\n",
    "    \n",
    "if dem == 2:\n",
    "    print(a,\"là số nguyên tố\")\n",
    "else:\n",
    "    print(a,\"không là số nguyên tố\")"
   ]
  },
  {
   "cell_type": "markdown",
   "id": "75f7717b",
   "metadata": {},
   "source": [
    "### Bài 3\n",
    "\n",
    "Hãy nhập vào số n\n",
    "\n",
    "Hãy đếm số chữ số 0 tận cùng của n giai thừa\n",
    "\n",
    "(Bài này nâng cao, mọi người có thể bỏ qua)"
   ]
  },
  {
   "cell_type": "code",
   "execution_count": null,
   "id": "789e0e76",
   "metadata": {},
   "outputs": [],
   "source": []
  },
  {
   "cell_type": "markdown",
   "id": "29cd6c81",
   "metadata": {},
   "source": [
    "### Bài 4\n",
    "\n",
    "In ra tất cả các số chia hết cho 3 nhỏ hơn 100"
   ]
  },
  {
   "cell_type": "code",
   "execution_count": 25,
   "id": "0b848981",
   "metadata": {},
   "outputs": [
    {
     "name": "stdout",
     "output_type": "stream",
     "text": [
      "3\n",
      "6\n",
      "9\n",
      "12\n",
      "15\n",
      "18\n",
      "21\n",
      "24\n",
      "27\n",
      "30\n",
      "33\n",
      "36\n",
      "39\n",
      "42\n",
      "45\n",
      "48\n",
      "51\n",
      "54\n",
      "57\n",
      "60\n",
      "63\n",
      "66\n",
      "69\n",
      "72\n",
      "75\n",
      "78\n",
      "81\n",
      "84\n",
      "87\n",
      "90\n",
      "93\n",
      "96\n",
      "99\n"
     ]
    }
   ],
   "source": [
    "so = 0\n",
    "for i in range(100):\n",
    "    so += 1\n",
    "    if so % 3 == 0:\n",
    "        print(so)"
   ]
  },
  {
   "cell_type": "markdown",
   "id": "04dbf99b",
   "metadata": {},
   "source": [
    "### Bài 5\n",
    "\n",
    "In ra tất cả các số lẻ nhưng không chia hết cho 3 nhỏ hơn 100"
   ]
  },
  {
   "cell_type": "code",
   "execution_count": 27,
   "id": "769eb439",
   "metadata": {},
   "outputs": [
    {
     "name": "stdout",
     "output_type": "stream",
     "text": [
      "1\n",
      "5\n",
      "7\n",
      "11\n",
      "13\n",
      "17\n",
      "19\n",
      "23\n",
      "25\n",
      "29\n",
      "31\n",
      "35\n",
      "37\n",
      "41\n",
      "43\n",
      "47\n",
      "49\n",
      "53\n",
      "55\n",
      "59\n",
      "61\n",
      "65\n",
      "67\n",
      "71\n",
      "73\n",
      "77\n",
      "79\n",
      "83\n",
      "85\n",
      "89\n",
      "91\n",
      "95\n",
      "97\n"
     ]
    }
   ],
   "source": [
    "so = 0\n",
    "for i in range(100):\n",
    "    so += 1\n",
    "    if so % 3 != 0 and so % 2 !=0:\n",
    "        print(so)"
   ]
  },
  {
   "cell_type": "markdown",
   "id": "26dd47fb",
   "metadata": {},
   "source": [
    "### Bài 5\n",
    "\n",
    "Tại một cửa hàng nọ có menu như sau:\n",
    "\n",
    "1. Gà rán giá 35k\n",
    "2. Hamburger giá 50k\n",
    "3. Pesi giá 10k\n",
    "\n",
    "Nhập số lượng món hàng cần mua\n",
    "\n",
    "Tính và in ra tổng giá tiền (hiển thị có dấu chấm mỗi 3 chữ số để người dùng để quan sát)\n",
    "\n",
    "Nếu giá trị đơn hàng trên 2 triệu, giảm 10% cho khách, trên 4 triệu, giảm 15%\n",
    "\n",
    "Tính và in ra tổng giá tiền được giảm (hiển thị có dấu chấm mỗi 3 chữ số để người dùng để quan sát)\n",
    "\n",
    "Tính và in ra tổng giá tiền khách cần trả (hiển thị có dấu chấm mỗi 3 chữ số để người dùng để quan sát)\n",
    "\n",
    "In ra dòng chữ \"Cảm ơn quý khách đã mua hàng\""
   ]
  },
  {
   "cell_type": "code",
   "execution_count": 44,
   "id": "8509df1e",
   "metadata": {},
   "outputs": [
    {
     "name": "stdout",
     "output_type": "stream",
     "text": [
      "--------------------KFC--------------------\n",
      "\n",
      "Menu:\n",
      "Gà rán giá: 35k\n",
      "Hamburger giá: 50k\n",
      "Pesi giá 10k\n",
      "\n",
      "-------------------------------------------\n"
     ]
    },
    {
     "name": "stdin",
     "output_type": "stream",
     "text": [
      "Bạn muốn mua bao nhiêu Gà rán: 100\n",
      "Bạn muốn mua bao nhiêu Hamburger: 100\n",
      "Bạn muốn mua bao nhiêu Pesi: 100\n"
     ]
    },
    {
     "name": "stdout",
     "output_type": "stream",
     "text": [
      "Tổng: 3560000\n",
      "Bạn được giảm: 356000\n",
      "Bạn cần thanh toaans: 3204000\n"
     ]
    }
   ],
   "source": [
    "print(\"--------------------KFC--------------------\")\n",
    "print()\n",
    "print(\"Menu:\")\n",
    "print(\"Gà rán giá: 35k\")\n",
    "print(\"Hamburger giá: 50k\")\n",
    "print(\"Pesi giá 10k\")\n",
    "print()\n",
    "print(\"-------------------------------------------\")\n",
    "ga_ran = int(input(\"Bạn muốn mua bao nhiêu Gà rán:\"))\n",
    "hamburger = int(input(\"Bạn muốn mua bao nhiêu Hamburger:\"))\n",
    "pesi = int(input(\"Bạn muốn mua bao nhiêu Pesi:\"))\n",
    "   \n",
    "tong = ga_ran*35000 + hambuger*50000 + pepsi*10000\n",
    "tien_giam = 0\n",
    "print(\"Tổng:\",tong)\n",
    "if tong >= 4000000:\n",
    "    tien_giam = int(tong*0.15)\n",
    "    tong -= tien_giam\n",
    "elif tong > 2000000:\n",
    "    tien_giam = int(tong*0.1)\n",
    "    tong -= tien_giam\n",
    "print(\"Bạn được giảm:\",tien_giam)\n",
    "print(\"Bạn cần thanh toaans:\",tong)\n"
   ]
  },
  {
   "cell_type": "markdown",
   "id": "ab10a1ce",
   "metadata": {},
   "source": [
    "### Bài 6\n",
    "\n",
    "Nhập vào chiều cao (cm) và cân nặng (kg), tính số BMI và xét rồi xin kết quả theo dữ liệu sau:\n",
    "\n",
    "- BMI < 16: Gầy cấp độ III\n",
    "- 16 <= BMI < 17:  Gầy cấp độ II\n",
    "- 17<= BMI < 18.5: Gầy cấp độ I\n",
    "- 18.5 <= BMI < 25: Bình thường\n",
    "- 25 <= BMI < 30: Thừa cân\n",
    "- 30 <= BMI < 35 : Béo phì cấp độ I\n",
    "- 35 <= BMI < 40: Béo phì cấp độ II\n",
    "- BMI > 40: Béo phì cấp độ III"
   ]
  },
  {
   "cell_type": "code",
   "execution_count": 53,
   "id": "1058f441",
   "metadata": {},
   "outputs": [
    {
     "name": "stdin",
     "output_type": "stream",
     "text": [
      "Nhập vào chiều cao: 150\n",
      "Nhập vào cân nặng: 60\n"
     ]
    },
    {
     "name": "stdout",
     "output_type": "stream",
     "text": [
      "26.666666666666668\n",
      "Thừa cân\n"
     ]
    }
   ],
   "source": [
    "chieu_cao = float(input(\"Nhập vào chiều cao:\"))\n",
    "can_nang = float(input(\"Nhập vào cân nặng:\"))\n",
    "bmi = can_nang / ((chieu_cao/100)**2)\n",
    "print(bmi)\n",
    "if bmi < 16:\n",
    "    print(\"Gầy cấp độ III\")\n",
    "elif bmi < 17:\n",
    "    print(\"Gầy cấp độ II\")\n",
    "elif bmi < 18.5:\n",
    "    print(\"Gầy cấp độ I\")\n",
    "elif bmi < 25:\n",
    "    print(\"Bình thường\")\n",
    "elif bmi < 30:\n",
    "    print(\"Thừa cân\")\n",
    "elif bmi < 35:\n",
    "    print(\"Béo phì cấp độ I\")\n",
    "elif bmi < 40:\n",
    "    print(\"Béo phì cấp độ II\")\n",
    "else:\n",
    "    print(\"Béo phì cấp độ III\")\n",
    "        "
   ]
  },
  {
   "cell_type": "markdown",
   "id": "f7620342",
   "metadata": {},
   "source": [
    "### Bài 7\n",
    "\n",
    "Nhập ngày, tháng, năm. Hãy tính và in ra màn hình kể từ đầu năm đến ngày vừa nhập là bao nhiêu ngày."
   ]
  },
  {
   "cell_type": "code",
   "execution_count": null,
   "id": "4c57f0a5",
   "metadata": {},
   "outputs": [],
   "source": [
    "ngay = int(input(\"nhap ngay:\"))\n",
    "thang = int(input(\"nhap thang:\"))\n",
    "nam = int(input(\"nhap nam:\"))\n",
    "if thang <= 8:\n",
    "    so_thang_31_ngay = thang//2\n",
    "    so_thang_30_ngay =(thang-1)//2\n",
    "else:\n",
    "    so_thang_31_ngay = 5\n",
    "    so_thang_30_ngay = 3\n",
    "    so_thang_31_ngay += thang//2 - 4\n",
    "    so_thang_30_ngay +=thang//2 - 4\n",
    "\n",
    "songay = so_thang_31_ngay*31 + so_thang_30_ngay*30 + ngay\n",
    "\n",
    "if thang > 2:\n",
    "    if nam % 4 == 0:\n",
    "        songay -= 1\n",
    "    else:\n",
    "        songay -= 2\n",
    "print(songay)"
   ]
  },
  {
   "cell_type": "code",
   "execution_count": null,
   "id": "faf45103-a2e7-468f-a9ee-ea70ef286cd0",
   "metadata": {},
   "outputs": [],
   "source": [
    "ngay = int(input(\"nhap ngay:\"))\n",
    "thang = int(input(\"nhap thang:\"))\n",
    "nam = int(input(\"nhap nam:\"))\n",
    "songay = ngay\n",
    "thang_hien_tai = 1\n",
    "for i in range(thang):\n",
    "    if thang_hien_tai == 1 or thang_hien_tai == 3 orthang_hien_tai == 5 or thang_hien_tai == 7 or thang_hien_tai == 8 pr thang_hien_tai == 10 or thang_hien_tai == 12:\n",
    "        songay += 31\n",
    "elif thang_hien_tai == 2:\n",
    "    if nam % 4 == 0:\n",
    "        songay += 29\n",
    "    else:\n",
    "        songay += 28\n",
    "else:\n",
    "    songay += 30\n",
    "    thang_hien_tai += 1\n",
    "print(songay)"
   ]
  }
 ],
 "metadata": {
  "kernelspec": {
   "display_name": "Python 3 (ipykernel)",
   "language": "python",
   "name": "python3"
  },
  "language_info": {
   "codemirror_mode": {
    "name": "ipython",
    "version": 3
   },
   "file_extension": ".py",
   "mimetype": "text/x-python",
   "name": "python",
   "nbconvert_exporter": "python",
   "pygments_lexer": "ipython3",
   "version": "3.11.3"
  }
 },
 "nbformat": 4,
 "nbformat_minor": 5
}
