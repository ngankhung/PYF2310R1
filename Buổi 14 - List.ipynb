{
 "cells": [
  {
   "cell_type": "markdown",
   "id": "fad0ff18",
   "metadata": {},
   "source": [
    "# List\n",
    "\n",
    "### Đặt vấn đề\n",
    "\n",
    "Nếu như ta có một lượng dữ liệu không biết trước được số lượng cần lưu vào biến, ta không thể lưu bằng cách thông thường\n",
    "\n",
    "Lấy ví dụ:\n",
    "\n",
    "Nhập vào số n, sau đó nhập tiếp n số và lưu trữ n số đó vào biến\n",
    "\n",
    "Vậy ta hoàn toàn không biết được người dùng sẽ nhập bao nhiêu số để lưu trữ\n",
    "\n",
    "Lúc này ta cần đến List\n",
    "\n",
    "List giúp chúng ta lưu nhiều giá trị cùng 1 lúc, nhưng chỉ cần đặt tên cho nó lần\n",
    "\n",
    "##### Tài liệu tham khảo: https://www.w3schools.com/python/python_lists.asp"
   ]
  },
  {
   "cell_type": "markdown",
   "id": "4ca9e91e",
   "metadata": {},
   "source": [
    "### Cách thức khai báo List\n",
    "\n",
    "Cú pháp:\n",
    "\n",
    "`<tên list> = []`\n",
    "\n",
    "##### List được khai báo bằng 2 dấu ngoặc vuông\n",
    "\n",
    "<b> Ví dụ 1: </b>\n",
    "\n",
    "`a = []`\n",
    "\n",
    "a là một list, không có bất kỳ phần tử nào trong đó\n",
    "\n",
    "<b> Ví dụ 2: </b>\n",
    "\n",
    "`b = [1,2,3]`\n",
    "\n",
    "##### Các phần tử trong list được khai báo, mỗi phần tử cách nhau một dấu phẩy\n",
    "\n",
    "b là một list có 3 phần tử\n",
    "\n",
    "<b> Ví dụ 3: </b>\n",
    "\n",
    "`c = [\"abc\",5,1.5]`\n",
    "\n",
    "##### Các phần tử trong list có thể có những kiểu dữ liệu khác nhau\n",
    "\n",
    "c là một list có 3 phần tử, phần tử thứ nhất có kiểu dữ liệu là chuỗi, phần tử thứ hai có kiểu dữ liệu là số nguyên và phần tử cuối cùng có kiểu dữ liệu là số thực\n",
    "\n",
    "<b> Hãy khai báo một list xong rồi in list đó lên màn hình </b>"
   ]
  },
  {
   "cell_type": "code",
   "execution_count": 1,
   "id": "c2f37351",
   "metadata": {},
   "outputs": [
    {
     "name": "stdout",
     "output_type": "stream",
     "text": [
      "['phở tèo', 'bánh canh 300k', 'cua di ba']\n"
     ]
    }
   ],
   "source": [
    "L_quan_an = [\"phở tèo\", \"bánh canh 300k\",\"cua di ba\"]\n",
    "print(L_quan_an)"
   ]
  },
  {
   "cell_type": "code",
   "execution_count": null,
   "id": "6887bc3f-6559-4f6f-9a4f-1364860ff6e6",
   "metadata": {},
   "outputs": [],
   "source": [
    "L_quan_an = (\"phở tèo\", \"bánh canh 300k\",\"cua di ba\")"
   ]
  },
  {
   "cell_type": "markdown",
   "id": "be8e19b0",
   "metadata": {},
   "source": [
    "### Truy xuất phần tử trong List\n",
    "\n",
    "Giống như chuỗi, các phần tử trong list được truy xuất theo cú pháp:\n",
    "\n",
    "<code>\\<tên list\\>[\\<vị trí của phần tử\\>]</code>\n",
    "\n",
    "<b> Ví dụ 1: </b>\n",
    "\n",
    "<code>a = [1,4,6]\n",
    "print(a[1])</code>\n",
    "\n",
    "Màn hình sẽ in ra 4\n",
    "\n",
    "<b> Hãy khai báo một list có một chuỗi và một số rồi in chuỗi trong list đó ra màn hình </b>"
   ]
  },
  {
   "cell_type": "code",
   "execution_count": 1,
   "id": "bb3f9141",
   "metadata": {},
   "outputs": [
    {
     "name": "stdout",
     "output_type": "stream",
     "text": [
      "phở tèo\n"
     ]
    }
   ],
   "source": [
    "L_quan_an = [\"phở tèo\", \"bánh canh 300k\",\"cua di ba\"]\n",
    "quan_an_1 = L_quan_an[0]\n",
    "print(L_quan_an[0])"
   ]
  },
  {
   "cell_type": "code",
   "execution_count": 2,
   "id": "75daf542-7448-4aee-8eac-1f7d5313cd04",
   "metadata": {},
   "outputs": [
    {
     "name": "stdout",
     "output_type": "stream",
     "text": [
      "ở\n"
     ]
    }
   ],
   "source": [
    "L_quan_an = [\"phở tèo\", \"bánh canh 300k\",\"cua di ba\"]\n",
    "print(L_quan_an[0][2]) # in ra số phần tử của 0 ở vị trí 2"
   ]
  },
  {
   "cell_type": "markdown",
   "id": "ad61e236",
   "metadata": {},
   "source": [
    "### Thêm phần tử vào List\n",
    "\n",
    "Cú pháp:\n",
    "\n",
    "<code>\\<tên list\\>.append()</code>\n",
    "\n",
    "<b>Ví dụ:</b>\n",
    "\n",
    "<code>a = []\n",
    "a.append(5)</code>\n",
    "\n",
    "a sẽ có 1 phần tử là 5\n",
    "\n",
    "<b> Hãy khai báo một list rỗng, rồi thêm 2 phần tử bất kỳ vào list đó, sau đó in list đó ra</b>"
   ]
  },
  {
   "cell_type": "code",
   "execution_count": 3,
   "id": "5823ddca",
   "metadata": {},
   "outputs": [
    {
     "name": "stdout",
     "output_type": "stream",
     "text": [
      "['phở tèo', 'bánh canh 300k', 'cua di ba', 'bo sot hau']\n"
     ]
    }
   ],
   "source": [
    "L_quan_an = [\"phở tèo\", \"bánh canh 300k\",\"cua di ba\"]\n",
    "L_quan_an.append(\"bo sot hau\")\n",
    "print(L_quan_an)"
   ]
  },
  {
   "cell_type": "code",
   "execution_count": 4,
   "id": "9a138dcf-2b80-4371-84d8-1de2684eb9f9",
   "metadata": {},
   "outputs": [
    {
     "name": "stdout",
     "output_type": "stream",
     "text": [
      "['phở tèo', 'bánh canh 300k', 'cua di ba', 7]\n"
     ]
    }
   ],
   "source": [
    "L_quan_an = [\"phở tèo\", \"bánh canh 300k\",\"cua di ba\"]\n",
    "L_quan_an.append(7)\n",
    "print(L_quan_an)"
   ]
  },
  {
   "cell_type": "code",
   "execution_count": 5,
   "id": "3de5d406-a1ad-416b-afe3-fc39bacb227c",
   "metadata": {},
   "outputs": [
    {
     "name": "stdout",
     "output_type": "stream",
     "text": [
      "[0, 1, 2, 3, 4, 5, 6, 7, 8, 9, 10]\n"
     ]
    }
   ],
   "source": [
    "### hãy viết 1 đoạn code ngắn để thêm các số từ 0 đến 10 vào list\n",
    "\n",
    "L = []\n",
    "\n",
    "for i in range(11):\n",
    "    L.append(i)\n",
    "print(L)"
   ]
  },
  {
   "cell_type": "code",
   "execution_count": 7,
   "id": "cf85220c-5102-47d8-a69a-6d1272302017",
   "metadata": {},
   "outputs": [
    {
     "name": "stdin",
     "output_type": "stream",
     "text": [
      "nhap so: 1\n",
      "nhap so: 3\n",
      "nhap so: 6\n",
      "nhap so: -5\n"
     ]
    },
    {
     "name": "stdout",
     "output_type": "stream",
     "text": [
      "[1, 3, 6]\n"
     ]
    }
   ],
   "source": [
    "### nhập vào một dãy số (nhập từng số và lưu vào trong list) dừng nhập khi người dùng nhập số âm\n",
    "### không đưa số âm vào bên trong list\n",
    "### in dãy số ra màn hình\n",
    "L = []\n",
    "\n",
    "while True:\n",
    "    so = int(input(\"nhap so:\"))\n",
    "    if so < 0:\n",
    "        break\n",
    "    L.append(so)\n",
    "\n",
    "print(L)"
   ]
  },
  {
   "cell_type": "markdown",
   "id": "8c92d3d3",
   "metadata": {},
   "source": [
    "### Thay đổi giá trị của List\n",
    "\n",
    "Cú pháp:\n",
    "\n",
    "`<tên list>[<vị trí của phần tử>] = <giá trị mới>`\n",
    "\n",
    "<b> Hãy khai báo một list bất kỳ, rồi thay đổi 1 phần tử trong nó, sau đó in list đó ra</b>"
   ]
  },
  {
   "cell_type": "code",
   "execution_count": 8,
   "id": "13c61075",
   "metadata": {},
   "outputs": [
    {
     "name": "stdout",
     "output_type": "stream",
     "text": [
      "['phở bò', 'bánh canh 300k', 'cua di ba']\n"
     ]
    }
   ],
   "source": [
    "L_quan_an = [\"phở tèo\", \"bánh canh 300k\",\"cua di ba\"]\n",
    "\n",
    "L_quan_an[0] = \"phở bò\"\n",
    "\n",
    "print(L_quan_an)"
   ]
  },
  {
   "cell_type": "code",
   "execution_count": 10,
   "id": "9581e7cc-98e4-45e1-a0a2-d083a5144297",
   "metadata": {},
   "outputs": [
    {
     "name": "stdout",
     "output_type": "stream",
     "text": [
      "[1, 1, 1, 1, 1, 1, 1]\n"
     ]
    }
   ],
   "source": [
    "###  viết 1 đoạn code để thay dổi tất cả các giá trị trong list thành số 1\n",
    "L = [5,6,4,2,4,1,6]\n",
    "\n",
    "for i in range(len(L)):\n",
    "    L[i] = 1\n",
    "\n",
    "print(L)"
   ]
  },
  {
   "cell_type": "markdown",
   "id": "ce14eefe",
   "metadata": {},
   "source": [
    "### Xóa 1 phần tử trong list\n",
    "\n",
    "#### Lệnh remove()\n",
    "\n",
    "Cú pháp:\n",
    "\n",
    "`<tên list>.remove(<giá trị cần xóa>)`\n",
    "\n",
    "<b>Ví dụ:</b>\n",
    "\n",
    "<code>a = [\"hi\",3,\"hello\",4]\n",
    "a.remove(\"hi\")</code>\n",
    "\n",
    "Sau khi thực hiện lệnh trên, a chỉ còn [3,\"hello\",4]\n",
    "\n",
    "<b> Hãy khai báo một list bất kỳ, rồi xóa 1 phần tử trong nó bằng lệnh remove(), sau đó in list đó ra</b>"
   ]
  },
  {
   "cell_type": "code",
   "execution_count": 11,
   "id": "f79402ad",
   "metadata": {},
   "outputs": [
    {
     "name": "stdout",
     "output_type": "stream",
     "text": [
      "['bánh canh 300k', 'cua di ba']\n"
     ]
    }
   ],
   "source": [
    "L_quan_an = [\"phở tèo\", \"bánh canh 300k\",\"cua di ba\"]\n",
    "L_quan_an.remove(\"phở tèo\")\n",
    "print(L_quan_an)"
   ]
  },
  {
   "cell_type": "code",
   "execution_count": 12,
   "id": "34411422-1fb6-4394-ae97-6cae87d9bef1",
   "metadata": {},
   "outputs": [
    {
     "name": "stdout",
     "output_type": "stream",
     "text": [
      "[4, 6, 3, 2, 7]\n"
     ]
    }
   ],
   "source": [
    "L = [7,4,6,3,2,7]\n",
    "L.remove(7)\n",
    "print(L)"
   ]
  },
  {
   "cell_type": "code",
   "execution_count": 13,
   "id": "a10b1b35-eab4-4d41-9abc-10ea0caa9578",
   "metadata": {},
   "outputs": [
    {
     "name": "stdout",
     "output_type": "stream",
     "text": [
      "[4, 6, 3, 2]\n"
     ]
    }
   ],
   "source": [
    "L = [7,4,6,3,2,7]\n",
    "L.remove(7)\n",
    "L.remove(7)\n",
    "print(L)"
   ]
  },
  {
   "cell_type": "code",
   "execution_count": 16,
   "id": "fc1c4138-3e0e-489a-b665-b33f6ce53697",
   "metadata": {},
   "outputs": [
    {
     "name": "stdin",
     "output_type": "stream",
     "text": [
      "nhap so: 7\n",
      "nhap so: 2\n",
      "nhap so: 6\n",
      "nhap so: 7\n",
      "nhap so: 6\n",
      "nhap so: 9\n",
      "nhap so: 7\n",
      "nhap so: 1\n",
      "nhap so: -2\n"
     ]
    },
    {
     "name": "stdout",
     "output_type": "stream",
     "text": [
      "[2, 6, 6, 9, 1]\n"
     ]
    }
   ],
   "source": [
    "###sau khi nhập xong, hãy xóa toàn bộ số 7 bên trong list\n",
    "\n",
    "L = []\n",
    "\n",
    "while True:\n",
    "    so = int(input(\"nhap so:\"))\n",
    "    if so < 0:\n",
    "        break\n",
    "    L.append(so)\n",
    "\n",
    "while 7 in L:\n",
    "    L.remove(7)\n",
    "print(L)"
   ]
  },
  {
   "cell_type": "markdown",
   "id": "ec66c5cc",
   "metadata": {},
   "source": [
    "#### Lệnh pop()\n",
    "\n",
    "Cú pháp:\n",
    "\n",
    "`<tên list>.pop(<vị trí cần xóa>)`\n",
    "\n",
    "<b>Ví dụ:</b>\n",
    "\n",
    "<code>a = [\"hi\",3,\"hello\",4]\n",
    "a.pop(3)</code>\n",
    "\n",
    "Sau khi thực hiện lệnh trên, a chỉ còn [\"hi\",3,\"hello\"]\n",
    "\n",
    "<b> Hãy khai báo một list bất kỳ, rồi xóa 1 phần tử trong nó bằng lệnh pop(), sau đó in list đó ra</b>"
   ]
  },
  {
   "cell_type": "code",
   "execution_count": 17,
   "id": "eeaa0766",
   "metadata": {},
   "outputs": [
    {
     "name": "stdout",
     "output_type": "stream",
     "text": [
      "['bánh canh 300k', 'cua di ba']\n"
     ]
    }
   ],
   "source": [
    "L_quan_an = [\"phở tèo\", \"bánh canh 300k\",\"cua di ba\"]\n",
    "L_quan_an.pop(0)\n",
    "print(L_quan_an)"
   ]
  },
  {
   "cell_type": "markdown",
   "id": "96daac1c",
   "metadata": {},
   "source": [
    "### Sao chép list\n",
    "\n",
    "###### Lưu ý: Nếu ta có list a, ta thực hiện lệnh b = a, list b sẽ bị ảnh hưởng khi list a có sự thay đổi\n",
    "\n",
    "<b> Ví dụ: </b>\n",
    "\n",
    "<code>a = [5,7,1]\n",
    "b = a\n",
    "a.remove(5)</code>\n",
    "\n",
    "Khi thực hiện 3 lệnh trên, b sẽ bằng [7,1], dù cho ta thực hiện lệnh `b = a` trước `a.remove(5)`\n",
    "\n",
    "<b> Kiểm chứng sự ảnh hưởng khi gán list </b>"
   ]
  },
  {
   "cell_type": "code",
   "execution_count": null,
   "id": "1dbdf54b",
   "metadata": {},
   "outputs": [],
   "source": []
  },
  {
   "cell_type": "markdown",
   "id": "c9c51aad",
   "metadata": {},
   "source": [
    "### Lệnh copy()\n",
    "\n",
    "Cú pháp:\n",
    "\n",
    "`<tên list>.copy()`\n",
    "\n",
    "##### Dùng lệnh copy sẽ khắc phục được vấn đề gán list a cho b\n",
    "\n",
    "<b> Ví dụ: </b>\n",
    "\n",
    "<code>a = [5,7,1]\n",
    "b = a.copy()\n",
    "a.remove(5)</code>\n",
    "\n",
    "Khi thực hiện 3 lệnh trên, b vẫn sẽ bằng [5,7,1]\n",
    "\n",
    "Lúc này, b sẽ là một list mới độc lập hoàn toàn với a\n",
    "\n",
    "<b> Khai báo list a, dùng lệnh copy cho list b, rồi thêm phần tử vào list a, sau đó in cả 2 list lên màn hình</b>"
   ]
  },
  {
   "cell_type": "code",
   "execution_count": null,
   "id": "46759662",
   "metadata": {},
   "outputs": [],
   "source": []
  },
  {
   "cell_type": "markdown",
   "id": "d8f470e0",
   "metadata": {},
   "source": [
    "### Lệnh len()\n",
    "\n",
    "Tương tự như chuỗi, ta có thể dùng lệnh len cho list để trả về số lượng của list\n",
    "\n",
    "<b> Ví dụ:</b>\n",
    "\n",
    "<code>a = [3,\"Hello\",5,\"hi\"]\n",
    "b = len(a)</code>\n",
    "\n",
    "Giá trị của b là 4\n",
    "\n",
    "<b> Khai báo list a, in lên độ dài của list a </b>"
   ]
  },
  {
   "cell_type": "code",
   "execution_count": 18,
   "id": "dfbcf0db",
   "metadata": {},
   "outputs": [
    {
     "name": "stdout",
     "output_type": "stream",
     "text": [
      "3\n"
     ]
    }
   ],
   "source": [
    "L_quan_an = [\"phở tèo\", \"bánh canh 300k\",\"cua di ba\"]\n",
    "print(len(L_quan_an))"
   ]
  },
  {
   "cell_type": "markdown",
   "id": "8ac29b78",
   "metadata": {},
   "source": [
    "### Duyệt list bằng lệnh for\n",
    "\n",
    "<b> Duyệt list với vị trí </b>"
   ]
  },
  {
   "cell_type": "code",
   "execution_count": 20,
   "id": "1be33622",
   "metadata": {},
   "outputs": [
    {
     "name": "stdout",
     "output_type": "stream",
     "text": [
      "phở tèo\n",
      "bánh canh 300k\n",
      "cua di ba\n"
     ]
    }
   ],
   "source": [
    "L_quan_an = [\"phở tèo\", \"bánh canh 300k\",\"cua di ba\"]\n",
    "\n",
    "for i in range(len(L_quan_an)):\n",
    "    print(L_quan_an[i])"
   ]
  },
  {
   "cell_type": "markdown",
   "id": "53b6e6eb",
   "metadata": {},
   "source": [
    "<b> Duyệt list với giá trị từng phần tử</b>"
   ]
  },
  {
   "cell_type": "code",
   "execution_count": 21,
   "id": "cdf22aa3",
   "metadata": {},
   "outputs": [
    {
     "name": "stdout",
     "output_type": "stream",
     "text": [
      "phở tèo\n",
      "bánh canh 300k\n",
      "cua di ba\n"
     ]
    }
   ],
   "source": [
    "L_quan_an = [\"phở tèo\", \"bánh canh 300k\",\"cua di ba\"]\n",
    "\n",
    "for i in L_quan_an:\n",
    "    print(i)"
   ]
  },
  {
   "cell_type": "code",
   "execution_count": 33,
   "id": "caee61c5-bcb6-4db6-b259-d6308da9e3e9",
   "metadata": {},
   "outputs": [
    {
     "name": "stdout",
     "output_type": "stream",
     "text": [
      "6\n"
     ]
    }
   ],
   "source": [
    "L_quan_an = [\"Phở Tèo\",\"Bánh canh 300k\",\"Cua dì ba\",\"Phở Mộc\",\"Phở Lý Quốc Sư\",\n",
    "             \"Bánh canh cua\",\"Chuyên phở\",\"PHỞ đặc biệt\",\"phở phở\"]\n",
    "\n",
    "### đếm xem có bao nhiêu quán phở trong L_quan_an\n",
    "\n",
    "so_luong = 0\n",
    "for i in L_quan_an:\n",
    "    if \"phở\" in i.lower():\n",
    "        so_luong += 1\n",
    "\n",
    "print(so_luong)"
   ]
  },
  {
   "cell_type": "markdown",
   "id": "3fcda853",
   "metadata": {},
   "source": [
    "### Bài tập"
   ]
  },
  {
   "cell_type": "markdown",
   "id": "72d9a5fa",
   "metadata": {},
   "source": [
    "Nhập vào một dãy số nguyên dương (ngưng nhập nếu người dùng nhập -1)\n",
    "\n",
    "Sau khi nhập hãy:\n",
    "- In ra số lớn nhất trong dãy\n",
    "- In ra số bé nhất trong dãy\n",
    "- In ra dãy số nguyên tố tìm được trong dãy vừa nhập"
   ]
  },
  {
   "cell_type": "code",
   "execution_count": 68,
   "id": "38805cc0",
   "metadata": {},
   "outputs": [
    {
     "name": "stdin",
     "output_type": "stream",
     "text": [
      "nhap so: 1\n",
      "nhap so: 2\n",
      "nhap so: 3\n",
      "nhap so: 4\n",
      "nhap so: 5\n",
      "nhap so: 6\n",
      "nhap so: 7\n",
      "nhap so: -1\n"
     ]
    },
    {
     "name": "stdout",
     "output_type": "stream",
     "text": [
      "[1, 2, 3, 4, 5, 6, 7]\n",
      "7 la so lon nhat\n",
      "1 la so nho nhat\n",
      "day so nguyen to: [2, 3, 5, 7]\n"
     ]
    }
   ],
   "source": [
    "def snt(a):\n",
    "    if a < 2:\n",
    "        return False\n",
    "    for i in range(2, a):\n",
    "        if a % i == 0: \n",
    "            return False\n",
    "    return True\n",
    "\n",
    "L = []\n",
    "\n",
    "while True:\n",
    "    a = int(input(\"nhap so:\"))\n",
    "    if a < 0:\n",
    "        break\n",
    "    L.append(a)\n",
    "    \n",
    "print(L)\n",
    "\n",
    "m = n = L[0]\n",
    "for i in L:\n",
    "    if i > m:\n",
    "        m = i\n",
    "    if i < n:\n",
    "        n = i\n",
    "\n",
    "print(m,\"la so lon nhat\")\n",
    "print(n,\"la so nho nhat\")\n",
    "\n",
    "L_snt = []\n",
    "for i in L:\n",
    "    if snt(i):\n",
    "        L_snt.append(i)\n",
    "        \n",
    "print(\"day so nguyen to:\",L_snt)\n",
    "\n"
   ]
  },
  {
   "cell_type": "markdown",
   "id": "f493bb3e",
   "metadata": {},
   "source": [
    "Viết hàm với dữ liệu đầu vào bao gồm 3 tham số: list, a, b. Hàm này có công dụng tìm số lớn nhất trong đoạn từ vị trí a đến vị trí b trong list."
   ]
  },
  {
   "cell_type": "code",
   "execution_count": 75,
   "id": "a730c2f8",
   "metadata": {},
   "outputs": [
    {
     "name": "stdout",
     "output_type": "stream",
     "text": [
      "15\n"
     ]
    }
   ],
   "source": [
    "def tim_so_lon_nhat(list,a,b):\n",
    "    if a < 0 or a >= len(list) or b < 0 or b >= len(list):\n",
    "        return False\n",
    "    so_lon_nhat = list[a]\n",
    "    for i in range(a+1, b+1):\n",
    "        if list[i] > so_lon_nhat:\n",
    "            so_lon_nhat = list[i]\n",
    "    return so_lon_nhat\n",
    "\n",
    "L = [5,8,12,3,9,15,7,20,11]\n",
    "a = 5\n",
    "b = 1\n",
    "ketqua = tim_so_lon_nhat(L,a,b)\n",
    "print(ketqua)\n"
   ]
  },
  {
   "cell_type": "markdown",
   "id": "87acccb8",
   "metadata": {},
   "source": [
    "Viết hàm có tham số đầu vào là list, giá trị trả về là số lượng số nguyên tố bé hơn 100 trong list"
   ]
  },
  {
   "cell_type": "code",
   "execution_count": 94,
   "id": "c605991d",
   "metadata": {},
   "outputs": [
    {
     "name": "stdout",
     "output_type": "stream",
     "text": [
      "5\n"
     ]
    }
   ],
   "source": [
    "def snt_be_hon_100(list):\n",
    "    def snt(a):\n",
    "        if a < 2:\n",
    "            return False\n",
    "        for i in range(2, a):\n",
    "            if a % i == 0: \n",
    "                return False\n",
    "        return True\n",
    "\n",
    "    so_luong_snt = 0\n",
    "    for i in list:\n",
    "        if snt(i) and i < 100:\n",
    "            so_luong_snt += 1\n",
    "    return so_luong_snt\n",
    "\n",
    "danh_sach = [5, 8, 12, 3, 9, 15, 7, 20, 11, 97, 101]\n",
    "ket_qua = snt_be_hon_100(danh_sach)\n",
    "print(ket_qua)"
   ]
  },
  {
   "cell_type": "markdown",
   "id": "13840ec8",
   "metadata": {},
   "source": [
    "Viết hàm tìm giá trị dương đầu tiên của list, nếu không có giá trị dương trả về -1"
   ]
  },
  {
   "cell_type": "code",
   "execution_count": 96,
   "id": "d7ffb2b7",
   "metadata": {},
   "outputs": [
    {
     "name": "stdout",
     "output_type": "stream",
     "text": [
      "Gia tri duong dau tien trong danh sach la: 3\n"
     ]
    }
   ],
   "source": [
    "def gia_tri_duong_dau_tien(list):\n",
    "    for i in list:\n",
    "        if i > 0:\n",
    "            return i\n",
    "    return -1\n",
    "\n",
    "danh_sach = [-5, 0, 3, -2, 7, 1, 9]\n",
    "ket_qua = gia_tri_duong_dau_tien(danh_sach)\n",
    "print(f\"Gia tri duong dau tien trong danh sach la: {ket_qua}\")"
   ]
  },
  {
   "cell_type": "markdown",
   "id": "0f71c71e",
   "metadata": {},
   "source": [
    "Viết hàm có 2 giá trị đầu vào là list và x. Tìm giá trị trong list xa x nhất"
   ]
  },
  {
   "cell_type": "code",
   "execution_count": 98,
   "id": "03ef7d4c",
   "metadata": {},
   "outputs": [
    {
     "name": "stdout",
     "output_type": "stream",
     "text": [
      "Gia tri xa nhat voi 2 trong danh sach la: [3, 7, 9]\n"
     ]
    }
   ],
   "source": [
    "def gia_tri_xa_x_nhat(list,x):\n",
    "    gia_tri_xa_nhat = []\n",
    "    for i in range(len(list)):\n",
    "        if list[i] >= x:\n",
    "            gia_tri_xa_nhat.append(list[i])\n",
    "    return gia_tri_xa_nhat\n",
    "\n",
    "\n",
    "danh_sach = [-5, 0, 3, -2, 7, 1, 9]\n",
    "gia_tri_x = 2\n",
    "ket_qua = gia_tri_xa_x_nhat(danh_sach, gia_tri_x)\n",
    "print(f\"Gia tri xa nhat voi {gia_tri_x} trong danh sach la: {ket_qua}\")"
   ]
  },
  {
   "cell_type": "markdown",
   "id": "3b634d0f",
   "metadata": {},
   "source": [
    "Một người dùng số tiền là U đô-la và V Euro để mua một loại nguyên liệu sản xuất. \n",
    "\n",
    "Có N công ty nước ngoài bán nguyên liệu trên được đánh số từ 1 đến N. Công ty thứ i có giá bán Ai đô la/1 kg nguyên liệu và Bi Euro/1 kg nguyên liệu. \n",
    "\n",
    "Tuy nhiên, tại mỗi công ty chỉ bán nguyên liệu cho một khách hàng hoặc theo đô-la, hoặc theo Euro. \n",
    "\n",
    "Hãy giúp người đó tìm cách chọn ra 2 công ty để mua hàng sao cho số lượng nguyên liệu sản xuất có thể mua được là nhiều nhất.\n",
    "\n",
    "Nhập vào: Từ bàn phím 3 số theo thứ tự : N U V (1 ≤ N ≤ 20; 1 ≤ U, V ≤ 1000) và N cặp số nguyên Ai, Bi (1 < Ai, Bi < 1000) (nhập lần lượng A1, B1 rồi A2, B2)\n",
    "\n",
    "In ra : Số lượng nguyên liệu S(kg) người đó mua được với 2 chữ số thập phân."
   ]
  },
  {
   "cell_type": "code",
   "execution_count": null,
   "id": "677abefe",
   "metadata": {},
   "outputs": [],
   "source": []
  },
  {
   "cell_type": "code",
   "execution_count": null,
   "id": "90401e4e",
   "metadata": {},
   "outputs": [],
   "source": []
  }
 ],
 "metadata": {
  "kernelspec": {
   "display_name": "Python 3 (ipykernel)",
   "language": "python",
   "name": "python3"
  },
  "language_info": {
   "codemirror_mode": {
    "name": "ipython",
    "version": 3
   },
   "file_extension": ".py",
   "mimetype": "text/x-python",
   "name": "python",
   "nbconvert_exporter": "python",
   "pygments_lexer": "ipython3",
   "version": "3.11.3"
  }
 },
 "nbformat": 4,
 "nbformat_minor": 5
}
