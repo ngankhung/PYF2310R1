{
 "cells": [
  {
   "cell_type": "markdown",
   "id": "5bc93fb0",
   "metadata": {},
   "source": [
    "# Thực hành nhập xuất dữ liệu & chuỗi\n",
    "\n",
    "### Bài tập tra cứu lệnh\n",
    "\n",
    "Nhập vào một chuỗi, kiểm tra xem chuỗi đó có ký tự nào là chữ in hoa hay không, nếu có thì in True, không có thì in False"
   ]
  },
  {
   "cell_type": "code",
   "execution_count": 8,
   "id": "4b3df2ba",
   "metadata": {},
   "outputs": [
    {
     "name": "stdin",
     "output_type": "stream",
     "text": [
      "nhập chuỗi bất kì: dfdfd\n"
     ]
    },
    {
     "data": {
      "text/plain": [
       "True"
      ]
     },
     "execution_count": 8,
     "metadata": {},
     "output_type": "execute_result"
    }
   ],
   "source": [
    "chuoi = input(\"nhập chuỗi bất kì:\")\n",
    "print(not chuoi.islower())\n"
   ]
  },
  {
   "cell_type": "markdown",
   "id": "e14eae7c",
   "metadata": {},
   "source": [
    "Nhập vào một chuỗi, kiểm tra xem chuỗi đó có ký tự nào là chữ in thường hay không, nếu có thì in True, không có thì in False"
   ]
  },
  {
   "cell_type": "code",
   "execution_count": 19,
   "id": "ab00180c",
   "metadata": {},
   "outputs": [
    {
     "name": "stdin",
     "output_type": "stream",
     "text": [
      "nhập chuỗi bất kì: AA\n"
     ]
    },
    {
     "name": "stdout",
     "output_type": "stream",
     "text": [
      "False\n"
     ]
    }
   ],
   "source": [
    "chuoi = input(\"nhập chuỗi bất kì:\")\n",
    "print(not chuoi.isupper())\n"
   ]
  },
  {
   "cell_type": "markdown",
   "id": "eab86ecf",
   "metadata": {},
   "source": [
    "Nhập vào một chuỗi a và chuỗi b, tìm vị trí đầu tiên xuất hiện chuỗi b trong chuỗi a"
   ]
  },
  {
   "cell_type": "code",
   "execution_count": 20,
   "id": "051eb4af",
   "metadata": {},
   "outputs": [
    {
     "name": "stdin",
     "output_type": "stream",
     "text": [
      "nhap chuoi a: xin chao cac ban, xin chao moi nguoi\n",
      "nhap chuoi b: xin chao\n"
     ]
    },
    {
     "data": {
      "text/plain": [
       "0"
      ]
     },
     "execution_count": 20,
     "metadata": {},
     "output_type": "execute_result"
    }
   ],
   "source": [
    "chuoia = input(\"nhap chuoi a:\")\n",
    "chuoib = input(\"nhap chuoi b:\")\n",
    "print(chuoia.find(chuoib))\n"
   ]
  },
  {
   "cell_type": "markdown",
   "id": "9239bc4e",
   "metadata": {},
   "source": [
    "Nhập vào một chuỗi a, hãy xóa từ đầu tiên trong chuỗi a, rồi in ra màn hình"
   ]
  },
  {
   "cell_type": "code",
   "execution_count": 27,
   "id": "90967cd9",
   "metadata": {},
   "outputs": [
    {
     "name": "stdin",
     "output_type": "stream",
     "text": [
      "nhap chuoi a: xin chao cac ban\n"
     ]
    },
    {
     "name": "stdout",
     "output_type": "stream",
     "text": [
      " chao cac ban\n"
     ]
    }
   ],
   "source": [
    "# chuỗi nhập vào chỉ bao gồm ký tự chữ cái, mỗi từ cách nhau 1 khoảng trắng\n",
    "chuoia = input(\"nhap chuoi a:\")\n",
    "khoangtrang = chuoia.find(\" \")\n",
    "print(chuoia[khoangtrang:])\n"
   ]
  },
  {
   "cell_type": "markdown",
   "id": "05b74fb4",
   "metadata": {},
   "source": [
    "### Bài 1\n",
    "\n",
    "Nhập vào một chuỗi, đếm xem có bao nhiêu từ trong chuỗi kết thúc bằng chữ n"
   ]
  },
  {
   "cell_type": "code",
   "execution_count": 35,
   "id": "d126675c",
   "metadata": {},
   "outputs": [
    {
     "name": "stdin",
     "output_type": "stream",
     "text": [
      "nhập chuỗi bất kì: sddsf\n"
     ]
    },
    {
     "name": "stdout",
     "output_type": "stream",
     "text": [
      "tong so tu ket thuc bang n: 0\n"
     ]
    }
   ],
   "source": [
    "chuoi = input(\"nhập chuỗi bất kì:\")\n",
    "chuoi += \" \"\n",
    "dem = chuoi.count(\"n \") + chuoi.count(\"n!\") + chuoi.count(\"n,\") + chuoi.count(\"n.\")\n",
    "print(\"tong so tu ket thuc bang n:\",dem)"
   ]
  },
  {
   "cell_type": "markdown",
   "id": "53a78d35",
   "metadata": {},
   "source": [
    "### Bài 2\n",
    "\n",
    "Nhập vào một chuỗi, kiểm tra xem chuỗi đó có ký tự hoa hoặc ký tự thường hay không."
   ]
  },
  {
   "cell_type": "code",
   "execution_count": 30,
   "id": "f5be8c39",
   "metadata": {},
   "outputs": [
    {
     "name": "stdin",
     "output_type": "stream",
     "text": [
      "nhập chuỗi bất kì: Xin Chao\n"
     ]
    },
    {
     "ename": "TypeError",
     "evalue": "'builtin_function_or_method' object is not subscriptable",
     "output_type": "error",
     "traceback": [
      "\u001b[1;31m---------------------------------------------------------------------------\u001b[0m",
      "\u001b[1;31mTypeError\u001b[0m                                 Traceback (most recent call last)",
      "Cell \u001b[1;32mIn[30], line 2\u001b[0m\n\u001b[0;32m      1\u001b[0m chuoi \u001b[38;5;241m=\u001b[39m \u001b[38;5;28minput\u001b[39m(\u001b[38;5;124m\"\u001b[39m\u001b[38;5;124mnhập chuỗi bất kì:\u001b[39m\u001b[38;5;124m\"\u001b[39m)\n\u001b[1;32m----> 2\u001b[0m dem \u001b[38;5;241m=\u001b[39m \u001b[43mchuoi\u001b[49m\u001b[38;5;241;43m.\u001b[39;49m\u001b[43mcount\u001b[49m\u001b[43m[\u001b[49m\u001b[38;5;241;43m0\u001b[39;49m\u001b[43m]\u001b[49m\n\u001b[0;32m      3\u001b[0m dem\u001b[38;5;241m.\u001b[39misupper()\n",
      "\u001b[1;31mTypeError\u001b[0m: 'builtin_function_or_method' object is not subscriptable"
     ]
    }
   ],
   "source": [
    "chuoi = input(\"nhập chuỗi bất kì:\")\n",
    "dem = chuoi.count[0]\n",
    "dem.isupper()"
   ]
  },
  {
   "cell_type": "markdown",
   "id": "64ca662e",
   "metadata": {},
   "source": [
    "### Bài 3\n",
    "\n",
    "Nhập vào một chuỗi, kiểm tra tính đối xứng của chuỗi đó"
   ]
  },
  {
   "cell_type": "code",
   "execution_count": 37,
   "id": "749f4136",
   "metadata": {},
   "outputs": [
    {
     "name": "stdin",
     "output_type": "stream",
     "text": [
      "nhập chuỗi bất kì: 123231\n"
     ]
    },
    {
     "name": "stdout",
     "output_type": "stream",
     "text": [
      "False\n"
     ]
    }
   ],
   "source": [
    "chuoi = input(\"nhập chuỗi bất kì:\")\n",
    "chuoi_dao = chuoi[::-1]\n",
    "print(chuoi == chuoi_dao)"
   ]
  },
  {
   "cell_type": "markdown",
   "id": "85dd8fef",
   "metadata": {},
   "source": [
    "### Bài 4\n",
    "\n",
    "Nhập vào một chuỗi, in ra các ký tự trong chuỗi và nếu là ký tự hoa thì in kèm True, ký tự thường thì in kèm False"
   ]
  },
  {
   "cell_type": "code",
   "execution_count": 52,
   "id": "0d099247",
   "metadata": {},
   "outputs": [
    {
     "name": "stdin",
     "output_type": "stream",
     "text": [
      "nhập chuỗi bất kì: AAvbv\n"
     ]
    },
    {
     "name": "stdout",
     "output_type": "stream",
     "text": [
      "A True\n",
      "A True\n",
      "v False\n",
      "b False\n",
      "v False\n"
     ]
    }
   ],
   "source": [
    "chuoi = input(\"nhập chuỗi bất kì:\")\n",
    "index = 0\n",
    "for i in range(len(chuoi)):\n",
    "    print(chuoi[index],chuoi[index].isupper())\n",
    "    index += 1"
   ]
  },
  {
   "cell_type": "markdown",
   "id": "1373dc74",
   "metadata": {},
   "source": [
    "### Bài 5\n",
    "\n",
    "Nhập vào một chuỗi, tìm các ký tự chỉ xuất hiện một lần trong chuỗi (nếu xuất hiện 1 lần in true, xuất hiện nhiều lần in false)\n",
    "\n",
    "Ví dụ:\n",
    "\n",
    "Nhập chuỗi: \"ABAbc\"\n",
    "\n",
    "In:\n",
    "\n",
    "A: False\n",
    "\n",
    "B: True\n",
    "\n",
    "A: False\n",
    "\n",
    "b: True\n",
    "\n",
    "c: True"
   ]
  },
  {
   "cell_type": "code",
   "execution_count": 10,
   "id": "a93bc53d",
   "metadata": {},
   "outputs": [
    {
     "name": "stdin",
     "output_type": "stream",
     "text": [
      "nhập chuỗi bất kì: ABAbc\n"
     ]
    },
    {
     "name": "stdout",
     "output_type": "stream",
     "text": [
      "A False\n",
      "B True\n",
      "A False\n",
      "b True\n",
      "c True\n"
     ]
    }
   ],
   "source": [
    "chuoi = input(\"nhập chuỗi bất kì:\")\n",
    "index = 0\n",
    "for i in range(len(chuoi)):\n",
    "    print(chuoi[index],chuoi.count(chuoi[index]) == 1)\n",
    "    index += 1"
   ]
  },
  {
   "cell_type": "markdown",
   "id": "69bebf4c",
   "metadata": {},
   "source": [
    "### Bài 6\n",
    "\n",
    "Nhập vào một chuỗi, kiểm tra trong chuỗi có con số hay không, nếu có in True, không có in False"
   ]
  },
  {
   "cell_type": "code",
   "execution_count": 16,
   "id": "1b4eab4f",
   "metadata": {},
   "outputs": [
    {
     "name": "stdin",
     "output_type": "stream",
     "text": [
      "nhập chuỗi bất kì: 132154\n"
     ]
    },
    {
     "name": "stdout",
     "output_type": "stream",
     "text": [
      "True\n"
     ]
    }
   ],
   "source": [
    "chuoi = input(\"nhập chuỗi bất kì:\")\n",
    "print(not chuoi.isalpha())"
   ]
  },
  {
   "cell_type": "code",
   "execution_count": 6,
   "id": "2f32fb9c-d161-4db9-a3ef-72e43ac6e53e",
   "metadata": {},
   "outputs": [
    {
     "name": "stdin",
     "output_type": "stream",
     "text": [
      "nhập chuỗi bất kì: 123a\n"
     ]
    },
    {
     "ename": "NameError",
     "evalue": "name 'false' is not defined",
     "output_type": "error",
     "traceback": [
      "\u001b[1;31m---------------------------------------------------------------------------\u001b[0m",
      "\u001b[1;31mNameError\u001b[0m                                 Traceback (most recent call last)",
      "Cell \u001b[1;32mIn[6], line 3\u001b[0m\n\u001b[0;32m      1\u001b[0m chuoi \u001b[38;5;241m=\u001b[39m \u001b[38;5;28minput\u001b[39m(\u001b[38;5;124m\"\u001b[39m\u001b[38;5;124mnhập chuỗi bất kì:\u001b[39m\u001b[38;5;124m\"\u001b[39m)\n\u001b[0;32m      2\u001b[0m index \u001b[38;5;241m=\u001b[39m \u001b[38;5;241m0\u001b[39m\n\u001b[1;32m----> 3\u001b[0m ketqua \u001b[38;5;241m=\u001b[39m \u001b[43mfalse\u001b[49m\n\u001b[0;32m      4\u001b[0m \u001b[38;5;28;01mfor\u001b[39;00m i \u001b[38;5;129;01min\u001b[39;00m \u001b[38;5;28mrange\u001b[39m(\u001b[38;5;28mlen\u001b[39m(chuoi)):\n\u001b[0;32m      5\u001b[0m     \u001b[38;5;28mprint\u001b[39m(chuoi[index],chuoi[index]\u001b[38;5;241m.\u001b[39misnumeric())\n",
      "\u001b[1;31mNameError\u001b[0m: name 'false' is not defined"
     ]
    }
   ],
   "source": [
    "chuoi = input(\"nhập chuỗi bất kì:\")\n",
    "index = 0\n",
    "ketqua = false\n",
    "for i in range(len(chuoi)):\n",
    "    print(chuoi[index],chuoi[index].isnumeric())\n",
    "    ketuqa = chuoi[index].isnumeric() #ketqua sẽ theo kí tự cuối cùng\n",
    "    index +=1\n",
    "print(\"ketqua:\",ketqua)"
   ]
  },
  {
   "cell_type": "code",
   "execution_count": null,
   "id": "0e07b3ca-86ce-4aba-baf6-4c1405b408cf",
   "metadata": {},
   "outputs": [],
   "source": [
    "chuoi = input(\"nhập chuỗi bất kì:\")\n",
    "index = 0\n",
    "ketqua = false\n",
    "for i in range(len(chuoi)):\n",
    "    print(chuoi[index],chuoi[index].isnumeric())\n",
    "    ketuqa = ketqua or chuoi[index].isnumeric()\n",
    "    index +=1\n",
    "print(\"ketqua:\",ketqua)"
   ]
  },
  {
   "cell_type": "code",
   "execution_count": null,
   "id": "e5debed6-b92c-45c0-b20f-b4c9d8e1d7f0",
   "metadata": {},
   "outputs": [],
   "source": [
    "chuoi = input(\"nhập chuỗi bất kì:\")\n",
    "index = 0\n",
    "ketqua = false\n",
    "for i in range(len(chuoi)):\n",
    "    ketuqa = ketqua or chuoi[index].isnumeric()\n",
    "    index +=1\n",
    "print(\"ketqua:\",ketqua)"
   ]
  },
  {
   "cell_type": "markdown",
   "id": "1e51403c",
   "metadata": {},
   "source": [
    "### Bài 7\n",
    "\n",
    "Nhập vào một chuỗi, tách những con số có trong chuỗi ra rồi tính tổng của chúng\n",
    "\n",
    "In tổng lên màn hình"
   ]
  },
  {
   "cell_type": "code",
   "execution_count": 9,
   "id": "a34e349d",
   "metadata": {},
   "outputs": [
    {
     "name": "stdin",
     "output_type": "stream",
     "text": [
      "nhập chuỗi bất kì: 12d22\n"
     ]
    },
    {
     "name": "stdout",
     "output_type": "stream",
     "text": [
      "7\n"
     ]
    }
   ],
   "source": [
    "chuoi = input(\"nhập chuỗi bất kì:\")\n",
    "tong = chuoi.count(\"1\") + chuoi.count(\"2\")*2 + chuoi.count(\"3\")*3 + chuoi.count(\"4\")*4 + chuoi.count(\"5\")*5 + chuoi.count(\"6\")*6 + \\\n",
    "chuoi.count(\"7\")*7 + chuoi.count(\"8\")*8 + chuoi.count(\"9\")*9\n",
    "print(tong)"
   ]
  },
  {
   "cell_type": "code",
   "execution_count": 8,
   "id": "56d3d528-c4e4-4cc1-a37e-eadeb0d30b87",
   "metadata": {},
   "outputs": [
    {
     "name": "stdin",
     "output_type": "stream",
     "text": [
      "nhập chuỗi bất kì: 12d22\n"
     ]
    },
    {
     "name": "stdout",
     "output_type": "stream",
     "text": [
      "7\n"
     ]
    }
   ],
   "source": [
    "chuoi = input(\"nhập chuỗi bất kì:\")\n",
    "tong = 0\n",
    "so = 1\n",
    "for i in range(9):\n",
    "    tong += chuoi.count(str(so))*so\n",
    "    so += 1\n",
    "print(tong)"
   ]
  },
  {
   "cell_type": "markdown",
   "id": "e951779d",
   "metadata": {},
   "source": [
    "### Bài 8\n",
    "\n",
    "Nhập vào một chuỗi, đảo ngược chuỗi đã nhập rồi in ra màn hình"
   ]
  },
  {
   "cell_type": "code",
   "execution_count": null,
   "id": "9305f0f1",
   "metadata": {},
   "outputs": [],
   "source": []
  },
  {
   "cell_type": "markdown",
   "id": "04194b5c",
   "metadata": {},
   "source": [
    "### Bài 9\n",
    "\n",
    "Nhập vào một chuỗi, kiểm tra xem mỗi từ trong chuỗi có được viết hoa chữ cái đầu hay không, nếu tất cả đều được viết hoa thì in ra True, còn không thì in ra False\n",
    "\n",
    "Trong trường hợp là False, hãy viết hoa tất cả các chữ cái đầu của mỗi từ rồi in lên màn hình\n",
    "\n",
    "Cách làm thông thường:"
   ]
  },
  {
   "cell_type": "code",
   "execution_count": null,
   "id": "9f947c7d",
   "metadata": {},
   "outputs": [],
   "source": []
  },
  {
   "cell_type": "markdown",
   "id": "f43e32af",
   "metadata": {},
   "source": [
    "Cách sử dụng lệnh có sẵn:"
   ]
  },
  {
   "cell_type": "code",
   "execution_count": null,
   "id": "714f1412",
   "metadata": {},
   "outputs": [],
   "source": []
  }
 ],
 "metadata": {
  "kernelspec": {
   "display_name": "Python 3 (ipykernel)",
   "language": "python",
   "name": "python3"
  },
  "language_info": {
   "codemirror_mode": {
    "name": "ipython",
    "version": 3
   },
   "file_extension": ".py",
   "mimetype": "text/x-python",
   "name": "python",
   "nbconvert_exporter": "python",
   "pygments_lexer": "ipython3",
   "version": "3.11.3"
  }
 },
 "nbformat": 4,
 "nbformat_minor": 5
}
