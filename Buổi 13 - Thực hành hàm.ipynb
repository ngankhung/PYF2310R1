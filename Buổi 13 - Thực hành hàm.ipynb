{
 "cells": [
  {
   "cell_type": "markdown",
   "id": "028ffec3",
   "metadata": {},
   "source": [
    "# Thực hành hàm\n",
    "\n",
    "### Bài 1\n",
    "\n",
    "Viết hàm có dữ liệu đầu vào là 2 số a và b, số nào lớn hơn thì in bảng cửu chương của số đó"
   ]
  },
  {
   "cell_type": "code",
   "execution_count": 1,
   "id": "1974966b",
   "metadata": {},
   "outputs": [
    {
     "name": "stdout",
     "output_type": "stream",
     "text": [
      "10 x 1 = 10\n",
      "10 x 2 = 20\n",
      "10 x 3 = 30\n",
      "10 x 4 = 40\n",
      "10 x 5 = 50\n",
      "10 x 6 = 60\n",
      "10 x 7 = 70\n",
      "10 x 8 = 80\n",
      "10 x 9 = 90\n",
      "10 x 10 = 100\n"
     ]
    }
   ],
   "source": [
    "def ham(a,b):\n",
    "    if a > b:\n",
    "        for i in range(1,11):\n",
    "            print(a, \"x\", i, \"=\",a*i)\n",
    "    else:\n",
    "        for i in range(1,11):\n",
    "            print(b, \"x\", i, \"=\",b*i)\n",
    "\n",
    "ham(10,9)\n"
   ]
  },
  {
   "cell_type": "markdown",
   "id": "9de8ffaa",
   "metadata": {},
   "source": [
    "### Bài 2\n",
    "\n",
    "Viết hàm `xoachuoi` có dữ liệu đầu vào là 2 chuỗi a và b, hãy tìm trong chuỗi a có chuỗi b hay không, nếu có hãy xóa toán bộ chuỗi b trong a.\n",
    "\n",
    "Sau đó trả về chuỗi a mới\n",
    "\n",
    "Ví dụ:\n",
    "\n",
    "chuoi1 = \"xin chào các bạn, các bạn có khỏe không?\"\n",
    "\n",
    "chuoi2 = \"các bạn\"\n",
    "\n",
    "chuoi3 = xoachuoi(chuoi1,chuoi2)\n",
    "\n",
    "print(chuoi3)\n",
    "\n",
    "Kết quả in ra là:\n",
    "xin chào ,  có khỏe không"
   ]
  },
  {
   "cell_type": "code",
   "execution_count": 3,
   "id": "05de1584",
   "metadata": {},
   "outputs": [
    {
     "name": "stdout",
     "output_type": "stream",
     "text": [
      "xin chao ,  co khoe khong?\n"
     ]
    }
   ],
   "source": [
    "def xoachuoi(chuoi1,chuoi2):\n",
    "    vt = chuoi1.find(chuoi2)\n",
    "    #khi chuoi2 không có trong chuoi1 thì lệnh find sẽ trả về -1\n",
    "    while vt != -1: ## tim cho đên khi nào chuoi2 không còn trong chuoi1\n",
    "        #xóa chuoi1 trong chuoi2 bằng phương thức cắt chuỗi\n",
    "        chuoi1 = chuoi1[:vt] + chuoi1[vt + len(chuoi2):]\n",
    "        #tim lại vt mới\n",
    "        vt = chuoi1.find(chuoi2)\n",
    "    return chuoi1\n",
    "    \n",
    "chuoi1 = \"xin chao cac ban, cac ban co khoe khong?\"\n",
    "\n",
    "chuoi2 = \"cac ban\"\n",
    "\n",
    "chuoi3 = xoachuoi(chuoi1,chuoi2)\n",
    "\n",
    "print(chuoi3)       "
   ]
  },
  {
   "cell_type": "code",
   "execution_count": 2,
   "id": "5874231d-5e21-4d21-8a5d-b9825df33944",
   "metadata": {},
   "outputs": [
    {
     "name": "stdout",
     "output_type": "stream",
     "text": [
      "xin chao ,  co khoe khong?\n"
     ]
    }
   ],
   "source": [
    "def xoachuoi(chuoi1,chuoi2):\n",
    "    chuoi3 = chuoi1.replace(chuoi2,\"\")\n",
    "    return chuoi3\n",
    "\n",
    "chuoi1 = \"xin chao cac ban, cac ban co khoe khong?\"\n",
    "\n",
    "chuoi2 = \"cac ban\"\n",
    "\n",
    "chuoi3 = xoachuoi(chuoi1,chuoi2)\n",
    "\n",
    "print(chuoi3)"
   ]
  },
  {
   "cell_type": "markdown",
   "id": "d626394e",
   "metadata": {},
   "source": [
    "### Bài 3\n",
    "\n",
    "Viết hàm `kiemtramatkhau` với dữ liệu đầu vào là 1 chuỗi có công dụng như sau:\n",
    "\n",
    "Kiểm tra xem chuỗi đầu vào có phải là mật khẩu mạnh hay không, nếu có trả về True, nếu không trả về False\n",
    "\n",
    "Mật khẩu mạnh là mật khẩu phải có ít nhất 1 chữ hoa, 1 chữ thường, 1 số và 1 ký tự đặc biệt"
   ]
  },
  {
   "cell_type": "code",
   "execution_count": 5,
   "id": "875d88f5",
   "metadata": {},
   "outputs": [
    {
     "name": "stdout",
     "output_type": "stream",
     "text": [
      "True\n"
     ]
    }
   ],
   "source": [
    "def kiemtramatkhau(matkhau):\n",
    "    check_so = False\n",
    "    check_hoa = False\n",
    "    check_thuong = False\n",
    "    check_dac_biet = False\n",
    "    for i in matkhau:\n",
    "        if i.isnumeric():\n",
    "            check_so = True\n",
    "        elif i.isupper():\n",
    "            check_hoa = True    \n",
    "        elif i.islower():\n",
    "            check_thuong = True\n",
    "        else:\n",
    "            check_dac_biet = True\n",
    "    return check_so and check_hoa and check_thuong and check_dac_biet\n",
    "    \n",
    "ketqua = kiemtramatkhau(\"Ab23@3jH\")\n",
    "print(ketqua)\n",
    "    "
   ]
  },
  {
   "cell_type": "markdown",
   "id": "1572568f",
   "metadata": {},
   "source": [
    "### Bài 4\n",
    "\n",
    "Viết hàm có 5 dữ liệu đầu vào là 5 số nguyên, tìm giá trị lớn nhì trong 5 số đó"
   ]
  },
  {
   "cell_type": "code",
   "execution_count": 6,
   "id": "876707ae",
   "metadata": {},
   "outputs": [
    {
     "name": "stdout",
     "output_type": "stream",
     "text": [
      "6\n"
     ]
    }
   ],
   "source": [
    "def timsolonnhi(a,b,c,d,e):\n",
    "    ## dua so lon nhat len a\n",
    "    if a < b:\n",
    "        a, b = b, a\n",
    "    if a < c:\n",
    "        a, c = c, a\n",
    "    if a < d:\n",
    "        a, d = d, a\n",
    "    if a < e:\n",
    "        a, e = e, a\n",
    "    ## dua so lon nhi len b\n",
    "    if b < c:\n",
    "        b, c = c, b\n",
    "    if b < d:\n",
    "        b, d = d, b\n",
    "    if b < e:\n",
    "        b, e = e, b\n",
    "    ## tra ve b\n",
    "    return b\n",
    "\n",
    "ketqua = timsolonnhi(5,6,1,9,4)\n",
    "print(ketqua)\n"
   ]
  },
  {
   "cell_type": "markdown",
   "id": "974d7da1",
   "metadata": {},
   "source": [
    "### Bài 5\n",
    "\n",
    "Nhập vào 2 cặp tọa độ tâm đường tròn và 2 bán kính R\n",
    "\n",
    "Hãy vẽ 2 hình tròn theo tọa độ và bán kính trên (tọa độ thứ nhất và bán kính thứ nhất là hình tròn thứ nhất, tọa độ thứ 2 với bán kính thứ 2 là hình tròn thứ hai)\n",
    "\n",
    "Viết hàm kiểm tra xem 2 hình tròn trên cắt nhau bao nhiêu điểm"
   ]
  },
  {
   "cell_type": "code",
   "execution_count": null,
   "id": "f7722021",
   "metadata": {},
   "outputs": [],
   "source": []
  },
  {
   "cell_type": "markdown",
   "id": "a2157de8",
   "metadata": {},
   "source": [
    "### Bài 6\n",
    "\n",
    "Nhập vào 2 tọa độ là 2 đỉnh của một hình chữ nhật\n",
    "\n",
    "Sau đó\n",
    "\n",
    "Nhập vào tọa độ tâm đường tròn và bán kính R\n",
    "\n",
    "Hãy vẽ hình hình chữ nhật và đường tròn trên\n",
    "\n",
    "Viết hàm kiểm tra xem đường tròn trên và hình chữ nhật cắt nhau tại bao nhiêu điểm"
   ]
  },
  {
   "cell_type": "code",
   "execution_count": null,
   "id": "e0d7b1a2",
   "metadata": {},
   "outputs": [],
   "source": []
  },
  {
   "cell_type": "markdown",
   "id": "1a7876cf-3e83-4aab-9813-80887723edb6",
   "metadata": {},
   "source": [
    "### Bài 7\n",
    "\n",
    "Viết hàm kiểm tra số nguyên tố\n",
    "\n",
    "Viết hàm kiểm tra số hoàn hảo\n",
    "\n",
    "Viết hàm kiểm tra số chính phương\n",
    "\n",
    "Viết hàm kiểm tra số Armstrong\n",
    "\n",
    "Nhập vào một chuỗi, hãy lọc và tìm ra những số ở trong chuỗi (2 chữ số liền nhau là một số)\n",
    "\n",
    "Ví dụ chuỗi: \"AB25SDc5DSjjh52\"\n",
    "\n",
    "Trong chuỗi này ta có 3 số: 25, 5 và 52\n",
    "\n",
    "Sau khi lọc số, dùng các hàm trên để kiểm tra và thực hiện như sau:\n",
    "\n",
    "Cho biến S\n",
    "\n",
    "- Nếu số đó là số nguyên tố, ta thực hiện S += số đó\n",
    "- Nếu số đó là số hoàn hảo, ta thực hiện S -= số đó\n",
    "- Nếu số đó là số chính phương, ta thực hiện S /= số đó\n",
    "- Nếu đó là số Armstrong ta cho S = 0\n",
    "\n",
    "Hãy tính và in S"
   ]
  },
  {
   "cell_type": "code",
   "execution_count": 4,
   "id": "0b699e33",
   "metadata": {},
   "outputs": [
    {
     "name": "stdin",
     "output_type": "stream",
     "text": [
      "nhap vao chuoi: AB25SDc5DSjjh52\n"
     ]
    },
    {
     "name": "stdout",
     "output_type": "stream",
     "text": [
      "25\n",
      "5\n",
      "52\n"
     ]
    },
    {
     "ename": "TypeError",
     "evalue": "'int' object is not iterable",
     "output_type": "error",
     "traceback": [
      "\u001b[1;31m---------------------------------------------------------------------------\u001b[0m",
      "\u001b[1;31mTypeError\u001b[0m                                 Traceback (most recent call last)",
      "Cell \u001b[1;32mIn[4], line 73\u001b[0m\n\u001b[0;32m     65\u001b[0m \u001b[38;5;66;03m### Cho biến S\u001b[39;00m\n\u001b[0;32m     66\u001b[0m \n\u001b[0;32m     67\u001b[0m \u001b[38;5;66;03m# Nếu số đó là số nguyên tố, ta thực hiện S += số đó\u001b[39;00m\n\u001b[1;32m   (...)\u001b[0m\n\u001b[0;32m     70\u001b[0m \u001b[38;5;66;03m# Nếu đó là số Armstrong ta cho S = 0\u001b[39;00m\n\u001b[0;32m     71\u001b[0m \u001b[38;5;66;03m# Hãy tính và in S\u001b[39;00m\n\u001b[0;32m     72\u001b[0m S \u001b[38;5;241m=\u001b[39m \u001b[38;5;241m0\u001b[39m\n\u001b[1;32m---> 73\u001b[0m \u001b[38;5;28;43;01mfor\u001b[39;49;00m\u001b[43m \u001b[49m\u001b[43mso\u001b[49m\u001b[43m \u001b[49m\u001b[38;5;129;43;01min\u001b[39;49;00m\u001b[43m \u001b[49m\u001b[43mso_trong_chuoi\u001b[49m\u001b[43m:\u001b[49m\n\u001b[0;32m     74\u001b[0m \u001b[43m    \u001b[49m\u001b[38;5;28;43;01mif\u001b[39;49;00m\u001b[43m \u001b[49m\u001b[43msnt\u001b[49m\u001b[43m(\u001b[49m\u001b[43mso\u001b[49m\u001b[43m)\u001b[49m\u001b[43m:\u001b[49m\n\u001b[0;32m     75\u001b[0m \u001b[43m        \u001b[49m\u001b[43mS\u001b[49m\u001b[43m \u001b[49m\u001b[38;5;241;43m+\u001b[39;49m\u001b[38;5;241;43m=\u001b[39;49m\u001b[43m \u001b[49m\u001b[43mso\u001b[49m\n",
      "\u001b[1;31mTypeError\u001b[0m: 'int' object is not iterable"
     ]
    }
   ],
   "source": [
    "### Viết hàm kiểm tra số nguyên tố\n",
    "\n",
    "def snt(a):\n",
    "    if a < 2:\n",
    "        return False\n",
    "    for i in range(2, a):\n",
    "        if a % i == 0: \n",
    "            return False\n",
    "    return True\n",
    "\n",
    "### Viết hàm kiểm tra số hoàn hảo\n",
    "\n",
    "def hoanhao(a):\n",
    "    if a <= 0:\n",
    "        return False\n",
    "        \n",
    "    tong_uoc = 0\n",
    "    \n",
    "    for i in range(1,a):\n",
    "        if a % i == 0:\n",
    "            tong_uoc += i\n",
    "    return tong_uoc == a\n",
    "\n",
    "### Viết hàm kiểm tra số chính phương\n",
    "\n",
    "def chinhphuong(a):\n",
    "    if a < 0 :\n",
    "        return False\n",
    "    for i in range(1, a+1):\n",
    "        if i*i == a:\n",
    "            return True\n",
    "    return False\n",
    "\n",
    "### Viết hàm kiểm tra số Armstrong\n",
    "\n",
    "def armstrong(a):\n",
    "    if a < 0:\n",
    "        return False\n",
    "        \n",
    "    so_luong_chu_so = len(str(a))\n",
    "    tong = 0\n",
    "    luu_a = a\n",
    "\n",
    "    while a != 0:\n",
    "        b = so % 10\n",
    "        tong += b ** so_luong_chu_so\n",
    "        a //= 10\n",
    "    return tong == a\n",
    "\n",
    "### Nhập vào một chuỗi, hãy lọc và tìm ra những số ở trong chuỗi (2 chữ số liền nhau là một số)\n",
    "\n",
    "chuoi = input(\"nhap vao chuoi:\")\n",
    "\n",
    "chuoi_tam = \"\"\n",
    "chuoi += \" \"\n",
    "so_trong_chuoi = 0\n",
    "for i in chuoi:\n",
    "    if i.isnumeric():\n",
    "        chuoi_tam += i\n",
    "    else:\n",
    "        if chuoi_tam != \"\":\n",
    "            print(chuoi_tam)\n",
    "            chuoi_tam = \"\"\n",
    "        so_trong_chuoi == chuoi_tam\n",
    "### Cho biến S\n",
    "\n",
    "# Nếu số đó là số nguyên tố, ta thực hiện S += số đó\n",
    "# Nếu số đó là số hoàn hảo, ta thực hiện S -= số đó\n",
    "# Nếu số đó là số chính phương, ta thực hiện S /= số đó\n",
    "# Nếu đó là số Armstrong ta cho S = 0\n",
    "# Hãy tính và in S\n",
    "S = 0\n",
    "for so in so_trong_chuoi:\n",
    "    if snt(so):\n",
    "        S += so\n",
    "    elif hoanhao(so):\n",
    "        S -= so\n",
    "    elif chinhphuong(so):\n",
    "        S /= so\n",
    "    elif armstrong(so):\n",
    "        S = 0\n",
    "print(S)"
   ]
  }
 ],
 "metadata": {
  "kernelspec": {
   "display_name": "Python 3 (ipykernel)",
   "language": "python",
   "name": "python3"
  },
  "language_info": {
   "codemirror_mode": {
    "name": "ipython",
    "version": 3
   },
   "file_extension": ".py",
   "mimetype": "text/x-python",
   "name": "python",
   "nbconvert_exporter": "python",
   "pygments_lexer": "ipython3",
   "version": "3.11.3"
  }
 },
 "nbformat": 4,
 "nbformat_minor": 5
}
