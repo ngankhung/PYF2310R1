{
 "cells": [
  {
   "cell_type": "code",
   "execution_count": 18,
   "id": "c93ddd9e-9ceb-470a-be2b-fe497c105b8a",
   "metadata": {},
   "outputs": [
    {
     "name": "stdout",
     "output_type": "stream",
     "text": [
      "914a\n"
     ]
    }
   ],
   "source": [
    "i = 0\n",
    "\n",
    "j = 20\n",
    "\n",
    "while True:\n",
    "\n",
    "    j -= 2\n",
    "\n",
    "    i += 3\n",
    "\n",
    "    if i >= j:\n",
    "\n",
    "        break\n",
    "\n",
    "    if j > 15:\n",
    "\n",
    "        continue\n",
    "\n",
    "    print(i, j, sep=\"\", end=\"\")\n",
    "\n",
    "else:\n",
    "\n",
    "    print(j, end=\"\")\n",
    "\n",
    "print(\"a\")"
   ]
  },
  {
   "cell_type": "code",
   "execution_count": 15,
   "id": "12f6e09d-3e01-4da1-a011-2d89fa64bd4a",
   "metadata": {},
   "outputs": [
    {
     "ename": "IndentationError",
     "evalue": "expected an indented block after 'if' statement on line 1 (3292445720.py, line 2)",
     "output_type": "error",
     "traceback": [
      "\u001b[1;36m  Cell \u001b[1;32mIn[15], line 2\u001b[1;36m\u001b[0m\n\u001b[1;33m    print(\"foo\")\u001b[0m\n\u001b[1;37m    ^\u001b[0m\n\u001b[1;31mIndentationError\u001b[0m\u001b[1;31m:\u001b[0m expected an indented block after 'if' statement on line 1\n"
     ]
    }
   ],
   "source": [
    "if (1, 2):\n",
    "print(\"foo\")"
   ]
  },
  {
   "cell_type": "code",
   "execution_count": 16,
   "id": "e0170c0b-ac7e-43bb-9e02-d3b399b70d9b",
   "metadata": {},
   "outputs": [
    {
     "name": "stdout",
     "output_type": "stream",
     "text": [
      "foo\n"
     ]
    }
   ],
   "source": [
    "if (1, 2):\n",
    "                print(\"foo\")"
   ]
  },
  {
   "cell_type": "code",
   "execution_count": 17,
   "id": "6a83c9a0-0a33-467b-a221-10b11db3f108",
   "metadata": {},
   "outputs": [
    {
     "name": "stdout",
     "output_type": "stream",
     "text": [
      "foo\n"
     ]
    }
   ],
   "source": [
    "if (1, 2): print(\"foo\")"
   ]
  }
 ],
 "metadata": {
  "kernelspec": {
   "display_name": "Python 3 (ipykernel)",
   "language": "python",
   "name": "python3"
  },
  "language_info": {
   "codemirror_mode": {
    "name": "ipython",
    "version": 3
   },
   "file_extension": ".py",
   "mimetype": "text/x-python",
   "name": "python",
   "nbconvert_exporter": "python",
   "pygments_lexer": "ipython3",
   "version": "3.11.3"
  }
 },
 "nbformat": 4,
 "nbformat_minor": 5
}
