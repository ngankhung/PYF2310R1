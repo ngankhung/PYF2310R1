{
 "cells": [
  {
   "cell_type": "markdown",
   "id": "1c805421",
   "metadata": {},
   "source": [
    "# Lớp và đối tượng\n",
    "\n",
    "### Lớp (class) là gì?\n",
    "\n",
    "Lớp (Class) là tập hợp tất cả các đối tượng có chung các thuộc tính và hành vi."
   ]
  },
  {
   "cell_type": "markdown",
   "id": "812bf15e",
   "metadata": {},
   "source": [
    "### Khai báo lớp\n",
    "\n",
    "<code>class \\<tên lớp\\>:\n",
    "    \\<khai báo biến\\>\n",
    "    \\<khai báo hàm\\></code>\n",
    "    \n",
    "Ví dụ:\n",
    "\n",
    "<code>class giangvien:\n",
    "    ten = \"Nguyễn Tâm Điền\"\n",
    "    mon = \"Python căn bản\"\n",
    "    def inten(self):\n",
    "        print(self.ten)        \n",
    "dien = giangvien()\n",
    "print(dien.mon)\n",
    "dien.inten()</code>\n",
    "\n",
    "##### Lưu ý:\n",
    "\n",
    "- giangvien là 1 lớp\n",
    "- dien là 1 đối tượng có tất cả thuộc tính (có biến ten, mon và hàm inten) của lớp giangvien\n",
    "- inten là 1 hàm trong lớp giangvien\n",
    "- dien.mon là 1 biến trong đối tượng dien\n",
    "- dien.inten() là cách để gọi hàm inten trong đối tượng dien\n",
    "\n",
    "\n",
    "<b> Hãy chạy thử đoạn lệnh ở ví dụ: </b>"
   ]
  },
  {
   "cell_type": "code",
   "execution_count": 3,
   "id": "40598ff8",
   "metadata": {},
   "outputs": [
    {
     "name": "stdout",
     "output_type": "stream",
     "text": [
      "Nguyên Thanh Nam\n"
     ]
    }
   ],
   "source": [
    "class giangvien:\n",
    "    ten = \"Nguyễn Tâm Điền\"\n",
    "    mon = \"Python căn bản\"\n",
    "    def inten(self):\n",
    "        print(self.ten)\n",
    "\n",
    "dien = giangvien()\n",
    "nam = giangvien()\n",
    "\n",
    "nam.ten = \"Nguyên Thanh Nam\"\n",
    "nam.mon = \"Python siêu cấp\"\n",
    "\n",
    "#dien.inten()\n",
    "print(nam.ten)"
   ]
  },
  {
   "cell_type": "markdown",
   "id": "6c4daedf",
   "metadata": {},
   "source": [
    "<b> Hãy tạo 1 class hocvien với 1 biến và 1 def giúp in giá trị biến đó ra màn hình </b>"
   ]
  },
  {
   "cell_type": "code",
   "execution_count": 28,
   "id": "5358318d",
   "metadata": {},
   "outputs": [
    {
     "ename": "AttributeError",
     "evalue": "'hocvien' object has no attribute 'tuoi'",
     "output_type": "error",
     "traceback": [
      "\u001b[1;31m---------------------------------------------------------------------------\u001b[0m",
      "\u001b[1;31mAttributeError\u001b[0m                            Traceback (most recent call last)",
      "Cell \u001b[1;32mIn[28], line 30\u001b[0m\n\u001b[0;32m     27\u001b[0m binh\u001b[38;5;241m.\u001b[39mdoituoi(\u001b[38;5;241m-\u001b[39m\u001b[38;5;241m7\u001b[39m)\n\u001b[0;32m     28\u001b[0m \u001b[38;5;66;03m## giữ nguyên tuổi của an vì tuổi đưa vào là số âm\u001b[39;00m\n\u001b[1;32m---> 30\u001b[0m \u001b[38;5;28mprint\u001b[39m(\u001b[43mbinh\u001b[49m\u001b[38;5;241;43m.\u001b[39;49m\u001b[43mtuoi\u001b[49m)\n\u001b[0;32m     31\u001b[0m an\u001b[38;5;241m.\u001b[39mdoituoi(\u001b[38;5;241m15\u001b[39m)\n\u001b[0;32m     32\u001b[0m \u001b[38;5;28mprint\u001b[39m(an\u001b[38;5;241m.\u001b[39mtuoi)\n",
      "\u001b[1;31mAttributeError\u001b[0m: 'hocvien' object has no attribute 'tuoi'"
     ]
    }
   ],
   "source": [
    "### tạo 1 class hocvien\n",
    "### có 1 biến ten\n",
    "### và hàm in giá trị biến ten ra màn hinh\n",
    "class hocvien:\n",
    "    ten = \"An\"\n",
    "    def inten(self):\n",
    "        print(self.ten)\n",
    "    def doiten(self,ten):\n",
    "        self.ten = ten\n",
    "    def doituoi(self,tuoi):\n",
    "        # nếu tuổi mà người dùng muốn đổi là số âm hoặc số 0 thì giữ nguyên tuổi cũ\n",
    "        # nếu tuổi mà người dùng muốn đổi là số dương thì thay đổi tuổi\n",
    "        if tuoi > 0:\n",
    "            self.tuoi = tuoi\n",
    "\n",
    "\n",
    "    \n",
    "        \n",
    "binh = hocvien()\n",
    "\n",
    "binh.doiten(\"Nguyên Thanh Bình\")\n",
    "\n",
    "binh.ten = \"Bình\"\n",
    "\n",
    "an = hocvien()\n",
    "\n",
    "binh.doituoi(-7)\n",
    "## giữ nguyên tuổi của an vì tuổi đưa vào là số âm\n",
    "\n",
    "print(binh.tuoi)\n",
    "an.doituoi(15)\n",
    "print(an.tuoi)\n",
    "\n",
    "### tuổi của an là 15\n",
    "\n",
    "binh.inten()"
   ]
  },
  {
   "cell_type": "markdown",
   "id": "b2481280",
   "metadata": {},
   "source": [
    "### Tham số self\n",
    "\n",
    "Tham số self là tham số được sử dụng khi khai báo các hàm trong lớp\n",
    "\n",
    "Tham số self miêu tả chính lớp ta đang xây dựng, giúp chúng ta sử dụng được những biến và hàm của lớp đó\n",
    "\n",
    "Ví dụ:\n",
    "\n",
    "<code>class giangvien:\n",
    "    ten = \"Nguyễn Tâm Điền\"\n",
    "    mon = \"Python căn bản\"\n",
    "    def doiten(self,ten):\n",
    "        self.ten = ten\n",
    "    def inten(self):\n",
    "        print(self.ten)        \n",
    "dien = giangvien()\n",
    "dien.doiten(\"NTD\")\n",
    "dien.inten()</code>\n",
    "\n",
    "Sau khi thực hiện đoạn code trên, giá trị của biến ten trong đối tượng dien đã bị thay đổi thành \"NTD\"\n",
    "\n",
    "<b> Hãy chạy thử đoạn lệnh ở ví dụ: </b>"
   ]
  },
  {
   "cell_type": "code",
   "execution_count": null,
   "id": "fd2f5d7c",
   "metadata": {},
   "outputs": [],
   "source": []
  },
  {
   "cell_type": "markdown",
   "id": "4dfd8d1d",
   "metadata": {},
   "source": [
    "<b> Hãy thêm 1 def vào class hocvien giúp thay đổi giá trị biến bất kỳ trong class </b>"
   ]
  },
  {
   "cell_type": "code",
   "execution_count": null,
   "id": "98d911c0",
   "metadata": {},
   "outputs": [],
   "source": []
  },
  {
   "cell_type": "markdown",
   "id": "b2909dd4",
   "metadata": {},
   "source": [
    "### Hàm \\_\\_init__\n",
    "\n",
    "Hàm \\_\\_init__ là hàm khởi tạo\n",
    "\n",
    "Ví dụ:\n",
    "\n",
    "<code>class giangvien:\n",
    "    def __init__(self,ten,mon):\n",
    "        self.ten = ten\n",
    "        self.mon = mon\n",
    "    def doiten(self,ten):\n",
    "        self.ten = ten\n",
    "    def inten(self):\n",
    "        print(self.ten)   \n",
    "dien = giangvien(\"Điền\",\"Python căn bản\")\n",
    "thang = giangvien(\"Thắng\",\"Python siêu cấp\")\n",
    "dien.inten()\n",
    "thang.inten()</code>\n",
    "\n",
    "<b> Hãy chạy thử đoạn lệnh ở ví dụ: </b>"
   ]
  },
  {
   "cell_type": "code",
   "execution_count": 9,
   "id": "f15266fb",
   "metadata": {},
   "outputs": [
    {
     "name": "stdout",
     "output_type": "stream",
     "text": [
      "Phạm Khắc An\n"
     ]
    }
   ],
   "source": [
    "class giangvien():\n",
    "    def __init__(self,ten,mon):\n",
    "        self.ten = ten\n",
    "        self.mon = mon\n",
    "\n",
    "dien = giangvien(\"Điền\",\"Python căn bản\")\n",
    "an = giangvien(\"Phạm Khắc An\",\"Python siêu cấp\")\n",
    "print(an.ten)"
   ]
  },
  {
   "cell_type": "markdown",
   "id": "9064cc0a",
   "metadata": {},
   "source": [
    "<b> Hãy thêm 1 def \\_\\_init__ vào class hocvien để khởi tạo tên và tuổi của học viên </b>"
   ]
  },
  {
   "cell_type": "code",
   "execution_count": 11,
   "id": "3e6a0dae",
   "metadata": {},
   "outputs": [
    {
     "name": "stdout",
     "output_type": "stream",
     "text": [
      "20\n",
      "10\n"
     ]
    }
   ],
   "source": [
    "class hocvien():\n",
    "    def __init__(self,ten,tuoi): # nếu như tuổi khởi tạo là số âm hoạc là số 0 thì cho tuổi = 10\n",
    "        self.ten = ten\n",
    "        self.tuoi = tuoi\n",
    "        if tuoi > 0:\n",
    "            self.tuoi = tuoi\n",
    "        else:\n",
    "            self.tuoi = 10\n",
    "            \n",
    "ngoc = hocvien(\"Nguyễn Đức Ngọc\",20)\n",
    "thuy = hocvien(\"Thủy\",-7) ## tuổi của thủy sẽ là 10\n",
    "\n",
    "print(ngoc.tuoi)\n",
    "print(thuy.tuoi)"
   ]
  },
  {
   "cell_type": "markdown",
   "id": "d137f2f5",
   "metadata": {},
   "source": [
    "### Bài tập"
   ]
  },
  {
   "cell_type": "markdown",
   "id": "d243726c",
   "metadata": {},
   "source": [
    "Hãy xây dựng 1 class hình tròn có các thuộc tính sau:\n",
    "\n",
    "- biến x và y chứa tọa độ tâm đường tròn\n",
    "- biến r chứa bán kính đường chọn\n",
    "- hàm draw: để vẽ đường tròn"
   ]
  },
  {
   "cell_type": "code",
   "execution_count": null,
   "id": "4121525f",
   "metadata": {},
   "outputs": [],
   "source": []
  },
  {
   "cell_type": "markdown",
   "id": "9017050f",
   "metadata": {},
   "source": [
    "Tạo một lớp phân số có các thuộc tính:\n",
    "\n",
    "- biến tử số và mẫu số\n",
    "- hàm cong: để cộng với một đối tượng khác có lớp phân số rồi trả về dối tượng có phân số mới\n",
    "- hàm tru: để trừ với một đối tượng khác có lớp phân số rồi trả về dối tượng có phân số mới\n",
    "- hàm nhan: để nhân với một đối tượng khác có lớp phân số rồi trả về dối tượng có phân số mới\n",
    "- hàm chia: để chia với một đối tượng khác có lớp phân số rồi trả về dối tượng có phân số mới\n",
    "- hàm toigian: để tối giản phân số rồi trả về dối tượng có phân số mới"
   ]
  },
  {
   "cell_type": "code",
   "execution_count": 43,
   "id": "2ae72d93",
   "metadata": {},
   "outputs": [
    {
     "name": "stdout",
     "output_type": "stream",
     "text": [
      "19/15\n",
      "-1/15\n",
      "6/15\n",
      "9/10\n",
      "2/5\n"
     ]
    }
   ],
   "source": [
    "class phanso:\n",
    "    def __init__(self,tuso,mauso): #mauso không đc = 0, nếu mauso = 0 thì cho mauso là 1\n",
    "        self.tuso = tuso\n",
    "        self.mauso = mauso\n",
    "        if mauso == 0:\n",
    "            self.mauso = 1\n",
    "    def inphanso(self):\n",
    "        print(self.tuso,\"/\",self.mauso,sep=\"\")\n",
    "    def cong(self,psA):\n",
    "        # psA là đối tượng của lớp phanso\n",
    "        # self là 1 đối tượng phanso\n",
    "        tusomoi = self.tuso * psA.mauso + psA.tuso * self.mauso\n",
    "        mausomoi = self.mauso * psA.mauso\n",
    "        return phanso(tusomoi,mausomoi)\n",
    "    def tru(self,psA):\n",
    "        # self - psA\n",
    "        tusomoi = self.tuso * psA.mauso - psA.tuso * self.mauso\n",
    "        mausomoi = self.mauso * psA.mauso\n",
    "        return phanso(tusomoi,mausomoi)\n",
    "    def nhan(self,psA):\n",
    "        tusomoi = self.tuso * psA.tuso\n",
    "        mausomoi = self.mauso * psA.mauso\n",
    "        return phanso(tusomoi,mausomoi)\n",
    "    def chia(self,psA):\n",
    "        tusomoi = self.tuso * psA.mauso\n",
    "        mausomoi = self.mauso * psA.tuso\n",
    "        return phanso(tusomoi,mausomoi)\n",
    "    # def tim_uscln(a, b):\n",
    "    #     uoc = 1\n",
    "    #     uscln = 1\n",
    "    #     while uoc <= a:\n",
    "    #         if a % uoc == 0 and b % uoc == 0:\n",
    "    #             uscln = uoc\n",
    "    #             uoc += 1\n",
    "    #     return uscln\n",
    "    def toigian(self,psA):\n",
    "        # trả về phân só mới đã tối giản\n",
    "        # không thay đổi tử số và mấu số của self\n",
    "        uoc = self.tuso\n",
    "        if self.mauso < self.tuso:\n",
    "            uoc = self.mauso\n",
    "        while True:\n",
    "            if self.tuso % uoc == 0 and self.mauso % uoc == 0:\n",
    "                break\n",
    "            uoc -= 1\n",
    "        tusomoi = self.tuso // uoc\n",
    "        mausomoi = self.mauso // uoc\n",
    "        return phanso(tusomoi,mausomoi)\n",
    "\n",
    "\n",
    "ps1 = phanso(3,5)\n",
    "ps2 = phanso(2,3)\n",
    "ps3 = ps1.cong(ps2)\n",
    "ps4 = ps1.tru(ps2)\n",
    "ps5 = ps1.nhan(ps2)\n",
    "ps6 = ps1.chia(ps2)\n",
    "ps7 = ps5.toigian(ps2)\n",
    "ps3.inphanso()\n",
    "ps4.inphanso()\n",
    "ps5.inphanso()\n",
    "ps6.inphanso()\n",
    "ps7.inphanso()\n"
   ]
  },
  {
   "cell_type": "markdown",
   "id": "39a8cb80",
   "metadata": {},
   "source": [
    "Viết class NhanVien gồm các thuộc tính:\n",
    "\n",
    "<b> Các biến </b>\n",
    "\n",
    "- Tên\n",
    "- Tuổi\n",
    "- Địa chỉ\n",
    "- Tiền lương\n",
    "- Tổng số giờ làm\n",
    "\n",
    "<b> Các hàm </b>\n",
    "\n",
    "- nhap : Nhập các thông tin cho nhân viên từ bàn phím\n",
    "- in : In ra tất cả các thông tin của nhân viên\n",
    "- thuong: Tính toán và trả về số tiền thưởng của nhân viên theo công thức sau:\n",
    "\n",
    "    Nếu tổng số giờ làm của nhân viên >=200 thì thưởng = lương * 20%\n",
    "    \n",
    "    Nếu tổng số giờ làm của nhân viên <200 và >=100 thì thưởng = lương * 10%\n",
    "    \n",
    "    Nếu tổng số giờ làm của nhân viên <100 thì thưởng = 0"
   ]
  },
  {
   "cell_type": "code",
   "execution_count": 2,
   "id": "26d12a44",
   "metadata": {},
   "outputs": [
    {
     "name": "stdin",
     "output_type": "stream",
     "text": [
      "Nhập tên nhân viên:  sdad\n",
      "Nhập tuổi nhân viên:  12\n",
      "Nhập địa chỉ nhân viên:  13\n",
      "Nhập tiền lương:  5000000\n",
      "Nhập tổng số giờ làm:  49\n"
     ]
    },
    {
     "name": "stdout",
     "output_type": "stream",
     "text": [
      "\n",
      "Thông tin nhân viên:\n"
     ]
    },
    {
     "ename": "AttributeError",
     "evalue": "'nhanvien' object has no attribute 'in_thong_tin'",
     "output_type": "error",
     "traceback": [
      "\u001b[1;31m---------------------------------------------------------------------------\u001b[0m",
      "\u001b[1;31mAttributeError\u001b[0m                            Traceback (most recent call last)",
      "Cell \u001b[1;32mIn[2], line 34\u001b[0m\n\u001b[0;32m     31\u001b[0m nhan_vien\u001b[38;5;241m.\u001b[39mnhap()\n\u001b[0;32m     33\u001b[0m \u001b[38;5;28mprint\u001b[39m(\u001b[38;5;124m\"\u001b[39m\u001b[38;5;130;01m\\n\u001b[39;00m\u001b[38;5;124mThông tin nhân viên:\u001b[39m\u001b[38;5;124m\"\u001b[39m)\n\u001b[1;32m---> 34\u001b[0m \u001b[43mnhan_vien\u001b[49m\u001b[38;5;241;43m.\u001b[39;49m\u001b[43min_thong_tin\u001b[49m()\n\u001b[0;32m     36\u001b[0m thuong \u001b[38;5;241m=\u001b[39m nhan_vien\u001b[38;5;241m.\u001b[39mtinh_thuong()\n\u001b[0;32m     37\u001b[0m \u001b[38;5;28mprint\u001b[39m(\u001b[38;5;124m\"\u001b[39m\u001b[38;5;130;01m\\n\u001b[39;00m\u001b[38;5;124mSố tiền thưởng:\u001b[39m\u001b[38;5;124m\"\u001b[39m, thuong)\n",
      "\u001b[1;31mAttributeError\u001b[0m: 'nhanvien' object has no attribute 'in_thong_tin'"
     ]
    }
   ],
   "source": [
    "class nhanvien:\n",
    "    def __init__(self):\n",
    "        self.ten = \"\"\n",
    "        self.tuoi = 0\n",
    "        self.diachi = \"\"\n",
    "        self.luong = 0\n",
    "        self.tongsogiolam = 0\n",
    "\n",
    "    def nhap(self):\n",
    "        self.ten = input(\"Nhập tên nhân viên: \")\n",
    "        self.tuoi = int(input(\"Nhập tuổi nhân viên: \"))\n",
    "        self.dia_chi = input(\"Nhập địa chỉ nhân viên: \")\n",
    "        self.luong = float(input(\"Nhập tiền lương: \"))\n",
    "        self.tongsogiolam = int(input(\"Nhập tổng số giờ làm: \"))\n",
    "        \n",
    "    def inthongtin(self):\n",
    "        print(\"Tên nhân viên:\", self.ten)\n",
    "        print(\"Tuổi nhân viên:\", self.tuoi)\n",
    "        print(\"Địa chỉ nhân viên:\", self.dia_chi)\n",
    "        print(\"Tiền lương:\", self.luong)\n",
    "        print(\"Tổng số giờ làm:\", self.so_gio_lam)\n",
    "    def thuong(self):\n",
    "        if self.tongsogiolam >= 200:\n",
    "            return self.luong * 0.2\n",
    "        elif 100 <= self.tongsogiolam  < 200:\n",
    "            return self.luong * 0.1\n",
    "        else:\n",
    "            return 0\n"
   ]
  }
 ],
 "metadata": {
  "kernelspec": {
   "display_name": "Python 3 (ipykernel)",
   "language": "python",
   "name": "python3"
  },
  "language_info": {
   "codemirror_mode": {
    "name": "ipython",
    "version": 3
   },
   "file_extension": ".py",
   "mimetype": "text/x-python",
   "name": "python",
   "nbconvert_exporter": "python",
   "pygments_lexer": "ipython3",
   "version": "3.11.3"
  }
 },
 "nbformat": 4,
 "nbformat_minor": 5
}
